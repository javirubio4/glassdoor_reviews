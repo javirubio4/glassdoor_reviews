{
 "cells": [
  {
   "cell_type": "markdown",
   "id": "1b96dab9",
   "metadata": {},
   "source": [
    "# Aspect-Based Sentiment Analysis (ABSA): Cleaning, Detection & Evaluation\n",
    "\n",
    "To extract structured signals from unstructured Glassdoor reviews, this notebook applies **Aspect-Based Sentiment Analysis (ABSA)** on the `pros` and `cons` sections of each review. The final goal is to build company-level summaries of how employees feel about different aspects like “pay”, “management”, or “culture”.\n",
    "\n",
    "We proceed in several key stages:\n",
    "\n",
    "1. **Data Sampling & Cleaning**  \n",
    "   We preprocess a small sample of reviews using four distinct cleaning strategies to test which one yields the most accurate aspect detection and sentiment classification.\n",
    "\n",
    "2. **Modeling Approaches for ABSA**  \n",
    "   We implement two models:\n",
    "   - **PyABSA** for automatic aspect term extraction\n",
    "   - **BERT-based classifier** for assigning sentiment scores to each known aspect\n",
    "\n",
    "3. **Manual Aspect Dictionary Construction**  \n",
    "   Using PyABSA output and domain knowledge, we build an enhanced dictionary of aspects and their keywords (e.g., “pay” includes \"salary\", \"bonus\", etc.).\n",
    "\n",
    "4. **Pipeline Evaluation**  \n",
    "   We test four cleaning variants using a manually annotated evaluation set and compare performance across accuracy metrics.\n",
    "\n",
    "5. **Full Dataset Inference**  \n",
    "   Once the best approach is identified, we apply it to the full dataset to generate aspect-based star ratings, which feed into downstream company analysis, recommendation, and summarization.\n"
   ]
  },
  {
   "cell_type": "code",
   "execution_count": 1,
   "id": "a1630d5f",
   "metadata": {},
   "outputs": [
    {
     "name": "stdout",
     "output_type": "stream",
     "text": [
      "No CUDA GPU found in your device\n"
     ]
    },
    {
     "name": "stderr",
     "output_type": "stream",
     "text": [
      "/bin/sh: nvidia-smi: command not found\n"
     ]
    },
    {
     "name": "stdout",
     "output_type": "stream",
     "text": [
      "[2025-05-14 21:58:45] (2.4.1.post1) PyABSA(2.4.1.post1): If your code crashes on Colab, please use the GPU runtime. Then run \"pip install pyabsa[dev] -U\" and restart the kernel.\n",
      "Or if it does not work, you can use v1.x versions, e.g., pip install pyabsa<2.0 -U\n",
      "\n",
      "\n",
      "\n",
      "\n",
      "WARNING: When you fails to load a checkpoint, e.g., Unexpected key(s),\n",
      "Try to downgrade transformers<=4.29.0.\n",
      "\n",
      "\n",
      "\n",
      "\n"
     ]
    },
    {
     "name": "stderr",
     "output_type": "stream",
     "text": [
      "/opt/anaconda3/lib/python3.12/multiprocessing/pool.py:268: ResourceWarning: unclosed running multiprocessing pool <multiprocessing.pool.Pool state=RUN pool_size=1>\n",
      "  _warn(f\"unclosed running multiprocessing pool {self!r}\",\n",
      "ResourceWarning: Enable tracemalloc to get the object allocation traceback\n"
     ]
    }
   ],
   "source": [
    "import pandas as pd\n",
    "import numpy as np\n",
    "import spacy\n",
    "import nltk\n",
    "import string\n",
    "from transformers import AutoTokenizer, AutoModelForSequenceClassification\n",
    "from scipy.special import softmax\n",
    "import torch\n",
    "from textblob import TextBlob\n",
    "from tqdm.notebook import tqdm\n",
    "from symspellpy import SymSpell, Verbosity\n",
    "import pkg_resources\n",
    "tqdm.pandas()\n",
    "pd.set_option('display.max_colwidth', None)\n",
    "from pyabsa import ATEPCCheckpointManager\n",
    "from collections import defaultdict\n",
    "import pandas as pd\n",
    "import ast, re, itertools\n",
    "from pathlib import Path\n",
    "from sklearn.metrics import f1_score, precision_recall_fscore_support, accuracy_score\n",
    "\n"
   ]
  },
  {
   "cell_type": "code",
   "execution_count": 2,
   "id": "c0aa748a",
   "metadata": {},
   "outputs": [],
   "source": [
    "df = pd.read_csv('filtered_england_recent.csv')"
   ]
  },
  {
   "cell_type": "markdown",
   "id": "d07e2c5d",
   "metadata": {},
   "source": [
    "## 1. Text Cleaning Strategies\n",
    "\n",
    "Employee reviews vary in formality, spelling, and structure. To ensure clean, consistent input for aspect detection and sentiment modeling, we test four cleaning pipelines:\n",
    "\n",
    "- **min**: Minimal cleaning (newline and encoding fixes)\n",
    "- **lemma**: Lemmatization only, keeping all words\n",
    "- **stopword**: Lemmatization with stopwords removed\n",
    "- **symspell**: Spelling correction with SymSpell followed by lemmatization\n",
    "\n",
    "Each cleaned version of the text is stored in new columns so we can later compare their impact on our final ABSA performance.\n"
   ]
  },
  {
   "cell_type": "code",
   "execution_count": 3,
   "id": "8bce81be",
   "metadata": {},
   "outputs": [
    {
     "name": "stdout",
     "output_type": "stream",
     "text": [
      "Processing column: pros\n"
     ]
    },
    {
     "data": {
      "application/vnd.jupyter.widget-view+json": {
       "model_id": "ce92d244b9844e92992fe1cbd306b082",
       "version_major": 2,
       "version_minor": 0
      },
      "text/plain": [
       "  0%|          | 0/761 [00:00<?, ?it/s]"
      ]
     },
     "metadata": {},
     "output_type": "display_data"
    },
    {
     "data": {
      "application/vnd.jupyter.widget-view+json": {
       "model_id": "2734bfd9bd31482bae25a6ab9b95b418",
       "version_major": 2,
       "version_minor": 0
      },
      "text/plain": [
       "  0%|          | 0/761 [00:00<?, ?it/s]"
      ]
     },
     "metadata": {},
     "output_type": "display_data"
    },
    {
     "data": {
      "application/vnd.jupyter.widget-view+json": {
       "model_id": "4c5940bae4b546748e4925652f6cbf6f",
       "version_major": 2,
       "version_minor": 0
      },
      "text/plain": [
       "  0%|          | 0/761 [00:00<?, ?it/s]"
      ]
     },
     "metadata": {},
     "output_type": "display_data"
    },
    {
     "data": {
      "application/vnd.jupyter.widget-view+json": {
       "model_id": "4d8893153a214efb85fde8942e91c995",
       "version_major": 2,
       "version_minor": 0
      },
      "text/plain": [
       "  0%|          | 0/761 [00:00<?, ?it/s]"
      ]
     },
     "metadata": {},
     "output_type": "display_data"
    },
    {
     "name": "stdout",
     "output_type": "stream",
     "text": [
      "Processing column: cons\n"
     ]
    },
    {
     "data": {
      "application/vnd.jupyter.widget-view+json": {
       "model_id": "7322bccb4381416a8c9148d2cf161c60",
       "version_major": 2,
       "version_minor": 0
      },
      "text/plain": [
       "  0%|          | 0/761 [00:00<?, ?it/s]"
      ]
     },
     "metadata": {},
     "output_type": "display_data"
    },
    {
     "data": {
      "application/vnd.jupyter.widget-view+json": {
       "model_id": "4b8c7afaee8943158240666a1afeeb66",
       "version_major": 2,
       "version_minor": 0
      },
      "text/plain": [
       "  0%|          | 0/761 [00:00<?, ?it/s]"
      ]
     },
     "metadata": {},
     "output_type": "display_data"
    },
    {
     "data": {
      "application/vnd.jupyter.widget-view+json": {
       "model_id": "c2e92170c29c4a24ac72cfb825ad397f",
       "version_major": 2,
       "version_minor": 0
      },
      "text/plain": [
       "  0%|          | 0/761 [00:00<?, ?it/s]"
      ]
     },
     "metadata": {},
     "output_type": "display_data"
    },
    {
     "data": {
      "application/vnd.jupyter.widget-view+json": {
       "model_id": "2b26240d4c164282a8659c7ed4f71f51",
       "version_major": 2,
       "version_minor": 0
      },
      "text/plain": [
       "  0%|          | 0/761 [00:00<?, ?it/s]"
      ]
     },
     "metadata": {},
     "output_type": "display_data"
    },
    {
     "data": {
      "text/html": [
       "<div>\n",
       "<style scoped>\n",
       "    .dataframe tbody tr th:only-of-type {\n",
       "        vertical-align: middle;\n",
       "    }\n",
       "\n",
       "    .dataframe tbody tr th {\n",
       "        vertical-align: top;\n",
       "    }\n",
       "\n",
       "    .dataframe thead th {\n",
       "        text-align: right;\n",
       "    }\n",
       "</style>\n",
       "<table border=\"1\" class=\"dataframe\">\n",
       "  <thead>\n",
       "    <tr style=\"text-align: right;\">\n",
       "      <th></th>\n",
       "      <th>Unnamed: 0</th>\n",
       "      <th>firm</th>\n",
       "      <th>date_review</th>\n",
       "      <th>job_title</th>\n",
       "      <th>current</th>\n",
       "      <th>location</th>\n",
       "      <th>overall_rating</th>\n",
       "      <th>work_life_balance</th>\n",
       "      <th>culture_values</th>\n",
       "      <th>diversity_inclusion</th>\n",
       "      <th>...</th>\n",
       "      <th>cons</th>\n",
       "      <th>year</th>\n",
       "      <th>pros_clean_min</th>\n",
       "      <th>pros_clean_lemma_only</th>\n",
       "      <th>pros_clean_with_stopwords</th>\n",
       "      <th>pros_clean_with_symspell</th>\n",
       "      <th>cons_clean_min</th>\n",
       "      <th>cons_clean_lemma_only</th>\n",
       "      <th>cons_clean_with_stopwords</th>\n",
       "      <th>cons_clean_with_symspell</th>\n",
       "    </tr>\n",
       "  </thead>\n",
       "  <tbody>\n",
       "    <tr>\n",
       "      <th>72228</th>\n",
       "      <td>819748</td>\n",
       "      <td>Vodafone</td>\n",
       "      <td>2021-05-04</td>\n",
       "      <td>Business Analyst</td>\n",
       "      <td>Current Employee, more than 1 year</td>\n",
       "      <td>Reading, England, England</td>\n",
       "      <td>4</td>\n",
       "      <td>NaN</td>\n",
       "      <td>NaN</td>\n",
       "      <td>NaN</td>\n",
       "      <td>...</td>\n",
       "      <td>Pay could be a little higher</td>\n",
       "      <td>2021</td>\n",
       "      <td>Champions team work and builds a great network</td>\n",
       "      <td>champion team work and build a great network</td>\n",
       "      <td>champion team work build great network</td>\n",
       "      <td>champion team work build great network</td>\n",
       "      <td>Pay could be a little higher</td>\n",
       "      <td>pay could be a little high</td>\n",
       "      <td>pay little high</td>\n",
       "      <td>pay little higher</td>\n",
       "    </tr>\n",
       "    <tr>\n",
       "      <th>37518</th>\n",
       "      <td>323899</td>\n",
       "      <td>Hastings Direct</td>\n",
       "      <td>2019-05-31</td>\n",
       "      <td>Customer Service Representative</td>\n",
       "      <td>Current Employee, more than 3 years</td>\n",
       "      <td>Bexhill, England, England</td>\n",
       "      <td>2</td>\n",
       "      <td>2.0</td>\n",
       "      <td>2.0</td>\n",
       "      <td>NaN</td>\n",
       "      <td>...</td>\n",
       "      <td>The company is compiled of 90% student employees, however, team leaders at Hastings, do not remember this, and it is an ordeal for students to get time off for exams If a student needs time off for exams and they have the holiday time available management should not require them to make up the time, they should have the option to use a holiday. The company should not be allowed to deny any student time off for exams. I have been there for three years and I notice the changes; now it is a pressure cooker. The original TL I had recently quit because the direction the company is going in is not about treating employees fairly. The TL's have their favourites and if you are not one of them you will be subjected to bullying. Upper management does nothing to intervene and you are treated like just a number, and your only purpose here is to make as much money for the company as possible and spend less time on the phone trying to help customers. Different information told from coaches so customers are angry. Some TL's have inappropriate relationships with team members. No chance for advancement in the company unless you are friends with TL's\\r\\n\\r\\nShow Less\\r\\nAdvice to Management</td>\n",
       "      <td>2019</td>\n",
       "      <td>Pay and the other employees</td>\n",
       "      <td>pay and the other employee</td>\n",
       "      <td>pay employee</td>\n",
       "      <td>pay employee</td>\n",
       "      <td>The company is compiled of 90% student employees, however, team leaders at Hastings, do not remember this, and it is an ordeal for students to get time off for exams If a student needs time off for exams and they have the holiday time available management should not require them to make up the time, they should have the option to use a holiday. The company should not be allowed to deny any student time off for exams. I have been there for three years and I notice the changes; now it is a pressure cooker. The original TL I had recently quit because the direction the company is going in is not about treating employees fairly. The TL's have their favourites and if you are not one of them you will be subjected to bullying. Upper management does nothing to intervene and you are treated like just a number, and your only purpose here is to make as much money for the company as possible and spend less time on the phone trying to help customers. Different information told from coaches so customers are angry. Some TL's have inappropriate relationships with team members. No chance for advancement in the company unless you are friends with TL's  Show Less Advice to Management</td>\n",
       "      <td>the company be compile of 90 student employee however team leader at hasting do not remember this and it be an ordeal for student to get time off for exam if a student need time off for exam and they have the holiday time available management should not require they to make up the time they should have the option to use a holiday the company should not be allow to deny any student time off for exam I have be there for three year and I notice the change now it be a pressure cooker the original tl I have recently quit because the direction the company be go in be not about treat employee fairly the tl 's have their favourite and if you be not one of they you will be subject to bully upper management do nothing to intervene and you be treat like just a number and your only purpose here be to make as much money for the company as possible and spend less time on the phone try to help customer different information tell from coach so customer be angry some tl 's have inappropriate relationship with team member no chance for advancement in the company unless you be friend with tl 's show less advice to management</td>\n",
       "      <td>company compile 90 student employee team leader hasting remember ordeal student time exam student need time exam holiday time available management require time option use holiday company allow deny student time exam year notice change pressure cooker original tl recently quit direction company go treat employee fairly tl favourite subject bully upper management intervene treat like number purpose money company possible spend time phone try help customer different information tell coach customer angry tl inappropriate relationship team member chance advancement company friend tl advice management</td>\n",
       "      <td>company compile student employee team leader hasting remember ordeal student time exam student need time exam holiday time available management require time option use holiday company allow deny student time exam year notice change pressure cooker original recently quit direction company go treat employee fairly favourite subject bully upper management intervene treat like number purpose money company possible spend time phone try help customer different information tell coach customer angry inappropriate relationship team member chance advancement company friend advice management</td>\n",
       "    </tr>\n",
       "    <tr>\n",
       "      <th>38840</th>\n",
       "      <td>327300</td>\n",
       "      <td>Her Majesty s Revenue and Customs</td>\n",
       "      <td>2016-12-07</td>\n",
       "      <td>Senior Officer</td>\n",
       "      <td>Current Employee, more than 10 years</td>\n",
       "      <td>London, England, England</td>\n",
       "      <td>3</td>\n",
       "      <td>2.0</td>\n",
       "      <td>2.0</td>\n",
       "      <td>NaN</td>\n",
       "      <td>...</td>\n",
       "      <td>Often you get the feeling of disorganised chaos because the department is breaking through to the digital world and setting up for tax payers to become more able to self-serve. \\r\\nOften you have to work long hours to get the job done, even though work-life balance is promoted by senior managers, which is a contradiction.</td>\n",
       "      <td>2016</td>\n",
       "      <td>Flexible working is one of the biggest pros. Some departments are more stretched than others, which will mean work-life balance in some areas could be better.  If you are able and willing to move for a job then this is fine as the Civil Service is massively reducing their building locations. There are some opportunities to work from home. Promotion prospects are good, generally speaking.</td>\n",
       "      <td>flexible working be one of the big pro some department be more stretched than other which will mean work life balance in some area could be well if you be able and willing to move for a job then this be fine as the civil service be massively reduce their building location there be some opportunity to work from home promotion prospect be good generally speak</td>\n",
       "      <td>flexible working big pro department stretched mean work life balance area well able willing job fine civil service massively reduce building location opportunity work home promotion prospect good generally speak</td>\n",
       "      <td>flexible work big pro department stretch mean work life balance area well able willing job fine civil service massively reduce build location opportunity work home promotion prospect good generally speak</td>\n",
       "      <td>Often you get the feeling of disorganised chaos because the department is breaking through to the digital world and setting up for tax payers to become more able to self-serve.  Often you have to work long hours to get the job done, even though work-life balance is promoted by senior managers, which is a contradiction.</td>\n",
       "      <td>often you get the feeling of disorganised chaos because the department be break through to the digital world and set up for tax payer to become more able to self serve often you have to work long hour to get the job do even though work life balance be promote by senior manager which be a contradiction</td>\n",
       "      <td>feeling disorganised chaos department break digital world set tax payer able self serve work long hour job work life balance promote senior manager contradiction</td>\n",
       "      <td>feel disorganise chaos department break digital world set tax payer able self serve work long hour job work life balance promote senior manager contradiction</td>\n",
       "    </tr>\n",
       "    <tr>\n",
       "      <th>32069</th>\n",
       "      <td>270294</td>\n",
       "      <td>Foxtons</td>\n",
       "      <td>2016-05-13</td>\n",
       "      <td>.</td>\n",
       "      <td>Former Employee</td>\n",
       "      <td>London, England, England</td>\n",
       "      <td>1</td>\n",
       "      <td>1.0</td>\n",
       "      <td>1.0</td>\n",
       "      <td>NaN</td>\n",
       "      <td>...</td>\n",
       "      <td>Back-stabbing workers, no such thing as friends here, everyone is out for themselves.\\r\\nMicromanagement from 'team leaders' who think they are something special when really the power of managing someone else gets to their head.\\r\\nYou cannot take sick leave/ trips to the doctor or you are given a warning\\r\\nThe hours are nearly 12 hour days, starting with pointless morning and afternoon meetings\\r\\nThe uniform policy is very strict and they treat you like children.\\r\\nYou have no work-life balance, say goodbye to your 'outside work friend' and say hello to your new foxtons family, you eat, sleep and play with them. - I say sleep literally as there are a lot of relationships that go on with people in the same offices, (lots of bias and nepotism)</td>\n",
       "      <td>2016</td>\n",
       "      <td>The play music in both front office and head office!</td>\n",
       "      <td>the play music in both front office and head office</td>\n",
       "      <td>play music office head office</td>\n",
       "      <td>play music office head office</td>\n",
       "      <td>Back-stabbing workers, no such thing as friends here, everyone is out for themselves. Micromanagement from 'team leaders' who think they are something special when really the power of managing someone else gets to their head. You cannot take sick leave/ trips to the doctor or you are given a warning The hours are nearly 12 hour days, starting with pointless morning and afternoon meetings The uniform policy is very strict and they treat you like children. You have no work-life balance, say goodbye to your 'outside work friend' and say hello to your new foxtons family, you eat, sleep and play with them. - I say sleep literally as there are a lot of relationships that go on with people in the same offices, (lots of bias and nepotism)</td>\n",
       "      <td>back stab worker no such thing as friend here everyone be out for themselves micromanagement from team leader who think they be something special when really the power of manage someone else get to their head you can not take sick leave/ trip to the doctor or you be give a warning the hour be nearly 12 hour day start with pointless morning and afternoon meeting the uniform policy be very strict and they treat you like child you have no work life balance say goodbye to your outside work friend and say hello to your new foxton family you eat sleep and play with they I say sleep literally as there be a lot of relationship that go on with people in the same office lot of bias and nepotism</td>\n",
       "      <td>stab worker thing friend micromanagement team leader think special power manage get head sick leave/ trip doctor give warning hour nearly 12 hour day start pointless morning afternoon meeting uniform policy strict treat like child work life balance goodbye outside work friend hello new foxton family eat sleep play sleep literally lot relationship people office lot bias nepotism</td>\n",
       "      <td>stab worker thing friend micromanagement team leader think special power manage get head sick leave/ trip doctor give warn hour nearly hour day start pointless morning afternoon meeting uniform policy strict treat like child work life balance goodbye outside work friend hello new foxton family eat sleep play sleep literally lot relationship people office lot bias nepotism</td>\n",
       "    </tr>\n",
       "    <tr>\n",
       "      <th>68859</th>\n",
       "      <td>781407</td>\n",
       "      <td>Thomson Reuters</td>\n",
       "      <td>2018-06-17</td>\n",
       "      <td>Solutions Architect</td>\n",
       "      <td>Current Employee, less than 1 year</td>\n",
       "      <td>London, England, England</td>\n",
       "      <td>1</td>\n",
       "      <td>1.0</td>\n",
       "      <td>2.0</td>\n",
       "      <td>NaN</td>\n",
       "      <td>...</td>\n",
       "      <td>-  Poor management \\r\\n- No future career developments \\r\\n- Lack of support from management\\r\\n- Job role are not clear and not based on the job descriptions\\r\\n- long work hours as required to work with US region</td>\n",
       "      <td>2018</td>\n",
       "      <td>There is not any positive side in this organisation</td>\n",
       "      <td>there be not any positive side in this organisation</td>\n",
       "      <td>positive organisation</td>\n",
       "      <td>positive organisation</td>\n",
       "      <td>-  Poor management  - No future career developments  - Lack of support from management - Job role are not clear and not based on the job descriptions - long work hours as required to work with US region</td>\n",
       "      <td>poor management no future career development lack of support from management job role be not clear and not base on the job description long work hour as require to work with us region</td>\n",
       "      <td>poor management future career development lack support management job role clear base job description long work hour require work region</td>\n",
       "      <td>poor management future career development lack support management job role clear base job description long work hour require work region</td>\n",
       "    </tr>\n",
       "  </tbody>\n",
       "</table>\n",
       "<p>5 rows × 28 columns</p>\n",
       "</div>"
      ],
      "text/plain": [
       "       Unnamed: 0                               firm date_review  \\\n",
       "72228      819748                           Vodafone  2021-05-04   \n",
       "37518      323899                    Hastings Direct  2019-05-31   \n",
       "38840      327300  Her Majesty s Revenue and Customs  2016-12-07   \n",
       "32069      270294                            Foxtons  2016-05-13   \n",
       "68859      781407                    Thomson Reuters  2018-06-17   \n",
       "\n",
       "                              job_title                               current  \\\n",
       "72228                  Business Analyst    Current Employee, more than 1 year   \n",
       "37518   Customer Service Representative   Current Employee, more than 3 years   \n",
       "38840                    Senior Officer  Current Employee, more than 10 years   \n",
       "32069                                 .                       Former Employee   \n",
       "68859               Solutions Architect    Current Employee, less than 1 year   \n",
       "\n",
       "                        location  overall_rating  work_life_balance  \\\n",
       "72228  Reading, England, England               4                NaN   \n",
       "37518  Bexhill, England, England               2                2.0   \n",
       "38840   London, England, England               3                2.0   \n",
       "32069   London, England, England               1                1.0   \n",
       "68859   London, England, England               1                1.0   \n",
       "\n",
       "       culture_values  diversity_inclusion  ...  \\\n",
       "72228             NaN                  NaN  ...   \n",
       "37518             2.0                  NaN  ...   \n",
       "38840             2.0                  NaN  ...   \n",
       "32069             1.0                  NaN  ...   \n",
       "68859             2.0                  NaN  ...   \n",
       "\n",
       "                                                                                                                                                                                                                                                                                                                                                                                                                                                                                                                                                                                                                                                                                                                                                                                                                                                                                                                                                                                                                                                                                                                                                                                                                                          cons  \\\n",
       "72228                                                                                                                                                                                                                                                                                                                                                                                                                                                                                                                                                                                                                                                                                                                                                                                                                                                                                                                                                                                                                                                                                                                                                                                                             Pay could be a little higher   \n",
       "37518  The company is compiled of 90% student employees, however, team leaders at Hastings, do not remember this, and it is an ordeal for students to get time off for exams If a student needs time off for exams and they have the holiday time available management should not require them to make up the time, they should have the option to use a holiday. The company should not be allowed to deny any student time off for exams. I have been there for three years and I notice the changes; now it is a pressure cooker. The original TL I had recently quit because the direction the company is going in is not about treating employees fairly. The TL's have their favourites and if you are not one of them you will be subjected to bullying. Upper management does nothing to intervene and you are treated like just a number, and your only purpose here is to make as much money for the company as possible and spend less time on the phone trying to help customers. Different information told from coaches so customers are angry. Some TL's have inappropriate relationships with team members. No chance for advancement in the company unless you are friends with TL's\\r\\n\\r\\nShow Less\\r\\nAdvice to Management   \n",
       "38840                                                                                                                                                                                                                                                                                                                                                                                                                                                                                                                                                                                                                                                                                                                                                                                                                                                                                                      Often you get the feeling of disorganised chaos because the department is breaking through to the digital world and setting up for tax payers to become more able to self-serve. \\r\\nOften you have to work long hours to get the job done, even though work-life balance is promoted by senior managers, which is a contradiction.   \n",
       "32069                                                                                                                                                                                                                                                                                                                                                                                                                                                      Back-stabbing workers, no such thing as friends here, everyone is out for themselves.\\r\\nMicromanagement from 'team leaders' who think they are something special when really the power of managing someone else gets to their head.\\r\\nYou cannot take sick leave/ trips to the doctor or you are given a warning\\r\\nThe hours are nearly 12 hour days, starting with pointless morning and afternoon meetings\\r\\nThe uniform policy is very strict and they treat you like children.\\r\\nYou have no work-life balance, say goodbye to your 'outside work friend' and say hello to your new foxtons family, you eat, sleep and play with them. - I say sleep literally as there are a lot of relationships that go on with people in the same offices, (lots of bias and nepotism)   \n",
       "68859                                                                                                                                                                                                                                                                                                                                                                                                                                                                                                                                                                                                                                                                                                                                                                                                                                                                                                                                                                                                                   -  Poor management \\r\\n- No future career developments \\r\\n- Lack of support from management\\r\\n- Job role are not clear and not based on the job descriptions\\r\\n- long work hours as required to work with US region   \n",
       "\n",
       "       year  \\\n",
       "72228  2021   \n",
       "37518  2019   \n",
       "38840  2016   \n",
       "32069  2016   \n",
       "68859  2018   \n",
       "\n",
       "                                                                                                                                                                                                                                                                                                                                                                                               pros_clean_min  \\\n",
       "72228                                                                                                                                                                                                                                                                                                                                                          Champions team work and builds a great network   \n",
       "37518                                                                                                                                                                                                                                                                                                                                                                             Pay and the other employees   \n",
       "38840  Flexible working is one of the biggest pros. Some departments are more stretched than others, which will mean work-life balance in some areas could be better.  If you are able and willing to move for a job then this is fine as the Civil Service is massively reducing their building locations. There are some opportunities to work from home. Promotion prospects are good, generally speaking.   \n",
       "32069                                                                                                                                                                                                                                                                                                                                                    The play music in both front office and head office!   \n",
       "68859                                                                                                                                                                                                                                                                                                                                                     There is not any positive side in this organisation   \n",
       "\n",
       "                                                                                                                                                                                                                                                                                                                                                         pros_clean_lemma_only  \\\n",
       "72228                                                                                                                                                                                                                                                                                                                             champion team work and build a great network   \n",
       "37518                                                                                                                                                                                                                                                                                                                                               pay and the other employee   \n",
       "38840  flexible working be one of the big pro some department be more stretched than other which will mean work life balance in some area could be well if you be able and willing to move for a job then this be fine as the civil service be massively reduce their building location there be some opportunity to work from home promotion prospect be good generally speak   \n",
       "32069                                                                                                                                                                                                                                                                                                                      the play music in both front office and head office   \n",
       "68859                                                                                                                                                                                                                                                                                                                      there be not any positive side in this organisation   \n",
       "\n",
       "                                                                                                                                                                                                 pros_clean_with_stopwords  \\\n",
       "72228                                                                                                                                                                               champion team work build great network   \n",
       "37518                                                                                                                                                                                                         pay employee   \n",
       "38840  flexible working big pro department stretched mean work life balance area well able willing job fine civil service massively reduce building location opportunity work home promotion prospect good generally speak   \n",
       "32069                                                                                                                                                                                        play music office head office   \n",
       "68859                                                                                                                                                                                                positive organisation   \n",
       "\n",
       "                                                                                                                                                                                          pros_clean_with_symspell  \\\n",
       "72228                                                                                                                                                                       champion team work build great network   \n",
       "37518                                                                                                                                                                                                 pay employee   \n",
       "38840  flexible work big pro department stretch mean work life balance area well able willing job fine civil service massively reduce build location opportunity work home promotion prospect good generally speak   \n",
       "32069                                                                                                                                                                                play music office head office   \n",
       "68859                                                                                                                                                                                        positive organisation   \n",
       "\n",
       "                                                                                                                                                                                                                                                                                                                                                                                                                                                                                                                                                                                                                                                                                                                                                                                                                                                                                                                                                                                                                                                                                                                                                                                                                       cons_clean_min  \\\n",
       "72228                                                                                                                                                                                                                                                                                                                                                                                                                                                                                                                                                                                                                                                                                                                                                                                                                                                                                                                                                                                                                                                                                                                                                                                                    Pay could be a little higher   \n",
       "37518  The company is compiled of 90% student employees, however, team leaders at Hastings, do not remember this, and it is an ordeal for students to get time off for exams If a student needs time off for exams and they have the holiday time available management should not require them to make up the time, they should have the option to use a holiday. The company should not be allowed to deny any student time off for exams. I have been there for three years and I notice the changes; now it is a pressure cooker. The original TL I had recently quit because the direction the company is going in is not about treating employees fairly. The TL's have their favourites and if you are not one of them you will be subjected to bullying. Upper management does nothing to intervene and you are treated like just a number, and your only purpose here is to make as much money for the company as possible and spend less time on the phone trying to help customers. Different information told from coaches so customers are angry. Some TL's have inappropriate relationships with team members. No chance for advancement in the company unless you are friends with TL's  Show Less Advice to Management   \n",
       "38840                                                                                                                                                                                                                                                                                                                                                                                                                                                                                                                                                                                                                                                                                                                                                                                                                                                                                                Often you get the feeling of disorganised chaos because the department is breaking through to the digital world and setting up for tax payers to become more able to self-serve.  Often you have to work long hours to get the job done, even though work-life balance is promoted by senior managers, which is a contradiction.   \n",
       "32069                                                                                                                                                                                                                                                                                                                                                                                                                                                            Back-stabbing workers, no such thing as friends here, everyone is out for themselves. Micromanagement from 'team leaders' who think they are something special when really the power of managing someone else gets to their head. You cannot take sick leave/ trips to the doctor or you are given a warning The hours are nearly 12 hour days, starting with pointless morning and afternoon meetings The uniform policy is very strict and they treat you like children. You have no work-life balance, say goodbye to your 'outside work friend' and say hello to your new foxtons family, you eat, sleep and play with them. - I say sleep literally as there are a lot of relationships that go on with people in the same offices, (lots of bias and nepotism)   \n",
       "68859                                                                                                                                                                                                                                                                                                                                                                                                                                                                                                                                                                                                                                                                                                                                                                                                                                                                                                                                                                                                                      -  Poor management  - No future career developments  - Lack of support from management - Job role are not clear and not based on the job descriptions - long work hours as required to work with US region   \n",
       "\n",
       "                                                                                                                                                                                                                                                                                                                                                                                                                                                                                                                                                                                                                                                                                                                                                                                                                                                                                                                                                                                                                                                                                                                                                     cons_clean_lemma_only  \\\n",
       "72228                                                                                                                                                                                                                                                                                                                                                                                                                                                                                                                                                                                                                                                                                                                                                                                                                                                                                                                                                                                                                                                                                                                                           pay could be a little high   \n",
       "37518  the company be compile of 90 student employee however team leader at hasting do not remember this and it be an ordeal for student to get time off for exam if a student need time off for exam and they have the holiday time available management should not require they to make up the time they should have the option to use a holiday the company should not be allow to deny any student time off for exam I have be there for three year and I notice the change now it be a pressure cooker the original tl I have recently quit because the direction the company be go in be not about treat employee fairly the tl 's have their favourite and if you be not one of they you will be subject to bully upper management do nothing to intervene and you be treat like just a number and your only purpose here be to make as much money for the company as possible and spend less time on the phone try to help customer different information tell from coach so customer be angry some tl 's have inappropriate relationship with team member no chance for advancement in the company unless you be friend with tl 's show less advice to management   \n",
       "38840                                                                                                                                                                                                                                                                                                                                                                                                                                                                                                                                                                                                                                                                                                                                                                                                                                                       often you get the feeling of disorganised chaos because the department be break through to the digital world and set up for tax payer to become more able to self serve often you have to work long hour to get the job do even though work life balance be promote by senior manager which be a contradiction   \n",
       "32069                                                                                                                                                                                                                                                                                                                                                                                                                                                back stab worker no such thing as friend here everyone be out for themselves micromanagement from team leader who think they be something special when really the power of manage someone else get to their head you can not take sick leave/ trip to the doctor or you be give a warning the hour be nearly 12 hour day start with pointless morning and afternoon meeting the uniform policy be very strict and they treat you like child you have no work life balance say goodbye to your outside work friend and say hello to your new foxton family you eat sleep and play with they I say sleep literally as there be a lot of relationship that go on with people in the same office lot of bias and nepotism   \n",
       "68859                                                                                                                                                                                                                                                                                                                                                                                                                                                                                                                                                                                                                                                                                                                                                                                                                                                                                                                                                                              poor management no future career development lack of support from management job role be not clear and not base on the job description long work hour as require to work with us region   \n",
       "\n",
       "                                                                                                                                                                                                                                                                                                                                                                                                                                                                                                                                                                                                        cons_clean_with_stopwords  \\\n",
       "72228                                                                                                                                                                                                                                                                                                                                                                                                                                                                                                                                                                                                             pay little high   \n",
       "37518  company compile 90 student employee team leader hasting remember ordeal student time exam student need time exam holiday time available management require time option use holiday company allow deny student time exam year notice change pressure cooker original tl recently quit direction company go treat employee fairly tl favourite subject bully upper management intervene treat like number purpose money company possible spend time phone try help customer different information tell coach customer angry tl inappropriate relationship team member chance advancement company friend tl advice management   \n",
       "38840                                                                                                                                                                                                                                                                                                                                                                                                                                                           feeling disorganised chaos department break digital world set tax payer able self serve work long hour job work life balance promote senior manager contradiction   \n",
       "32069                                                                                                                                                                                                                                stab worker thing friend micromanagement team leader think special power manage get head sick leave/ trip doctor give warning hour nearly 12 hour day start pointless morning afternoon meeting uniform policy strict treat like child work life balance goodbye outside work friend hello new foxton family eat sleep play sleep literally lot relationship people office lot bias nepotism   \n",
       "68859                                                                                                                                                                                                                                                                                                                                                                                                                                                                                    poor management future career development lack support management job role clear base job description long work hour require work region   \n",
       "\n",
       "                                                                                                                                                                                                                                                                                                                                                                                                                                                                                                                                                                                          cons_clean_with_symspell  \n",
       "72228                                                                                                                                                                                                                                                                                                                                                                                                                                                                                                                                                                                            pay little higher  \n",
       "37518  company compile student employee team leader hasting remember ordeal student time exam student need time exam holiday time available management require time option use holiday company allow deny student time exam year notice change pressure cooker original recently quit direction company go treat employee fairly favourite subject bully upper management intervene treat like number purpose money company possible spend time phone try help customer different information tell coach customer angry inappropriate relationship team member chance advancement company friend advice management  \n",
       "38840                                                                                                                                                                                                                                                                                                                                                                                                                                                feel disorganise chaos department break digital world set tax payer able self serve work long hour job work life balance promote senior manager contradiction  \n",
       "32069                                                                                                                                                                                                                       stab worker thing friend micromanagement team leader think special power manage get head sick leave/ trip doctor give warn hour nearly hour day start pointless morning afternoon meeting uniform policy strict treat like child work life balance goodbye outside work friend hello new foxton family eat sleep play sleep literally lot relationship people office lot bias nepotism  \n",
       "68859                                                                                                                                                                                                                                                                                                                                                                                                                                                                     poor management future career development lack support management job role clear base job description long work hour require work region  \n",
       "\n",
       "[5 rows x 28 columns]"
      ]
     },
     "execution_count": 3,
     "metadata": {},
     "output_type": "execute_result"
    }
   ],
   "source": [
    "# Load SpaCy English model\n",
    "nlp = spacy.load(\"en_core_web_sm\")\n",
    "\n",
    "# Sample 5% of the data \n",
    "df_sample = df.sample(frac=0.01, random_state=21).copy()\n",
    "def clean_min(text):\n",
    "    if not isinstance(text, str):\n",
    "        return \"\"\n",
    "    return text.replace('\\n', ' ').replace('\\r', '').encode(\"ascii\", errors=\"ignore\").decode().strip()\n",
    "\n",
    "#only lematizing, want to keep as many words as possible. \n",
    "def preprocess_text_lemmaonly(text):\n",
    "    if pd.isnull(text):\n",
    "        return \"\"\n",
    "    doc = nlp(text.lower())\n",
    "    return \" \".join(token.lemma_ for token in doc if not token.is_punct and not token.is_space)\n",
    "\n",
    "def preprocess_text_with_stopwords(text):\n",
    "    if pd.isnull(text):\n",
    "        return \"\"\n",
    "    doc = nlp(text.lower())\n",
    "    return \" \".join(\n",
    "        token.lemma_ \n",
    "        for token in doc \n",
    "        if not token.is_punct \n",
    "        and not token.is_space \n",
    "        and not token.is_stop\n",
    "    )\n",
    "\n",
    "sym_spell = SymSpell(max_dictionary_edit_distance=2, prefix_length=7)\n",
    "def correct_token(token_text):\n",
    "    suggestions = sym_spell.lookup(token_text, Verbosity.CLOSEST, max_edit_distance=2)\n",
    "    if suggestions:\n",
    "        return suggestions[0].term\n",
    "    return token_text\n",
    "\n",
    "def preprocess_text_symspell(text):\n",
    "    if pd.isnull(text):\n",
    "        return \"\"\n",
    "    corrected_tokens = []\n",
    "    for token in nlp(text.lower()):\n",
    "        if token.is_punct or token.is_space or token.like_num or token.is_stop or len(token) < 3:\n",
    "            continue\n",
    "        corrected = correct_token(token.text)\n",
    "        doc = nlp(corrected)  # lemmatize after correction\n",
    "        for sub_token in doc:\n",
    "            if not sub_token.is_punct and not sub_token.is_space:\n",
    "                corrected_tokens.append(sub_token.lemma_)\n",
    "    return \" \".join(corrected_tokens)\n",
    "\n",
    "\n",
    "# Apply preprocessing with progress bar\n",
    "for col in ['pros', 'cons']:\n",
    "    print(f\"Processing column: {col}\")\n",
    "    df_sample[f'{col}_clean_min'] = df_sample[col].progress_apply(clean_min)\n",
    "    df_sample[f'{col}_clean_lemma_only'] = df_sample[col].progress_apply(preprocess_text_lemmaonly)\n",
    "    df_sample[f'{col}_clean_with_stopwords'] = df_sample[col].progress_apply(preprocess_text_with_stopwords)\n",
    "    df_sample[f'{col}_clean_with_symspell'] = df_sample[col].progress_apply(preprocess_text_symspell)\n",
    "\n",
    "\n",
    "# Preview result\n",
    "df_sample.head()"
   ]
  },
  {
   "cell_type": "code",
   "execution_count": null,
   "id": "4cfcebd3",
   "metadata": {},
   "outputs": [
    {
     "data": {
      "text/html": [
       "<div>\n",
       "<style scoped>\n",
       "    .dataframe tbody tr th:only-of-type {\n",
       "        vertical-align: middle;\n",
       "    }\n",
       "\n",
       "    .dataframe tbody tr th {\n",
       "        vertical-align: top;\n",
       "    }\n",
       "\n",
       "    .dataframe thead th {\n",
       "        text-align: right;\n",
       "    }\n",
       "</style>\n",
       "<table border=\"1\" class=\"dataframe\">\n",
       "  <thead>\n",
       "    <tr style=\"text-align: right;\">\n",
       "      <th></th>\n",
       "      <th>pros</th>\n",
       "      <th>cons</th>\n",
       "      <th>pros_clean_lemma_only</th>\n",
       "      <th>pros_clean_with_stopwords</th>\n",
       "      <th>pros_clean_with_symspell</th>\n",
       "      <th>cons_clean_lemma_only</th>\n",
       "      <th>cons_clean_with_stopwords</th>\n",
       "      <th>cons_clean_with_symspell</th>\n",
       "    </tr>\n",
       "  </thead>\n",
       "  <tbody>\n",
       "    <tr>\n",
       "      <th>72228</th>\n",
       "      <td>Champions team work and builds a great network</td>\n",
       "      <td>Pay could be a little higher</td>\n",
       "      <td>champion team work and build a great network</td>\n",
       "      <td>champion team work build great network</td>\n",
       "      <td>champion team work build great network</td>\n",
       "      <td>pay could be a little high</td>\n",
       "      <td>pay little high</td>\n",
       "      <td>pay little higher</td>\n",
       "    </tr>\n",
       "    <tr>\n",
       "      <th>37518</th>\n",
       "      <td>Pay and the other employees</td>\n",
       "      <td>The company is compiled of 90% student employees, however, team leaders at Hastings, do not remember this, and it is an ordeal for students to get time off for exams If a student needs time off for exams and they have the holiday time available management should not require them to make up the time, they should have the option to use a holiday. The company should not be allowed to deny any student time off for exams. I have been there for three years and I notice the changes; now it is a pressure cooker. The original TL I had recently quit because the direction the company is going in is not about treating employees fairly. The TL's have their favourites and if you are not one of them you will be subjected to bullying. Upper management does nothing to intervene and you are treated like just a number, and your only purpose here is to make as much money for the company as possible and spend less time on the phone trying to help customers. Different information told from coaches so customers are angry. Some TL's have inappropriate relationships with team members. No chance for advancement in the company unless you are friends with TL's\\r\\n\\r\\nShow Less\\r\\nAdvice to Management</td>\n",
       "      <td>pay and the other employee</td>\n",
       "      <td>pay employee</td>\n",
       "      <td>pay employee</td>\n",
       "      <td>the company be compile of 90 student employee however team leader at hasting do not remember this and it be an ordeal for student to get time off for exam if a student need time off for exam and they have the holiday time available management should not require they to make up the time they should have the option to use a holiday the company should not be allow to deny any student time off for exam I have be there for three year and I notice the change now it be a pressure cooker the original tl I have recently quit because the direction the company be go in be not about treat employee fairly the tl 's have their favourite and if you be not one of they you will be subject to bully upper management do nothing to intervene and you be treat like just a number and your only purpose here be to make as much money for the company as possible and spend less time on the phone try to help customer different information tell from coach so customer be angry some tl 's have inappropriate relationship with team member no chance for advancement in the company unless you be friend with tl 's show less advice to management</td>\n",
       "      <td>company compile 90 student employee team leader hasting remember ordeal student time exam student need time exam holiday time available management require time option use holiday company allow deny student time exam year notice change pressure cooker original tl recently quit direction company go treat employee fairly tl favourite subject bully upper management intervene treat like number purpose money company possible spend time phone try help customer different information tell coach customer angry tl inappropriate relationship team member chance advancement company friend tl advice management</td>\n",
       "      <td>company compile student employee team leader hasting remember ordeal student time exam student need time exam holiday time available management require time option use holiday company allow deny student time exam year notice change pressure cooker original recently quit direction company go treat employee fairly favourite subject bully upper management intervene treat like number purpose money company possible spend time phone try help customer different information tell coach customer angry inappropriate relationship team member chance advancement company friend advice management</td>\n",
       "    </tr>\n",
       "    <tr>\n",
       "      <th>38840</th>\n",
       "      <td>Flexible working is one of the biggest pros. Some departments are more stretched than others, which will mean work-life balance in some areas could be better. \\r\\nIf you are able and willing to move for a job then this is fine as the Civil Service is massively reducing their building locations. There are some opportunities to work from home.\\r\\nPromotion prospects are good, generally speaking.</td>\n",
       "      <td>Often you get the feeling of disorganised chaos because the department is breaking through to the digital world and setting up for tax payers to become more able to self-serve. \\r\\nOften you have to work long hours to get the job done, even though work-life balance is promoted by senior managers, which is a contradiction.</td>\n",
       "      <td>flexible working be one of the big pro some department be more stretched than other which will mean work life balance in some area could be well if you be able and willing to move for a job then this be fine as the civil service be massively reduce their building location there be some opportunity to work from home promotion prospect be good generally speak</td>\n",
       "      <td>flexible working big pro department stretched mean work life balance area well able willing job fine civil service massively reduce building location opportunity work home promotion prospect good generally speak</td>\n",
       "      <td>flexible work big pro department stretch mean work life balance area well able willing job fine civil service massively reduce build location opportunity work home promotion prospect good generally speak</td>\n",
       "      <td>often you get the feeling of disorganised chaos because the department be break through to the digital world and set up for tax payer to become more able to self serve often you have to work long hour to get the job do even though work life balance be promote by senior manager which be a contradiction</td>\n",
       "      <td>feeling disorganised chaos department break digital world set tax payer able self serve work long hour job work life balance promote senior manager contradiction</td>\n",
       "      <td>feel disorganise chaos department break digital world set tax payer able self serve work long hour job work life balance promote senior manager contradiction</td>\n",
       "    </tr>\n",
       "    <tr>\n",
       "      <th>32069</th>\n",
       "      <td>The play music in both front office and head office!</td>\n",
       "      <td>Back-stabbing workers, no such thing as friends here, everyone is out for themselves.\\r\\nMicromanagement from 'team leaders' who think they are something special when really the power of managing someone else gets to their head.\\r\\nYou cannot take sick leave/ trips to the doctor or you are given a warning\\r\\nThe hours are nearly 12 hour days, starting with pointless morning and afternoon meetings\\r\\nThe uniform policy is very strict and they treat you like children.\\r\\nYou have no work-life balance, say goodbye to your 'outside work friend' and say hello to your new foxtons family, you eat, sleep and play with them. - I say sleep literally as there are a lot of relationships that go on with people in the same offices, (lots of bias and nepotism)</td>\n",
       "      <td>the play music in both front office and head office</td>\n",
       "      <td>play music office head office</td>\n",
       "      <td>play music office head office</td>\n",
       "      <td>back stab worker no such thing as friend here everyone be out for themselves micromanagement from team leader who think they be something special when really the power of manage someone else get to their head you can not take sick leave/ trip to the doctor or you be give a warning the hour be nearly 12 hour day start with pointless morning and afternoon meeting the uniform policy be very strict and they treat you like child you have no work life balance say goodbye to your outside work friend and say hello to your new foxton family you eat sleep and play with they I say sleep literally as there be a lot of relationship that go on with people in the same office lot of bias and nepotism</td>\n",
       "      <td>stab worker thing friend micromanagement team leader think special power manage get head sick leave/ trip doctor give warning hour nearly 12 hour day start pointless morning afternoon meeting uniform policy strict treat like child work life balance goodbye outside work friend hello new foxton family eat sleep play sleep literally lot relationship people office lot bias nepotism</td>\n",
       "      <td>stab worker thing friend micromanagement team leader think special power manage get head sick leave/ trip doctor give warn hour nearly hour day start pointless morning afternoon meeting uniform policy strict treat like child work life balance goodbye outside work friend hello new foxton family eat sleep play sleep literally lot relationship people office lot bias nepotism</td>\n",
       "    </tr>\n",
       "    <tr>\n",
       "      <th>68859</th>\n",
       "      <td>There is not any positive side in this organisation</td>\n",
       "      <td>-  Poor management \\r\\n- No future career developments \\r\\n- Lack of support from management\\r\\n- Job role are not clear and not based on the job descriptions\\r\\n- long work hours as required to work with US region</td>\n",
       "      <td>there be not any positive side in this organisation</td>\n",
       "      <td>positive organisation</td>\n",
       "      <td>positive organisation</td>\n",
       "      <td>poor management no future career development lack of support from management job role be not clear and not base on the job description long work hour as require to work with us region</td>\n",
       "      <td>poor management future career development lack support management job role clear base job description long work hour require work region</td>\n",
       "      <td>poor management future career development lack support management job role clear base job description long work hour require work region</td>\n",
       "    </tr>\n",
       "  </tbody>\n",
       "</table>\n",
       "</div>"
      ],
      "text/plain": [
       "                                                                                                                                                                                                                                                                                                                                                                                                               pros  \\\n",
       "72228                                                                                                                                                                                                                                                                                                                                                                Champions team work and builds a great network   \n",
       "37518                                                                                                                                                                                                                                                                                                                                                                                   Pay and the other employees   \n",
       "38840  Flexible working is one of the biggest pros. Some departments are more stretched than others, which will mean work-life balance in some areas could be better. \\r\\nIf you are able and willing to move for a job then this is fine as the Civil Service is massively reducing their building locations. There are some opportunities to work from home.\\r\\nPromotion prospects are good, generally speaking.   \n",
       "32069                                                                                                                                                                                                                                                                                                                                                          The play music in both front office and head office!   \n",
       "68859                                                                                                                                                                                                                                                                                                                                                           There is not any positive side in this organisation   \n",
       "\n",
       "                                                                                                                                                                                                                                                                                                                                                                                                                                                                                                                                                                                                                                                                                                                                                                                                                                                                                                                                                                                                                                                                                                                                                                                                                                          cons  \\\n",
       "72228                                                                                                                                                                                                                                                                                                                                                                                                                                                                                                                                                                                                                                                                                                                                                                                                                                                                                                                                                                                                                                                                                                                                                                                                             Pay could be a little higher   \n",
       "37518  The company is compiled of 90% student employees, however, team leaders at Hastings, do not remember this, and it is an ordeal for students to get time off for exams If a student needs time off for exams and they have the holiday time available management should not require them to make up the time, they should have the option to use a holiday. The company should not be allowed to deny any student time off for exams. I have been there for three years and I notice the changes; now it is a pressure cooker. The original TL I had recently quit because the direction the company is going in is not about treating employees fairly. The TL's have their favourites and if you are not one of them you will be subjected to bullying. Upper management does nothing to intervene and you are treated like just a number, and your only purpose here is to make as much money for the company as possible and spend less time on the phone trying to help customers. Different information told from coaches so customers are angry. Some TL's have inappropriate relationships with team members. No chance for advancement in the company unless you are friends with TL's\\r\\n\\r\\nShow Less\\r\\nAdvice to Management   \n",
       "38840                                                                                                                                                                                                                                                                                                                                                                                                                                                                                                                                                                                                                                                                                                                                                                                                                                                                                                      Often you get the feeling of disorganised chaos because the department is breaking through to the digital world and setting up for tax payers to become more able to self-serve. \\r\\nOften you have to work long hours to get the job done, even though work-life balance is promoted by senior managers, which is a contradiction.   \n",
       "32069                                                                                                                                                                                                                                                                                                                                                                                                                                                      Back-stabbing workers, no such thing as friends here, everyone is out for themselves.\\r\\nMicromanagement from 'team leaders' who think they are something special when really the power of managing someone else gets to their head.\\r\\nYou cannot take sick leave/ trips to the doctor or you are given a warning\\r\\nThe hours are nearly 12 hour days, starting with pointless morning and afternoon meetings\\r\\nThe uniform policy is very strict and they treat you like children.\\r\\nYou have no work-life balance, say goodbye to your 'outside work friend' and say hello to your new foxtons family, you eat, sleep and play with them. - I say sleep literally as there are a lot of relationships that go on with people in the same offices, (lots of bias and nepotism)   \n",
       "68859                                                                                                                                                                                                                                                                                                                                                                                                                                                                                                                                                                                                                                                                                                                                                                                                                                                                                                                                                                                                                   -  Poor management \\r\\n- No future career developments \\r\\n- Lack of support from management\\r\\n- Job role are not clear and not based on the job descriptions\\r\\n- long work hours as required to work with US region   \n",
       "\n",
       "                                                                                                                                                                                                                                                                                                                                                         pros_clean_lemma_only  \\\n",
       "72228                                                                                                                                                                                                                                                                                                                             champion team work and build a great network   \n",
       "37518                                                                                                                                                                                                                                                                                                                                               pay and the other employee   \n",
       "38840  flexible working be one of the big pro some department be more stretched than other which will mean work life balance in some area could be well if you be able and willing to move for a job then this be fine as the civil service be massively reduce their building location there be some opportunity to work from home promotion prospect be good generally speak   \n",
       "32069                                                                                                                                                                                                                                                                                                                      the play music in both front office and head office   \n",
       "68859                                                                                                                                                                                                                                                                                                                      there be not any positive side in this organisation   \n",
       "\n",
       "                                                                                                                                                                                                 pros_clean_with_stopwords  \\\n",
       "72228                                                                                                                                                                               champion team work build great network   \n",
       "37518                                                                                                                                                                                                         pay employee   \n",
       "38840  flexible working big pro department stretched mean work life balance area well able willing job fine civil service massively reduce building location opportunity work home promotion prospect good generally speak   \n",
       "32069                                                                                                                                                                                        play music office head office   \n",
       "68859                                                                                                                                                                                                positive organisation   \n",
       "\n",
       "                                                                                                                                                                                          pros_clean_with_symspell  \\\n",
       "72228                                                                                                                                                                       champion team work build great network   \n",
       "37518                                                                                                                                                                                                 pay employee   \n",
       "38840  flexible work big pro department stretch mean work life balance area well able willing job fine civil service massively reduce build location opportunity work home promotion prospect good generally speak   \n",
       "32069                                                                                                                                                                                play music office head office   \n",
       "68859                                                                                                                                                                                        positive organisation   \n",
       "\n",
       "                                                                                                                                                                                                                                                                                                                                                                                                                                                                                                                                                                                                                                                                                                                                                                                                                                                                                                                                                                                                                                                                                                                                                     cons_clean_lemma_only  \\\n",
       "72228                                                                                                                                                                                                                                                                                                                                                                                                                                                                                                                                                                                                                                                                                                                                                                                                                                                                                                                                                                                                                                                                                                                                           pay could be a little high   \n",
       "37518  the company be compile of 90 student employee however team leader at hasting do not remember this and it be an ordeal for student to get time off for exam if a student need time off for exam and they have the holiday time available management should not require they to make up the time they should have the option to use a holiday the company should not be allow to deny any student time off for exam I have be there for three year and I notice the change now it be a pressure cooker the original tl I have recently quit because the direction the company be go in be not about treat employee fairly the tl 's have their favourite and if you be not one of they you will be subject to bully upper management do nothing to intervene and you be treat like just a number and your only purpose here be to make as much money for the company as possible and spend less time on the phone try to help customer different information tell from coach so customer be angry some tl 's have inappropriate relationship with team member no chance for advancement in the company unless you be friend with tl 's show less advice to management   \n",
       "38840                                                                                                                                                                                                                                                                                                                                                                                                                                                                                                                                                                                                                                                                                                                                                                                                                                                       often you get the feeling of disorganised chaos because the department be break through to the digital world and set up for tax payer to become more able to self serve often you have to work long hour to get the job do even though work life balance be promote by senior manager which be a contradiction   \n",
       "32069                                                                                                                                                                                                                                                                                                                                                                                                                                                back stab worker no such thing as friend here everyone be out for themselves micromanagement from team leader who think they be something special when really the power of manage someone else get to their head you can not take sick leave/ trip to the doctor or you be give a warning the hour be nearly 12 hour day start with pointless morning and afternoon meeting the uniform policy be very strict and they treat you like child you have no work life balance say goodbye to your outside work friend and say hello to your new foxton family you eat sleep and play with they I say sleep literally as there be a lot of relationship that go on with people in the same office lot of bias and nepotism   \n",
       "68859                                                                                                                                                                                                                                                                                                                                                                                                                                                                                                                                                                                                                                                                                                                                                                                                                                                                                                                                                                              poor management no future career development lack of support from management job role be not clear and not base on the job description long work hour as require to work with us region   \n",
       "\n",
       "                                                                                                                                                                                                                                                                                                                                                                                                                                                                                                                                                                                                        cons_clean_with_stopwords  \\\n",
       "72228                                                                                                                                                                                                                                                                                                                                                                                                                                                                                                                                                                                                             pay little high   \n",
       "37518  company compile 90 student employee team leader hasting remember ordeal student time exam student need time exam holiday time available management require time option use holiday company allow deny student time exam year notice change pressure cooker original tl recently quit direction company go treat employee fairly tl favourite subject bully upper management intervene treat like number purpose money company possible spend time phone try help customer different information tell coach customer angry tl inappropriate relationship team member chance advancement company friend tl advice management   \n",
       "38840                                                                                                                                                                                                                                                                                                                                                                                                                                                           feeling disorganised chaos department break digital world set tax payer able self serve work long hour job work life balance promote senior manager contradiction   \n",
       "32069                                                                                                                                                                                                                                stab worker thing friend micromanagement team leader think special power manage get head sick leave/ trip doctor give warning hour nearly 12 hour day start pointless morning afternoon meeting uniform policy strict treat like child work life balance goodbye outside work friend hello new foxton family eat sleep play sleep literally lot relationship people office lot bias nepotism   \n",
       "68859                                                                                                                                                                                                                                                                                                                                                                                                                                                                                    poor management future career development lack support management job role clear base job description long work hour require work region   \n",
       "\n",
       "                                                                                                                                                                                                                                                                                                                                                                                                                                                                                                                                                                                          cons_clean_with_symspell  \n",
       "72228                                                                                                                                                                                                                                                                                                                                                                                                                                                                                                                                                                                            pay little higher  \n",
       "37518  company compile student employee team leader hasting remember ordeal student time exam student need time exam holiday time available management require time option use holiday company allow deny student time exam year notice change pressure cooker original recently quit direction company go treat employee fairly favourite subject bully upper management intervene treat like number purpose money company possible spend time phone try help customer different information tell coach customer angry inappropriate relationship team member chance advancement company friend advice management  \n",
       "38840                                                                                                                                                                                                                                                                                                                                                                                                                                                feel disorganise chaos department break digital world set tax payer able self serve work long hour job work life balance promote senior manager contradiction  \n",
       "32069                                                                                                                                                                                                                       stab worker thing friend micromanagement team leader think special power manage get head sick leave/ trip doctor give warn hour nearly hour day start pointless morning afternoon meeting uniform policy strict treat like child work life balance goodbye outside work friend hello new foxton family eat sleep play sleep literally lot relationship people office lot bias nepotism  \n",
       "68859                                                                                                                                                                                                                                                                                                                                                                                                                                                                     poor management future career development lack support management job role clear base job description long work hour require work region  "
      ]
     },
     "execution_count": 4,
     "metadata": {},
     "output_type": "execute_result"
    }
   ],
   "source": [
    "#printing new columns\n",
    "df_sample[['pros', 'cons', 'pros_clean_lemma_only', 'pros_clean_with_stopwords', 'pros_clean_with_symspell', 'cons_clean_lemma_only','cons_clean_with_stopwords', 'cons_clean_with_symspell']].head()"
   ]
  },
  {
   "cell_type": "markdown",
   "id": "f77efa53",
   "metadata": {},
   "source": [
    "## 2. Discovering Aspects Using PyABSA\n",
    "\n",
    "We use PyABSA’s pretrained ATEPC model to **automatically identify aspect terms** in both `pros` and `cons`. This serves two purposes:\n",
    "\n",
    "- Provides an empirical list of common aspects directly from user language\n",
    "- Informs construction of our manual aspect dictionary (later used with BERT)\n",
    "\n",
    "We apply PyABSA to a random 0.5 sample of the cleaned text and aggregate the most frequently mentioned aspect terms across reviews. We use minimal cleaning (clean min) to preserve informal expressions and domain-specific phrasing that may be important for accurate automatic aspect detection.\n"
   ]
  },
  {
   "cell_type": "code",
   "execution_count": 5,
   "id": "55052c80",
   "metadata": {},
   "outputs": [],
   "source": [
    "model_name = \"nlptown/bert-base-multilingual-uncased-sentiment\"\n",
    "tokenizer = AutoTokenizer.from_pretrained(model_name)\n",
    "model = AutoModelForSequenceClassification.from_pretrained(model_name)"
   ]
  },
  {
   "cell_type": "code",
   "execution_count": 6,
   "id": "f5bdc5c6",
   "metadata": {},
   "outputs": [],
   "source": [
    "def get_aspect_sentiment(text, aspect, tone):\n",
    "    if pd.isnull(text):\n",
    "        return None\n",
    "\n",
    "    # Compose prompt-like input for aspect analysis\n",
    "    if tone == 'pos':\n",
    "        combined = f\"The following is a positive experience about {aspect}: {text}\"\n",
    "    else:\n",
    "        combined = f\"The following is a negative experience about {aspect}: {text}\"\n",
    "\n",
    "    inputs = tokenizer(combined, return_tensors=\"pt\", truncation=True, max_length=512)\n",
    "\n",
    "    with torch.no_grad():\n",
    "        logits = model(**inputs).logits\n",
    "    scores = softmax(logits.numpy()[0])\n",
    "\n",
    "    # This model returns scores for: [1 star, 2 stars, 3 stars, 4 stars, 5 stars]\n",
    "    star_labels = [1, 2, 3, 4, 5]\n",
    "    result = dict(zip(star_labels, scores))\n",
    "    result[\"label\"] = star_labels[scores.argmax()]\n",
    "    return result\n"
   ]
  },
  {
   "cell_type": "code",
   "execution_count": 7,
   "id": "95850e6d",
   "metadata": {},
   "outputs": [],
   "source": [
    "from collections import Counter\n",
    "failed_sentiment = Counter()\n",
    "\n",
    "def analyze_all_aspect_groups(text, aspect_groups, tone):\n",
    "    results = {}\n",
    "    for aspect, keywords in aspect_groups.items():\n",
    "        if any(kw in text.lower() for kw in keywords):\n",
    "            sent = get_aspect_sentiment(text, aspect, tone)\n",
    "            if sent:\n",
    "                results[aspect] = sent\n",
    "            else:\n",
    "                failed_sentiment[aspect] += 1  # Track failures\n",
    "    return results\n"
   ]
  },
  {
   "cell_type": "code",
   "execution_count": 8,
   "id": "4825f420",
   "metadata": {},
   "outputs": [
    {
     "name": "stdout",
     "output_type": "stream",
     "text": [
      "[2025-05-14 21:59:37] (2.4.1.post1) ********** Available ATEPC model checkpoints for Version:2.4.1.post1 (this version) **********\n",
      "[2025-05-14 21:59:37] (2.4.1.post1) ********** Available ATEPC model checkpoints for Version:2.4.1.post1 (this version) **********\n",
      "[2025-05-14 21:59:37] (2.4.1.post1) Downloading checkpoint:english \n",
      "[2025-05-14 21:59:37] (2.4.1.post1) Notice: The pretrained model are used for testing, it is recommended to train the model on your own custom datasets\n",
      "[2025-05-14 21:59:37] (2.4.1.post1) Checkpoint already downloaded, skip\n",
      "[2025-05-14 21:59:37] (2.4.1.post1) Load aspect extractor from checkpoints/ATEPC_ENGLISH_CHECKPOINT/fast_lcf_atepc_English_cdw_apcacc_82.36_apcf1_81.89_atef1_75.43\n",
      "[2025-05-14 21:59:37] (2.4.1.post1) config: checkpoints/ATEPC_ENGLISH_CHECKPOINT/fast_lcf_atepc_English_cdw_apcacc_82.36_apcf1_81.89_atef1_75.43/fast_lcf_atepc.config\n",
      "[2025-05-14 21:59:37] (2.4.1.post1) state_dict: checkpoints/ATEPC_ENGLISH_CHECKPOINT/fast_lcf_atepc_English_cdw_apcacc_82.36_apcf1_81.89_atef1_75.43/fast_lcf_atepc.state_dict\n",
      "[2025-05-14 21:59:37] (2.4.1.post1) model: None\n",
      "[2025-05-14 21:59:37] (2.4.1.post1) tokenizer: checkpoints/ATEPC_ENGLISH_CHECKPOINT/fast_lcf_atepc_English_cdw_apcacc_82.36_apcf1_81.89_atef1_75.43/fast_lcf_atepc.tokenizer\n",
      "[2025-05-14 21:59:37] (2.4.1.post1) Set Model Device: cpu\n",
      "[2025-05-14 21:59:37] (2.4.1.post1) Device Name: Unknown\n"
     ]
    },
    {
     "name": "stderr",
     "output_type": "stream",
     "text": [
      "/opt/anaconda3/lib/python3.12/site-packages/pyabsa/tasks/AspectTermExtraction/prediction/aspect_extractor.py:102: FutureWarning: You are using `torch.load` with `weights_only=False` (the current default value), which uses the default pickle module implicitly. It is possible to construct malicious pickle data which will execute arbitrary code during unpickling (See https://github.com/pytorch/pytorch/blob/main/SECURITY.md#untrusted-models for more details). In a future release, the default value for `weights_only` will be flipped to `True`. This limits the functions that could be executed during unpickling. Arbitrary objects will no longer be allowed to be loaded via this mode unless they are explicitly allowlisted by the user via `torch.serialization.add_safe_globals`. We recommend you start setting `weights_only=True` for any use case where you don't have full control of the loaded file. Please open an issue on GitHub for any issues related to this experimental feature.\n",
      "  torch.load(\n",
      "/opt/anaconda3/lib/python3.12/site-packages/google/protobuf/internal/well_known_types.py:91: DeprecationWarning: datetime.datetime.utcfromtimestamp() is deprecated and scheduled for removal in a future version. Use timezone-aware objects to represent datetimes in UTC: datetime.datetime.fromtimestamp(timestamp, datetime.UTC).\n",
      "  _EPOCH_DATETIME_NAIVE = datetime.datetime.utcfromtimestamp(0)\n",
      "/opt/anaconda3/lib/python3.12/site-packages/transformers/convert_slow_tokenizer.py:559: UserWarning: The sentencepiece tokenizer that you are converting to a fast tokenizer uses the byte fallback option which is not implemented in the fast tokenizers. In practice this means that the fast version of the tokenizer can produce unknown tokens whereas the sentencepiece version would have converted these unknown tokens into a sequence of byte tokens matching the original piece of text.\n",
      "  warnings.warn(\n",
      "preparing ate inference dataloader: 100%|██████████| 380/380 [00:00<00:00, 3691.11it/s]\n",
      "extracting aspect terms: 100%|██████████| 12/12 [00:39<00:00,  3.30s/it]\n",
      "preparing apc inference dataloader: 100%|██████████| 473/473 [00:00<00:00, 2140.42it/s]\n",
      "/opt/anaconda3/lib/python3.12/site-packages/pyabsa/tasks/AspectTermExtraction/prediction/aspect_extractor.py:593: UserWarning: Creating a tensor from a list of numpy.ndarrays is extremely slow. Please consider converting the list to a single numpy.ndarray with numpy.array() before converting to a tensor. (Triggered internally at /Users/runner/work/pytorch/pytorch/pytorch/torch/csrc/utils/tensor_new.cpp:281.)\n",
      "  lcf_cdm_vec = torch.tensor(\n",
      "classifying aspect sentiments: 100%|██████████| 15/15 [00:53<00:00,  3.59s/it]\n"
     ]
    },
    {
     "name": "stdout",
     "output_type": "stream",
     "text": [
      "[2025-05-14 22:01:13] (2.4.1.post1) The results of aspect term extraction have been saved in /Users/monikakaczorowska/Desktop/glassdoor_reviews/Aspect Term Extraction and Polarity Classification.FAST_LCF_ATEPC.result.json\n"
     ]
    },
    {
     "name": "stderr",
     "output_type": "stream",
     "text": [
      "preparing ate inference dataloader: 100%|██████████| 380/380 [00:00<00:00, 2594.14it/s]\n",
      "extracting aspect terms: 100%|██████████| 12/12 [00:41<00:00,  3.48s/it]\n",
      "preparing apc inference dataloader: 100%|██████████| 374/374 [00:00<00:00, 1437.90it/s]\n",
      "classifying aspect sentiments: 100%|██████████| 12/12 [00:44<00:00,  3.69s/it]\n"
     ]
    },
    {
     "name": "stdout",
     "output_type": "stream",
     "text": [
      "[2025-05-14 22:02:40] (2.4.1.post1) The results of aspect term extraction have been saved in /Users/monikakaczorowska/Desktop/glassdoor_reviews/Aspect Term Extraction and Polarity Classification.FAST_LCF_ATEPC.result.json\n",
      "Top discovered aspects: ['pay', 'projects', 'environment', 'people', 'organisation', 'company', 'colleagues', 'work', 'management', 'place', 'office', 'atmosphere', 'training', 'team', 'bonus', 'benefits', 'culture', 'employees', 'managers', 'communication', 'hours', 'staff', 'salary', 'manager', 'job', 'development', 'food', 'events', 'location', 'values', 'workload', 'facilities', 'pension', 'time', 'support', 'opportunities', 'learn', 'flexibility', 'teams', 'benefits package', 'perks', 'bonuses', 'networking', 'diversity', 'department', 'service', 'progression', 'it', 'bureaucracy', 'politics', 'processes']\n"
     ]
    }
   ],
   "source": [
    "# Load ABSA model\n",
    "aspect_extractor = ATEPCCheckpointManager.get_aspect_extractor(\n",
    "    checkpoint='english',\n",
    "    auto_device=True\n",
    ")\n",
    "\n",
    "# Sample for ABSA (adjust size as needed)\n",
    "texts_pros = df_sample['pros_clean_min'].dropna().sample(frac=0.5, random_state=42).tolist()\n",
    "texts_cons = df_sample['cons_clean_min'].dropna().sample(frac=0.5, random_state=42).tolist()\n",
    "\n",
    "# Extract aspects from pros and cons\n",
    "absa_results_pros = aspect_extractor.extract_aspect(inference_source=texts_pros, print_result=False)\n",
    "absa_results_cons = aspect_extractor.extract_aspect(inference_source=texts_cons, print_result=False)\n",
    "\n",
    "# Collect discovered aspects\n",
    "from collections import Counter\n",
    "\n",
    "aspect_counter = Counter()\n",
    "for result in absa_results_pros + absa_results_cons:\n",
    "    for asp in result.get(\"aspect\", []):\n",
    "        aspect_counter[asp.lower()] += 1\n",
    "\n",
    "# Show top discovered aspects\n",
    "top_aspects = [asp for asp, count in aspect_counter.items() if count >= 3]\n",
    "print(f\"Top discovered aspects: {top_aspects}\")\n"
   ]
  },
  {
   "cell_type": "code",
   "execution_count": null,
   "id": "951908ab",
   "metadata": {},
   "outputs": [
    {
     "name": "stdout",
     "output_type": "stream",
     "text": [
      "\n",
      "🧾 Number of Reviews Mentioning Each Auto-Detected Aspect (Unique Mentions Only):\n",
      "work           : 325\n",
      "people         : 212\n",
      "company        : 158\n",
      "it             : 147\n",
      "management     : 143\n",
      "hours          : 122\n",
      "pay            : 114\n",
      "opportunities  : 106\n",
      "staff          : 104\n",
      "team           : 97\n",
      "environment    : 90\n",
      "benefits       : 89\n",
      "culture        : 86\n",
      "training       : 78\n",
      "salary         : 75\n",
      "progression    : 74\n",
      "job            : 67\n",
      "time           : 67\n",
      "support        : 54\n",
      "colleagues     : 50\n",
      "place          : 50\n",
      "managers       : 50\n",
      "development    : 50\n",
      "office         : 45\n",
      "employees      : 45\n",
      "organisation   : 32\n",
      "bonus          : 32\n",
      "manager        : 30\n",
      "projects       : 25\n",
      "teams          : 25\n",
      "learn          : 24\n",
      "politics       : 21\n",
      "processes      : 21\n",
      "location       : 20\n",
      "perks          : 19\n",
      "service        : 19\n",
      "atmosphere     : 18\n",
      "events         : 18\n",
      "flexibility    : 17\n",
      "values         : 16\n",
      "communication  : 13\n",
      "pension        : 13\n",
      "food           : 12\n",
      "workload       : 12\n",
      "bureaucracy    : 12\n",
      "bonuses        : 11\n",
      "diversity      : 11\n",
      "department     : 11\n",
      "benefits package: 9\n",
      "facilities     : 8\n",
      "networking     : 4\n"
     ]
    }
   ],
   "source": [
    "from collections import Counter\n",
    "\n",
    "# Combine pros and cons into one string per row\n",
    "combined_texts = (\n",
    "    df_sample['pros_clean_min'].fillna('') + ' ' + df_sample['cons_clean_min'].fillna('')\n",
    ").str.lower()\n",
    "\n",
    "# Count how many unique reviews mention each aspect\n",
    "aspect_review_counts = {asp: combined_texts.str.contains(rf'\\b{asp.lower()}\\b').sum() for asp in top_aspects}\n",
    "\n",
    "# Display sorted\n",
    "print(\"\\nNumber of Reviews Mentioning Each Auto-Detected Aspect (Unique Mentions Only):\")\n",
    "for asp, count in sorted(aspect_review_counts.items(), key=lambda x: -x[1]):\n",
    "    print(f\"{asp:<15}: {count}\")\n"
   ]
  },
  {
   "cell_type": "markdown",
   "id": "aab16b65",
   "metadata": {},
   "source": [
    "## 3. Building a Curated Aspect Dictionary\n",
    "\n",
    "While PyABSA is useful for aspect discovery, we want **full control** over which aspects are analyzed. To achieve this, we build a **manual aspect dictionary** that maps high-level aspects to keyword variants.\n",
    "\n",
    "Examples:\n",
    "- `\"pay\"`: [\"pay\", \"salary\", \"wage\", \"bonus\"]\n",
    "- `\"culture\"`: [\"culture\", \"environment\", \"atmosphere\"]\n",
    "\n",
    "We combine:\n",
    "- Automatically extracted top aspects\n",
    "- Domain knowledge of what matters to candidates\n",
    "- Refinements from multiple review iterations\n",
    "\n",
    "This enhanced dictionary is later used with a classifier to evaluate only these controlled aspects.\n"
   ]
  },
  {
   "cell_type": "code",
   "execution_count": null,
   "id": "8bacf196",
   "metadata": {},
   "outputs": [
    {
     "name": "stdout",
     "output_type": "stream",
     "text": [
      "🔍 Candidates to ADD as new keys:\n",
      "  • projects\n",
      "  • organisation\n",
      "  • company\n",
      "  • work\n",
      "  • place\n",
      "  • office\n",
      "  • employees\n",
      "  • communication\n",
      "  • staff\n",
      "  • manager\n",
      "  • job\n",
      "  • food\n",
      "  • events\n",
      "  • location\n",
      "  • workload\n",
      "  • facilities\n",
      "  • time\n",
      "  • opportunities\n",
      "  • learn\n",
      "  • teams\n",
      "  • benefits package\n",
      "  • bonuses\n",
      "  • networking\n",
      "  • department\n",
      "  • service\n",
      "  • progression\n",
      "  • it\n",
      "  • bureaucracy\n",
      "  • politics\n",
      "  • processes\n",
      "\n",
      "✅ Already present as a keyword (maybe promote to key?):\n",
      "  • environment\n",
      "  • colleagues\n",
      "  • atmosphere\n",
      "  • training\n",
      "  • team\n",
      "  • bonus\n",
      "  • managers\n",
      "  • hours\n",
      "  • salary\n",
      "  • development\n",
      "  • values\n",
      "  • pension\n",
      "  • support\n",
      "  • perks\n",
      "  • diversity\n"
     ]
    }
   ],
   "source": [
    "# 1. Normalise everything to lowercase\n",
    "existing_keys = {k.lower() for k in aspect_groups.keys()}\n",
    "\n",
    "# flatten every keyword in the dictionary\n",
    "existing_keywords = {kw.lower() for kws in aspect_groups.values() for kw in kws}\n",
    "\n",
    "# 2. Compare\n",
    "# a) aspects that are missing entirely\n",
    "missing_new_keys = [asp for asp in top_aspects\n",
    "                    if asp.lower() not in existing_keys\n",
    "                    and asp.lower() not in existing_keywords]\n",
    "\n",
    "# b) aspects that already exist as *keywords* but not as a top‑level key\n",
    "present_as_keyword = [asp for asp in top_aspects\n",
    "                      if asp.lower() not in existing_keys    # not a key\n",
    "                      and asp.lower() in existing_keywords]  # but inside values\n",
    "\n",
    "print(\"Candidates to ADD as new keys:\")\n",
    "for asp in missing_new_keys:\n",
    "    print(\"  •\", asp)\n",
    "\n",
    "print(\"\\nAlready present as a keyword (maybe promote to key?):\")\n",
    "for asp in present_as_keyword:\n",
    "    print(\"  •\", asp)"
   ]
  },
  {
   "cell_type": "markdown",
   "id": "c66ccde2",
   "metadata": {},
   "source": [
    "### Combining for ultimate dictionary:"
   ]
  },
  {
   "cell_type": "code",
   "execution_count": 13,
   "id": "95c1c713",
   "metadata": {},
   "outputs": [],
   "source": [
    "modified_aspect_groups = {\n",
    "    'perks & benefits': [\n",
    "        'benefit', 'benefits', 'employee benefits', 'perks', 'health',\n",
    "        'healthcare', 'insurance', 'pension', 'pension scheme', 'rewards',\n",
    "        'gym', 'lunch', 'dental', 'benefits package', 'package', 'nhs',\n",
    "        'stock', 'discount', 'discounts', 'food', 'coffee', 'drink',\n",
    "        'drinks', 'meal', 'meals'],\n",
    "\n",
    "    'culture': [\n",
    "        'culture', 'family', 'environment', 'atmosphere', 'company culture',\n",
    "        'values', 'enviroment', 'work environment', 'office environment',\n",
    "        'morale', 'communication', 'communications', 'vision', 'sustainability''attitude',\n",
    "        'bullying', 'interaction', 'gossip', 'dress code'],\n",
    "\n",
    "    'diversity & inclusion': [\n",
    "        'diversity', 'inclusion', 'equality', 'equity', 'inclusive',\n",
    "        'minority', 'belonging'],\n",
    "\n",
    "    'growth & learning': [\n",
    "        'growth', 'grow', 'career', 'promotion', 'promotions', 'advancement',\n",
    "        'development', 'opportunity', 'progress', 'opportunities', 'progression',\n",
    "        'career progression', 'learn', 'learning', 'knowledge', 'courses', 'academics',\n",
    "        'academic', 'academy', 'student', 'students', 'teaching', 'university', 'internal movement'],\n",
    "\n",
    "    'hr & recruitment': [\n",
    "        'hr', 'recruitment', 'talent', 'staff', 'staff members', 'staffing',\n",
    "        'policies', 'training', 'onboarding', 'orientation', 'new hire', 'introduction',\n",
    "        'induction'],\n",
    "\n",
    "    'job role clarity': [\n",
    "        'role', 'responsibility', 'job description', 'tasks', 'duties',\n",
    "        'expectation', 'scope'],\n",
    "\n",
    "    'job security': [\n",
    "        'job security', 'security', 'safety', 'layoff', 'firing', 'termination',\n",
    "        'redundancy', 'stable job', 'employment', 'staff turnover', 'turnover'],\n",
    "\n",
    "    'management': [\n",
    "        'directors', 'management', 'managers', 'leader', 'leaders',\n",
    "        'leadership', 'boss', 'supervisor', 'supervisors', 'ceo', 'bosses',\n",
    "        'management structure', 'management team', 'middle management',\n",
    "        'senior management', 'structure', 'bureaucracy', 'bureaucratic',\n",
    "        'red tape', 'tape', 'politics'],\n",
    "\n",
    "    'office & location': [\n",
    "        'office', 'office location', 'office space',\n",
    "        'offices', 'location', 'locations', 'area', 'workplace',\n",
    "        'building', 'buildings', 'facilities', 'space', 'room',\n",
    "        'infrastructure', 'campus', 'canteen', 'parking'],\n",
    "\n",
    "    'pay': [\n",
    "        'pay', 'paid', 'money', 'salary', 'compensation', 'wage', 'wages',\n",
    "        'income', 'bonus', 'bonuses', 'reward', 'salaries', 'sick pay',\n",
    "        'incentives', 'pay rates', 'commission', 'contract',\n",
    "        'contracts', 'terms', 'conditions'],\n",
    "\n",
    "    'people': [\n",
    "        'people', 'colleagues', 'collegues', 'coworker', 'coworkers', 'community',\n",
    "        'teammates', 'social', 'crew'],\n",
    "\n",
    "    'performance feedback': [\n",
    "        'feedback', 'review', 'appraisal', 'evaluation', 'performance',\n",
    "        'supervision', 'goals', 'targets', 'kpi'],\n",
    "\n",
    "    'remote work': [\n",
    "        'remote', 'work from home', 'wfh', 'home office', 'hybrid', 'telework'],\n",
    "\n",
    "    'stress & pressure': [\n",
    "        'stress', 'paced environment', 'pace', 'pressure', 'burnout',\n",
    "        'demanding', 'high pressure', 'overload', 'long hours', 'stressful'],\n",
    "\n",
    "    'teamwork & collaboration': [\n",
    "        'team', 'teams', 'teamwork', 'collaboration', 'supportive',\n",
    "        'helpful', 'team spirit', 'group'],\n",
    "\n",
    "    'tools & resources': [\n",
    "        'tools', 'resources', 'equipment', 'software', 'support', 'access',\n",
    "        'tech stack', 'technology', 'technology', 'tech', 'innovation',\n",
    "        'technologies', 'research'],\n",
    "\n",
    "    'work-life balance': [\n",
    "        'work-life balance', 'workload', 'weekends', 'balance', 'working hours',\n",
    "        'hours', 'flexibility', 'overtime', 'holiday', 'life balance', 'lifestyle',\n",
    "        'annual leave', 'christmas', 'flexible', 'adjustable schedule', 'shift', 'adaptable',\n",
    "        'break', 'breaks']\n",
    "}"
   ]
  },
  {
   "cell_type": "markdown",
   "id": "1d726813",
   "metadata": {},
   "source": [
    "## 4. Sentiment Classification (ASC) with BERT\n",
    "\n",
    "To classify sentiment for each detected aspect, we use a **pretrained BERT model** (`nlptown/bert-base-multilingual-uncased-sentiment`). This model:\n",
    "\n",
    "- Accepts a sentence describing an aspect (prompt-based input)\n",
    "- Returns a sentiment rating from 1 to 5 stars\n",
    "\n",
    "We pass each review segment (pro or con) and aspect as a prompt and record the predicted sentiment distribution and label.\n"
   ]
  },
  {
   "cell_type": "code",
   "execution_count": 14,
   "id": "bcb85fe7",
   "metadata": {},
   "outputs": [
    {
     "data": {
      "application/vnd.jupyter.widget-view+json": {
       "model_id": "32309f727ac3449786c010eb9ff8f922",
       "version_major": 2,
       "version_minor": 0
      },
      "text/plain": [
       "  0%|          | 0/761 [00:00<?, ?it/s]"
      ]
     },
     "metadata": {},
     "output_type": "display_data"
    },
    {
     "data": {
      "application/vnd.jupyter.widget-view+json": {
       "model_id": "4c06a2ff62ea4fc0bc68ccbd2163586c",
       "version_major": 2,
       "version_minor": 0
      },
      "text/plain": [
       "  0%|          | 0/761 [00:00<?, ?it/s]"
      ]
     },
     "metadata": {},
     "output_type": "display_data"
    },
    {
     "data": {
      "application/vnd.jupyter.widget-view+json": {
       "model_id": "3dffd563fc204293bb4c0dd66fb88657",
       "version_major": 2,
       "version_minor": 0
      },
      "text/plain": [
       "  0%|          | 0/761 [00:00<?, ?it/s]"
      ]
     },
     "metadata": {},
     "output_type": "display_data"
    },
    {
     "data": {
      "application/vnd.jupyter.widget-view+json": {
       "model_id": "370f51fccac84eaf97bd614a6209b7fa",
       "version_major": 2,
       "version_minor": 0
      },
      "text/plain": [
       "  0%|          | 0/761 [00:00<?, ?it/s]"
      ]
     },
     "metadata": {},
     "output_type": "display_data"
    },
    {
     "data": {
      "application/vnd.jupyter.widget-view+json": {
       "model_id": "68049a80aa7a47eea7bf9a9e39a7f453",
       "version_major": 2,
       "version_minor": 0
      },
      "text/plain": [
       "  0%|          | 0/761 [00:00<?, ?it/s]"
      ]
     },
     "metadata": {},
     "output_type": "display_data"
    },
    {
     "data": {
      "application/vnd.jupyter.widget-view+json": {
       "model_id": "dda98dfc83ef4b7d85e4ae8dcaf101c2",
       "version_major": 2,
       "version_minor": 0
      },
      "text/plain": [
       "  0%|          | 0/761 [00:00<?, ?it/s]"
      ]
     },
     "metadata": {},
     "output_type": "display_data"
    },
    {
     "data": {
      "application/vnd.jupyter.widget-view+json": {
       "model_id": "89926fe028ca454db2015991de59ccb5",
       "version_major": 2,
       "version_minor": 0
      },
      "text/plain": [
       "  0%|          | 0/761 [00:00<?, ?it/s]"
      ]
     },
     "metadata": {},
     "output_type": "display_data"
    },
    {
     "data": {
      "application/vnd.jupyter.widget-view+json": {
       "model_id": "3f019597ed54433dbe8ead6e87f76f7b",
       "version_major": 2,
       "version_minor": 0
      },
      "text/plain": [
       "  0%|          | 0/761 [00:00<?, ?it/s]"
      ]
     },
     "metadata": {},
     "output_type": "display_data"
    }
   ],
   "source": [
    "df_sample['min_pro_aspect_sentiments'] = df_sample['pros_clean_min'].progress_apply(lambda x: analyze_all_aspect_groups(x, modified_aspect_groups, tone='pos'))\n",
    "df_sample['min_con_aspect_sentiments'] = df_sample['cons_clean_min'].progress_apply(lambda x: analyze_all_aspect_groups(x, modified_aspect_groups, tone='neg'))\n",
    "df_sample['lemma_pro_aspect_sentiments'] = df_sample['pros_clean_lemma_only'].progress_apply(lambda x: analyze_all_aspect_groups(x, modified_aspect_groups, tone='pos'))\n",
    "df_sample['lemma_con_aspect_sentiments'] = df_sample['cons_clean_lemma_only'].progress_apply(lambda x: analyze_all_aspect_groups(x, modified_aspect_groups, tone='neg'))\n",
    "df_sample['Stopword_pro_aspect_sentiments'] = df_sample['pros_clean_with_stopwords'].progress_apply(lambda x: analyze_all_aspect_groups(x, modified_aspect_groups, tone='pos'))\n",
    "df_sample['Stopword_con_aspect_sentiments'] = df_sample['cons_clean_with_stopwords'].progress_apply(lambda x: analyze_all_aspect_groups(x, modified_aspect_groups, tone='neg'))\n",
    "df_sample['Symspell_pro_aspect_sentiments'] = df_sample['pros_clean_with_symspell'].progress_apply(lambda x: analyze_all_aspect_groups(x, modified_aspect_groups, tone='pos'))\n",
    "df_sample['Symspell_con_aspect_sentiments'] = df_sample['cons_clean_with_symspell'].progress_apply(lambda x: analyze_all_aspect_groups(x, modified_aspect_groups, tone='neg'))"
   ]
  },
  {
   "cell_type": "code",
   "execution_count": 15,
   "id": "ac845d93",
   "metadata": {},
   "outputs": [],
   "source": [
    "df_sample.to_csv('comparison_cleans.csv')"
   ]
  },
  {
   "cell_type": "code",
   "execution_count": 16,
   "id": "e4887dee",
   "metadata": {},
   "outputs": [],
   "source": [
    "df_sample[['firm', 'pros', 'cons',\n",
    "       'pros_clean_min', 'pros_clean_lemma_only',\n",
    "       'pros_clean_with_stopwords', 'pros_clean_with_symspell',\n",
    "       'cons_clean_min', 'cons_clean_lemma_only', 'cons_clean_with_stopwords',\n",
    "       'cons_clean_with_symspell', 'min_pro_aspect_sentiments','lemma_pro_aspect_sentiments','Stopword_pro_aspect_sentiments','Symspell_pro_aspect_sentiments',\n",
    "       'min_con_aspect_sentiments', \n",
    "       'lemma_con_aspect_sentiments', \n",
    "       'Stopword_con_aspect_sentiments', \n",
    "       'Symspell_con_aspect_sentiments']].to_csv('comparison_cleans.csv')"
   ]
  },
  {
   "cell_type": "markdown",
   "id": "194a02fa",
   "metadata": {},
   "source": [
    "## 5. Evaluating Cleaning Pipelines\n",
    "\n",
    "We compare how each cleaning method performs when used as input to the ABSA pipeline. Metrics include:\n",
    "\n",
    "- Number of aspects detected\n",
    "- Coverage of known aspects\n",
    "- Consistency in predictions\n",
    "\n",
    "This allows us to select the preprocessing pipeline that preserves important content without introducing noise or omissions.\n"
   ]
  },
  {
   "cell_type": "code",
   "execution_count": 17,
   "id": "8a257a9c",
   "metadata": {},
   "outputs": [
    {
     "name": "stdout",
     "output_type": "stream",
     "text": [
      "\n",
      "Aspect Mentions in PROS:\n",
      "Aspect                                 min       lemma    Stopword    Symspell\n",
      "------------------------------------------------------------------------------\n",
      "culture                                151         149         149         149\n",
      "diversity & inclusion                   14          14          14          14\n",
      "growth & learning                      199         198         198         198\n",
      "hr & recruitment                       135         132         128          83\n",
      "job role clarity                        27          28          28          28\n",
      "job security                            13          13          13          13\n",
      "management                              81          64          64          64\n",
      "office & location                       80          72          72          71\n",
      "pay                                    151         143         143         143\n",
      "people                                 208         170         170         170\n",
      "performance feedback                    16          11          11          11\n",
      "perks & benefits                       150         138         138         138\n",
      "remote work                             17          24           6           6\n",
      "stress & pressure                       18          18          18          18\n",
      "teamwork & collaboration               108         108         108         108\n",
      "tools & resources                       75          72          72          72\n",
      "work-life balance                      161         150         150         150\n",
      "\n",
      "Aspect Mentions in CONS:\n",
      "Aspect                                 min       lemma    Stopword    Symspell\n",
      "------------------------------------------------------------------------------\n",
      "culture                                 88          83          83          79\n",
      "diversity & inclusion                    7           7           7           7\n",
      "growth & learning                      142         142         142         142\n",
      "hr & recruitment                       120         118         105          86\n",
      "job role clarity                        52          49          49          49\n",
      "job security                            25          30          30          30\n",
      "management                             200         163         163         163\n",
      "office & location                       54          52          52          49\n",
      "pay                                    175         171         171         171\n",
      "people                                  88          84          84          84\n",
      "performance feedback                    38          28          28          28\n",
      "perks & benefits                        45          41          41          41\n",
      "remote work                              4           5           3           3\n",
      "stress & pressure                       86          49          49          47\n",
      "teamwork & collaboration                59          59          59          59\n",
      "tools & resources                       50          48          48          48\n",
      "work-life balance                      158          92          92          93\n"
     ]
    }
   ],
   "source": [
    "from collections import defaultdict\n",
    "\n",
    "# Define clean types and columns\n",
    "clean_types = ['min', 'lemma', 'Stopword', 'Symspell']\n",
    "pro_cols = [f'{c}_pro_aspect_sentiments' for c in clean_types]\n",
    "con_cols = [f'{c}_con_aspect_sentiments' for c in clean_types]\n",
    "\n",
    "# Collect all aspects seen in the data\n",
    "all_aspects = sorted({\n",
    "    aspect\n",
    "    for col in pro_cols + con_cols\n",
    "    for entry in df_sample[col].dropna()\n",
    "    for aspect in entry.keys()  # no need to eval, it's already a dict\n",
    "})\n",
    "\n",
    "# Count mentions in pros\n",
    "pro_counts = defaultdict(dict)\n",
    "for method in clean_types:\n",
    "    col = f'{method}_pro_aspect_sentiments'\n",
    "    for aspect in all_aspects:\n",
    "        pro_counts[aspect][method] = df_sample[col].dropna().apply(lambda x: aspect in x).sum()\n",
    "\n",
    "# Count mentions in cons\n",
    "con_counts = defaultdict(dict)\n",
    "for method in clean_types:\n",
    "    col = f'{method}_con_aspect_sentiments'\n",
    "    for aspect in all_aspects:\n",
    "        con_counts[aspect][method] = df_sample[col].dropna().apply(lambda x: aspect in x).sum()\n",
    "\n",
    "# Create DataFrames\n",
    "pro_df = pd.DataFrame.from_dict(pro_counts, orient='index').fillna(0).astype(int).sort_index()\n",
    "con_df = pd.DataFrame.from_dict(con_counts, orient='index').fillna(0).astype(int).sort_index()\n",
    "\n",
    "# Pretty print like your example\n",
    "print(\"\\nAspect Mentions in PROS:\")\n",
    "print(f\"{'Aspect':30}\" + \"\".join([f\"{ct:>12}\" for ct in clean_types]))\n",
    "print(\"-\" * (30 + 12 * len(clean_types)))\n",
    "for aspect, row in pro_df.iterrows():\n",
    "    print(f\"{aspect:30}\" + \"\".join([f\"{row[ct]:12}\" for ct in clean_types]))\n",
    "\n",
    "print(\"\\nAspect Mentions in CONS:\")\n",
    "print(f\"{'Aspect':30}\" + \"\".join([f\"{ct:>12}\" for ct in clean_types]))\n",
    "print(\"-\" * (30 + 12 * len(clean_types)))\n",
    "for aspect, row in con_df.iterrows():\n",
    "    print(f\"{aspect:30}\" + \"\".join([f\"{row[ct]:12}\" for ct in clean_types]))\n"
   ]
  },
  {
   "cell_type": "markdown",
   "id": "0fe66bd2",
   "metadata": {},
   "source": [
    "## 6. Manual Evaluation Against Ground Truth\n",
    "\n",
    "To measure accuracy, we created a **gold-standard dataset** of 100 reviews:\n",
    "\n",
    "- Labeled independently by two human annotators\n",
    "- Includes aspect-sentiment pairs (e.g., \"pay: 2\", \"management: 4\")\n",
    "- Includes ChatGPT-labeled version for triangulation\n",
    "\n",
    "We compare model predictions against human annotations for each cleaning method using:\n",
    "\n",
    "- **Macro / Micro F1**\n",
    "- **Exact match** (aspect + sentiment)\n",
    "- **Aspect precision, recall, and F1** (regardless of sentiment)\n",
    "\n"
   ]
  },
  {
   "cell_type": "code",
   "execution_count": 18,
   "id": "9c9ad04b",
   "metadata": {},
   "outputs": [],
   "source": [
    "dfManual = pd.read_csv(\"Manual aspect detection.csv\")"
   ]
  },
  {
   "cell_type": "markdown",
   "id": "f9b23401",
   "metadata": {},
   "source": [
    "First, we parse through the JSON-like output from PyABSA across the four cleaning conditions."
   ]
  },
  {
   "cell_type": "code",
   "execution_count": null,
   "id": "40650930",
   "metadata": {},
   "outputs": [],
   "source": [
    "def parse_machine(cell: str) -> dict[str, int]:\n",
    "    \"\"\"\n",
    "    Turn the JSON-ish string from the model into {aspect: label}.\n",
    "    Empty/malformed → {}.\n",
    "    \"\"\"\n",
    "    try:\n",
    "        d = ast.literal_eval(cell)\n",
    "        return {k: int(v[\"label\"]) for k, v in d.items() if \"label\" in v}\n",
    "    except Exception:\n",
    "        return {}\n",
    "\n",
    "_hum_re = re.compile(r\"\\s*([^:;]+)\\s*:\\s*([1-5])\")\n",
    "\n",
    "def parse_human(cell) -> dict[str, int]:\n",
    "    \"\"\"\n",
    "    Turn 'culture:4; pay:2' into {'culture':4, 'pay':2}.\n",
    "    Safely skip non-string (NaN) cells.\n",
    "    \"\"\"\n",
    "    if not isinstance(cell, str):\n",
    "        return {}\n",
    "    return {m.group(1).strip(): int(m.group(2)) for m in _hum_re.finditer(cell)}\n",
    "\n"
   ]
  },
  {
   "cell_type": "code",
   "execution_count": 20,
   "id": "27c0810a",
   "metadata": {},
   "outputs": [],
   "source": [
    "CLEAN_VARIANTS = {\n",
    "    \"min\"      : (\"min_pro_aspect_sentiments\",      \"min_con_aspect_sentiments\"),\n",
    "    \"lemma\"    : (\"lemma_pro_aspect_sentiments\",    \"lemma_con_aspect_sentiments\"),\n",
    "    \"stopword\" : (\"Stopword_pro_aspect_sentiments\", \"Stopword_con_aspect_sentiments\"),\n",
    "    \"symspell\" : (\"Symspell_pro_aspect_sentiments\", \"Symspell_con_aspect_sentiments\"),\n",
    "}"
   ]
  },
  {
   "cell_type": "code",
   "execution_count": 21,
   "id": "dc252bc9",
   "metadata": {},
   "outputs": [],
   "source": [
    "def merge_reviews(*dicts):\n",
    "    combined = {}\n",
    "    keys = set().union(*[d.keys() for d in dicts])\n",
    "    for key in keys:\n",
    "        scores = [d.get(key) for d in dicts if d.get(key) is not None]\n",
    "        if scores:\n",
    "            combined[key] = round(sum(scores) / len(scores))\n",
    "    return combined\n"
   ]
  },
  {
   "cell_type": "markdown",
   "id": "e567ef8f",
   "metadata": {},
   "source": [
    "We begin by testing the gold-standard set, which includes two human annotations and one LLM-generated evaluation."
   ]
  },
  {
   "cell_type": "code",
   "execution_count": null,
   "id": "de09d03a",
   "metadata": {},
   "outputs": [],
   "source": [
    "records = []\n",
    "\n",
    "for idx, row in dfManual.iterrows():\n",
    "    gold_marie_pro = parse_human(row[\"Marie's pros\"])\n",
    "    gold_marie_con = parse_human(row[\"Marie's cons\"])\n",
    "    gold_javi_pro  = parse_human(row[\"Javi's pros\"])\n",
    "    gold_javi_con  = parse_human(row[\"Javi's cons\"])\n",
    "    gold_chat_pro  = parse_human(row[\"Chat's pros\"])\n",
    "    gold_chat_con  = parse_human(row[\"Chat's cons\"])\n",
    "\n",
    "    # Option A: Human only\n",
    "    gold_pro = merge_reviews(gold_marie_pro, gold_javi_pro, gold_chat_pro)\n",
    "    gold_con = merge_reviews(gold_marie_con, gold_javi_con, gold_chat_con)\n",
    "\n",
    "\n",
    "    gold_full = {**gold_pro, **gold_con}          # treat pros & cons together\n",
    "\n",
    "    for variant, (pro_col, con_col) in CLEAN_VARIANTS.items():\n",
    "        pred_pro  = parse_machine(row[pro_col])\n",
    "        pred_con  = parse_machine(row[con_col])\n",
    "        pred_full = {**pred_pro, **pred_con}\n",
    "\n",
    "        aspects = set(gold_full) | set(pred_full)\n",
    "        for asp in aspects:\n",
    "            records.append(\n",
    "                dict(method=variant,\n",
    "                     aspect=asp,\n",
    "                     gold = gold_full.get(asp),     # None if missing\n",
    "                     pred = pred_full.get(asp))\n",
    "            )\n",
    "\n",
    "long = pd.DataFrame.from_records(records)\n",
    "# drop rows where the human reviewer had no opinion for that aspect\n",
    "long = long[long.gold.notna()]\n",
    "long[\"gold_binary\"] = 1\n",
    "long[\"pred_binary\"] = long[\"pred\"].notna().astype(int)\n",
    "\n"
   ]
  },
  {
   "cell_type": "code",
   "execution_count": null,
   "id": "58f02561",
   "metadata": {},
   "outputs": [],
   "source": [
    "METRICS = {}\n",
    "\n",
    "for variant, grp in long.groupby(\"method\"):\n",
    "    y_true = grp[\"gold\"]\n",
    "    y_pred = grp[\"pred\"].fillna(0)          # 0 = “model didn’t predict this aspect”\n",
    "\n",
    "    # The class list forces metrics to treat all 5 sentiment levels equally\n",
    "    labels = [1, 2, 3, 4, 5]\n",
    "\n",
    "    macro_f1 = f1_score(y_true, y_pred, labels=labels, average=\"macro\")\n",
    "    micro_f1 = f1_score(y_true, y_pred, labels=labels, average=\"micro\")\n",
    "    acc      = accuracy_score(y_true, y_pred)\n",
    "\n",
    "    METRICS[variant] = dict(macro_f1=macro_f1,\n",
    "                            micro_f1=micro_f1,\n",
    "                            exact_match=acc,\n",
    "                            samples=len(grp))\n",
    "\n",
    "results = (pd.DataFrame(METRICS)\n",
    "           .T.sort_values(\"macro_f1\", ascending=False)\n",
    "           .round(3))\n"
   ]
  },
  {
   "cell_type": "code",
   "execution_count": null,
   "id": "eb4ca35c",
   "metadata": {},
   "outputs": [],
   "source": [
    "from sklearn.metrics import precision_score, recall_score, f1_score\n",
    "\n",
    "aspect_metrics = {}\n",
    "\n",
    "for variant, grp in long.groupby(\"method\"):\n",
    "    prec = precision_score(grp[\"gold_binary\"], grp[\"pred_binary\"])\n",
    "    rec  = recall_score(grp[\"gold_binary\"], grp[\"pred_binary\"])\n",
    "    f1   = f1_score(grp[\"gold_binary\"], grp[\"pred_binary\"])\n",
    "\n",
    "    aspect_metrics[variant] = {\n",
    "        \"aspect_precision\": round(prec, 3),\n",
    "        \"aspect_recall\": round(rec, 3),\n",
    "        \"aspect_f1\": round(f1, 3)\n",
    "    }\n",
    "\n",
    "aspect_results = pd.DataFrame(aspect_metrics).T\n"
   ]
  },
  {
   "cell_type": "code",
   "execution_count": null,
   "id": "7e3985f7",
   "metadata": {},
   "outputs": [
    {
     "name": "stdout",
     "output_type": "stream",
     "text": [
      "including chat\n",
      "          macro_f1  micro_f1  exact_match  samples  aspect_precision  \\\n",
      "min          0.309     0.388        0.302    559.0               1.0   \n",
      "lemma        0.276     0.391        0.295    559.0               1.0   \n",
      "stopword     0.275     0.390        0.293    559.0               1.0   \n",
      "symspell     0.266     0.377        0.281    559.0               1.0   \n",
      "\n",
      "          aspect_recall  aspect_f1  \n",
      "min               0.558      0.716  \n",
      "lemma             0.510      0.675  \n",
      "stopword          0.504      0.671  \n",
      "symspell          0.490      0.658  \n"
     ]
    }
   ],
   "source": [
    "combined_results = results.join(aspect_results)\n",
    "print(\"Including LLM\")\n",
    "print(combined_results.sort_values(\"macro_f1\", ascending=False))\n"
   ]
  },
  {
   "cell_type": "markdown",
   "id": "954fde17",
   "metadata": {},
   "source": [
    "While we initially included LLM-labeled outputs for triangulation and scalability, we found them inconsistent for fine-grained ABSA. Since minimal cleaning (min) showed the best performance across metrics, we now compare all model predictions exclusively against the human-labeled gold-standard to more reliably assess its effectiveness."
   ]
  },
  {
   "cell_type": "code",
   "execution_count": 22,
   "id": "a08d0b85",
   "metadata": {},
   "outputs": [],
   "source": [
    "records = []\n",
    "\n",
    "for idx, row in dfManual.iterrows():\n",
    "    gold_marie_pro = parse_human(row[\"Marie's pros\"])\n",
    "    gold_marie_con = parse_human(row[\"Marie's cons\"])\n",
    "    gold_javi_pro  = parse_human(row[\"Javi's pros\"])\n",
    "    gold_javi_con  = parse_human(row[\"Javi's cons\"])\n",
    "\n",
    "    # Option A: Human only\n",
    "    gold_pro = merge_reviews(gold_marie_pro, gold_javi_pro)\n",
    "    gold_con = merge_reviews(gold_marie_con, gold_javi_con)\n",
    "\n",
    "\n",
    "    gold_full = {**gold_pro, **gold_con}          # treat pros & cons together\n",
    "\n",
    "    for variant, (pro_col, con_col) in CLEAN_VARIANTS.items():\n",
    "        pred_pro  = parse_machine(row[pro_col])\n",
    "        pred_con  = parse_machine(row[con_col])\n",
    "        pred_full = {**pred_pro, **pred_con}\n",
    "\n",
    "        aspects = set(gold_full) | set(pred_full)\n",
    "        for asp in aspects:\n",
    "            records.append(\n",
    "                dict(method=variant,\n",
    "                     aspect=asp,\n",
    "                     gold = gold_full.get(asp),     # None if missing\n",
    "                     pred = pred_full.get(asp))\n",
    "            )\n",
    "\n",
    "long = pd.DataFrame.from_records(records)\n",
    "# drop rows where the human reviewer had no opinion for that aspect\n",
    "long = long[long.gold.notna()]\n",
    "long[\"gold_binary\"] = 1\n",
    "long[\"pred_binary\"] = long[\"pred\"].notna().astype(int)\n",
    "\n"
   ]
  },
  {
   "cell_type": "code",
   "execution_count": 23,
   "id": "018e1710",
   "metadata": {},
   "outputs": [],
   "source": [
    "METRICS = {}\n",
    "\n",
    "for variant, grp in long.groupby(\"method\"):\n",
    "    y_true = grp[\"gold\"]\n",
    "    y_pred = grp[\"pred\"].fillna(0)          # 0 = “model didn’t predict this aspect”\n",
    "\n",
    "    # The class list forces metrics to treat all 5 sentiment levels equally\n",
    "    labels = [1, 2, 3, 4, 5]\n",
    "\n",
    "    macro_f1 = f1_score(y_true, y_pred, labels=labels, average=\"macro\")\n",
    "    micro_f1 = f1_score(y_true, y_pred, labels=labels, average=\"micro\")\n",
    "    acc      = accuracy_score(y_true, y_pred)\n",
    "\n",
    "    METRICS[variant] = dict(macro_f1=macro_f1,\n",
    "                            micro_f1=micro_f1,\n",
    "                            exact_match=acc,\n",
    "                            samples=len(grp))\n",
    "\n",
    "results = (pd.DataFrame(METRICS)\n",
    "           .T.sort_values(\"macro_f1\", ascending=False)\n",
    "           .round(3))\n"
   ]
  },
  {
   "cell_type": "code",
   "execution_count": 24,
   "id": "d4c81023",
   "metadata": {},
   "outputs": [],
   "source": [
    "from sklearn.metrics import precision_score, recall_score, f1_score\n",
    "\n",
    "aspect_metrics = {}\n",
    "\n",
    "for variant, grp in long.groupby(\"method\"):\n",
    "    prec = precision_score(grp[\"gold_binary\"], grp[\"pred_binary\"])\n",
    "    rec  = recall_score(grp[\"gold_binary\"], grp[\"pred_binary\"])\n",
    "    f1   = f1_score(grp[\"gold_binary\"], grp[\"pred_binary\"])\n",
    "\n",
    "    aspect_metrics[variant] = {\n",
    "        \"aspect_precision\": round(prec, 3),\n",
    "        \"aspect_recall\": round(rec, 3),\n",
    "        \"aspect_f1\": round(f1, 3)\n",
    "    }\n",
    "\n",
    "aspect_results = pd.DataFrame(aspect_metrics).T\n"
   ]
  },
  {
   "cell_type": "code",
   "execution_count": null,
   "id": "6a05091c",
   "metadata": {},
   "outputs": [
    {
     "name": "stdout",
     "output_type": "stream",
     "text": [
      "excluding chat\n",
      "          macro_f1  micro_f1  exact_match  samples  aspect_precision  \\\n",
      "min          0.345     0.443        0.365    444.0               1.0   \n",
      "lemma        0.331     0.443        0.351    444.0               1.0   \n",
      "stopword     0.300     0.415        0.329    444.0               1.0   \n",
      "symspell     0.300     0.405        0.318    444.0               1.0   \n",
      "\n",
      "          aspect_recall  aspect_f1  \n",
      "min               0.646      0.785  \n",
      "lemma             0.588      0.740  \n",
      "stopword          0.586      0.739  \n",
      "symspell          0.568      0.724  \n"
     ]
    }
   ],
   "source": [
    "combined_results = results.join(aspect_results)\n",
    "print(\"Excluding LLM\")\n",
    "print(combined_results.sort_values(\"macro_f1\", ascending=False))\n"
   ]
  },
  {
   "cell_type": "markdown",
   "id": "d1e61a1d",
   "metadata": {},
   "source": [
    "**Result:** Minimal cleaning (min) consistently yields the best performance across all metrics—including accuracy, recall, and F1—both when evaluating solely on human-labeled data and when combining it with LLM-generated labels.\n"
   ]
  },
  {
   "cell_type": "markdown",
   "id": "c1d43a8e",
   "metadata": {},
   "source": [
    "## 7. Apply Best Pipeline to Full Dataset\n",
    "\n",
    "We apply the best ABSA configuration:\n",
    "- **Minimal cleaning**\n",
    "- **Manual aspect dictionary**\n",
    "- **BERT-based sentiment scoring**\n",
    "\n",
    "For each review:\n",
    "- `pros` and `cons` are analyzed separately\n",
    "- All matching aspects are assigned a 1–5 star rating\n",
    "- Probabilities for each star level are retained\n",
    "\n",
    "We flatten the output into long-format rows, one per (firm, aspect, source), to prepare for aggregation.\n"
   ]
  },
  {
   "cell_type": "code",
   "execution_count": 30,
   "id": "17640293",
   "metadata": {},
   "outputs": [],
   "source": [
    "dfFinal = pd.read_csv('filtered_england_recent.csv')"
   ]
  },
  {
   "cell_type": "code",
   "execution_count": 31,
   "id": "54abf907",
   "metadata": {},
   "outputs": [
    {
     "name": "stdout",
     "output_type": "stream",
     "text": [
      "Processing column: pros\n"
     ]
    },
    {
     "data": {
      "application/vnd.jupyter.widget-view+json": {
       "model_id": "8a46a10d2b0543c392f090351ecb1ec1",
       "version_major": 2,
       "version_minor": 0
      },
      "text/plain": [
       "  0%|          | 0/76126 [00:00<?, ?it/s]"
      ]
     },
     "metadata": {},
     "output_type": "display_data"
    },
    {
     "name": "stdout",
     "output_type": "stream",
     "text": [
      "Processing column: cons\n"
     ]
    },
    {
     "data": {
      "application/vnd.jupyter.widget-view+json": {
       "model_id": "6352cae334554451bc37dcb11675049a",
       "version_major": 2,
       "version_minor": 0
      },
      "text/plain": [
       "  0%|          | 0/76126 [00:00<?, ?it/s]"
      ]
     },
     "metadata": {},
     "output_type": "display_data"
    }
   ],
   "source": [
    "for col in ['pros', 'cons']:\n",
    "    print(f\"Processing column: {col}\")\n",
    "    dfFinal[f'{col}_clean_min'] = dfFinal[col].progress_apply(clean_min)"
   ]
  },
  {
   "cell_type": "code",
   "execution_count": 32,
   "id": "10421988",
   "metadata": {},
   "outputs": [],
   "source": [
    "dfFinal.to_csv(\"preprocessed_england_dataset.csv\", index=False)"
   ]
  },
  {
   "cell_type": "markdown",
   "id": "18c294d8",
   "metadata": {},
   "source": [
    "### Applying aspect groups"
   ]
  },
  {
   "cell_type": "code",
   "execution_count": null,
   "id": "1d2a4879",
   "metadata": {},
   "outputs": [
    {
     "data": {
      "application/vnd.jupyter.widget-view+json": {
       "model_id": "ded873be8c9a4898bd34ce83877b9417",
       "version_major": 2,
       "version_minor": 0
      },
      "text/plain": [
       "  0%|          | 0/76126 [00:00<?, ?it/s]"
      ]
     },
     "metadata": {},
     "output_type": "display_data"
    }
   ],
   "source": [
    "dfFinal['min_pro_aspect_sentiments'] = dfFinal['pros_clean_min'].progress_apply(lambda x: analyze_all_aspect_groups(x, modified_aspect_groups, tone='pos'))\n",
    "dfFinal['min_con_aspect_sentiments'] = dfFinal['cons_clean_min'].progress_apply(lambda x: analyze_all_aspect_groups(x, modified_aspect_groups, tone='neg'))"
   ]
  },
  {
   "cell_type": "markdown",
   "id": "02a88734",
   "metadata": {},
   "source": [
    "## 8. Company-Level Aggregation\n",
    "\n",
    "Using the full set of aspect sentiments, we compute:\n",
    "\n",
    "- **Average star rating** per (firm, aspect)\n",
    "- **Number of mentions** per (firm, aspect)\n",
    "\n",
    "We output two matrices:\n",
    "- **Long format**: for analysis and visualizations\n",
    "- **Wide format**: for use in modeling and recommendation (e.g., similarity matching)\n",
    "\n",
    "These outputs are saved and used in:\n",
    "- Aspect-based EDA which allows for modelling and summarization"
   ]
  },
  {
   "cell_type": "code",
   "execution_count": null,
   "id": "318caa80",
   "metadata": {},
   "outputs": [],
   "source": [
    "def flatten_aspect_sentiments(row, source):\n",
    "    results = []\n",
    "    firm = row.get('firm') or row.get('company')  # fallback\n",
    "    sentiments = row.get(source, {})\n",
    "    for aspect, scores in sentiments.items():\n",
    "        # Aggregate actual star rating (1–5)\n",
    "        rating = scores.get(\"label\")\n",
    "        all_stars = {i: scores.get(i, 0.0) for i in range(1, 6)}\n",
    "\n",
    "        results.append({\n",
    "            \"firm\": firm,\n",
    "            \"aspect\": aspect,\n",
    "            \"source\": source.replace('_aspect_sentiments', ''),  # 'pro' or 'con'\n",
    "            \"star_rating\": rating,\n",
    "            **all_stars\n",
    "        })\n",
    "    return results"
   ]
  },
  {
   "cell_type": "code",
   "execution_count": null,
   "id": "ebe4f190",
   "metadata": {},
   "outputs": [],
   "source": [
    "# 3. Apply to full dataset\n",
    "flattened = []\n",
    "for _, row in dfFinal.iterrows():\n",
    "    flattened += flatten_aspect_sentiments(row, 'min_pro_aspect_sentiments')\n",
    "    flattened += flatten_aspect_sentiments(row, 'min_con_aspect_sentiments')\n",
    "\n",
    "flat_df = pd.DataFrame(flattened)\n",
    "\n",
    "# 4. Aggregate star ratings + count mentions per company/aspect\n",
    "company_aspect_matrix = flat_df.groupby(['firm', 'aspect'])['star_rating'].agg(\n",
    "    avg_star_rating='mean',\n",
    "    n_mentions='count'\n",
    ").reset_index()\n",
    "company_aspect_pivot = company_aspect_matrix.pivot(\n",
    "    index='firm',\n",
    "    columns='aspect',\n",
    "    values='avg_star_rating'\n",
    ")"
   ]
  },
  {
   "cell_type": "markdown",
   "id": "66bd268d",
   "metadata": {},
   "source": [
    "### Exporting results"
   ]
  },
  {
   "cell_type": "code",
   "execution_count": null,
   "id": "95b8cfe3",
   "metadata": {},
   "outputs": [],
   "source": [
    "# 6. Export\n",
    "company_aspect_matrix.to_csv('Final_company_aspect_matrix_with_counts.csv', index=False)\n",
    "company_aspect_pivot.to_csv('Final_company_aspect_matrix_wide.csv', index=False)\n"
   ]
  },
  {
   "cell_type": "markdown",
   "id": "16b33459",
   "metadata": {},
   "source": [
    "# Summary\n",
    "\n",
    "This notebook implemented and evaluated an ABSA pipeline for extracting fine-grained aspect-level sentiments from employee reviews.\n",
    "\n",
    "Key components included:\n",
    "- Testing four text cleaning strategies\n",
    "- Using PyABSA for automatic aspect discovery\n",
    "- Building a custom aspect dictionary\n",
    "- Applying a BERT classifier for sentiment scoring\n",
    "- Manually evaluating performance against human labels\n",
    "\n",
    "The output is a structured, interpretable dataset capturing how each company is perceived across a set of predefined candidate-relevant aspects. This forms the foundation for recommendation, exploration, and summarization in the following modules.\n"
   ]
  }
 ],
 "metadata": {
  "kernelspec": {
   "display_name": "nlp",
   "language": "python",
   "name": "python3"
  },
  "language_info": {
   "codemirror_mode": {
    "name": "ipython",
    "version": 3
   },
   "file_extension": ".py",
   "mimetype": "text/x-python",
   "name": "python",
   "nbconvert_exporter": "python",
   "pygments_lexer": "ipython3",
   "version": "3.11.8"
  }
 },
 "nbformat": 4,
 "nbformat_minor": 5
}
