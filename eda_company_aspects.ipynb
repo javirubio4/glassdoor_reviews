{
 "cells": [
  {
   "cell_type": "markdown",
   "id": "b7163f5b",
   "metadata": {},
   "source": [
    "## Libraries"
   ]
  },
  {
   "cell_type": "code",
   "execution_count": null,
   "id": "adc1fa2b",
   "metadata": {},
   "outputs": [],
   "source": [
    "import pandas as pd\n",
    "import matplotlib.pyplot as plt\n",
    "import math\n",
    "import requests\n",
    "from itertools import combinations\n",
    "pd.set_option('display.max_colwidth', None)"
   ]
  },
  {
   "cell_type": "markdown",
   "id": "11b7b74a",
   "metadata": {},
   "source": [
    "## Dataset - company aspects by firm"
   ]
  },
  {
   "cell_type": "code",
   "execution_count": 25,
   "id": "490a1874",
   "metadata": {},
   "outputs": [
    {
     "data": {
      "text/plain": [
       "3756"
      ]
     },
     "execution_count": 25,
     "metadata": {},
     "output_type": "execute_result"
    }
   ],
   "source": [
    "df = pd.read_csv(\"C:/Users/lasko/Documents/Bocconi/2nd_Semester/Natural Language Processing/Final Project/company_aspect_matrix_with_counts.csv\")\n",
    "len(df)"
   ]
  },
  {
   "cell_type": "code",
   "execution_count": 26,
   "id": "bef4c91c",
   "metadata": {},
   "outputs": [
    {
     "data": {
      "text/html": [
       "<div>\n",
       "<style scoped>\n",
       "    .dataframe tbody tr th:only-of-type {\n",
       "        vertical-align: middle;\n",
       "    }\n",
       "\n",
       "    .dataframe tbody tr th {\n",
       "        vertical-align: top;\n",
       "    }\n",
       "\n",
       "    .dataframe thead th {\n",
       "        text-align: right;\n",
       "    }\n",
       "</style>\n",
       "<table border=\"1\" class=\"dataframe\">\n",
       "  <thead>\n",
       "    <tr style=\"text-align: right;\">\n",
       "      <th></th>\n",
       "      <th>firm</th>\n",
       "      <th>aspect</th>\n",
       "      <th>avg_star_rating</th>\n",
       "      <th>n_mentions</th>\n",
       "    </tr>\n",
       "  </thead>\n",
       "  <tbody>\n",
       "    <tr>\n",
       "      <th>0</th>\n",
       "      <td>AFH Wealth Management</td>\n",
       "      <td>benefits</td>\n",
       "      <td>3.00</td>\n",
       "      <td>2</td>\n",
       "    </tr>\n",
       "    <tr>\n",
       "      <th>1</th>\n",
       "      <td>AFH Wealth Management</td>\n",
       "      <td>culture</td>\n",
       "      <td>5.00</td>\n",
       "      <td>1</td>\n",
       "    </tr>\n",
       "    <tr>\n",
       "      <th>2</th>\n",
       "      <td>AFH Wealth Management</td>\n",
       "      <td>flexibility</td>\n",
       "      <td>1.00</td>\n",
       "      <td>1</td>\n",
       "    </tr>\n",
       "    <tr>\n",
       "      <th>3</th>\n",
       "      <td>AFH Wealth Management</td>\n",
       "      <td>management</td>\n",
       "      <td>2.75</td>\n",
       "      <td>4</td>\n",
       "    </tr>\n",
       "    <tr>\n",
       "      <th>4</th>\n",
       "      <td>AFH Wealth Management</td>\n",
       "      <td>pay</td>\n",
       "      <td>3.00</td>\n",
       "      <td>2</td>\n",
       "    </tr>\n",
       "  </tbody>\n",
       "</table>\n",
       "</div>"
      ],
      "text/plain": [
       "                    firm       aspect  avg_star_rating  n_mentions\n",
       "0  AFH Wealth Management     benefits             3.00           2\n",
       "1  AFH Wealth Management      culture             5.00           1\n",
       "2  AFH Wealth Management  flexibility             1.00           1\n",
       "3  AFH Wealth Management   management             2.75           4\n",
       "4  AFH Wealth Management          pay             3.00           2"
      ]
     },
     "execution_count": 26,
     "metadata": {},
     "output_type": "execute_result"
    }
   ],
   "source": [
    "df.head()"
   ]
  },
  {
   "cell_type": "markdown",
   "id": "8c10219a",
   "metadata": {},
   "source": [
    "## EDA for company aspects"
   ]
  },
  {
   "cell_type": "code",
   "execution_count": null,
   "id": "0a19d27e",
   "metadata": {},
   "outputs": [
    {
     "data": {
      "text/plain": [
       "(1, 101, 7.079872204472843)"
      ]
     },
     "execution_count": 27,
     "metadata": {},
     "output_type": "execute_result"
    }
   ],
   "source": [
    "df['n_mentions'].min(), df['n_mentions'].max()"
   ]
  },
  {
   "cell_type": "code",
   "execution_count": 28,
   "id": "cdf83052",
   "metadata": {},
   "outputs": [
    {
     "data": {
      "image/png": "[encoded data removed]",
      "text/plain": [
       "<Figure size 800x500 with 1 Axes>"
      ]
     },
     "metadata": {},
     "output_type": "display_data"
    }
   ],
   "source": [
    "bins = list(range(0, 110, 10))\n",
    "\n",
    "plt.figure(figsize=(8,5))\n",
    "plt.hist(df['n_mentions'], bins=bins, edgecolor='black', align='left')\n",
    "plt.title('Distribution of Number of Mentions')\n",
    "plt.xlabel('Number of Mentions')\n",
    "plt.ylabel('Frequency')\n",
    "plt.xticks(bins)\n",
    "plt.grid(axis='y', linestyle='--', alpha=0.7)\n",
    "plt.show()\n"
   ]
  },
  {
   "cell_type": "markdown",
   "id": "b0dad938",
   "metadata": {},
   "source": [
    "The distribution of the number of times an aspect has been mentioned for a specific company is **highly left-skewed**. "
   ]
  },
  {
   "cell_type": "code",
   "execution_count": 29,
   "id": "a2848982",
   "metadata": {},
   "outputs": [
    {
     "name": "stdout",
     "output_type": "stream",
     "text": [
      "Currently the dataset consists of 313 companies\n"
     ]
    }
   ],
   "source": [
    "companies_count = len(df.groupby('firm'))\n",
    "print(f'Currently the dataset consists of {companies_count} companies')"
   ]
  },
  {
   "cell_type": "code",
   "execution_count": 82,
   "id": "bd22b735",
   "metadata": {},
   "outputs": [],
   "source": [
    "mentions_count = df.groupby('firm')['n_mentions'].sum()\n",
    "mentions_count = mentions_count.sort_values(ascending=False)"
   ]
  },
  {
   "cell_type": "markdown",
   "id": "8ac85c65",
   "metadata": {},
   "source": [
    "Top 20 companies by total number of aspect mentions:"
   ]
  },
  {
   "cell_type": "code",
   "execution_count": 83,
   "id": "732477fc",
   "metadata": {},
   "outputs": [
    {
     "data": {
      "image/png": "[encoded data removed]",
      "text/plain": [
       "<Figure size 1200x600 with 1 Axes>"
      ]
     },
     "metadata": {},
     "output_type": "display_data"
    }
   ],
   "source": [
    "mentions_count.head(20).plot(kind='bar', figsize=(12, 6))\n",
    "plt.title(\"Top 20 Firms by Total Mentions\")\n",
    "plt.xlabel(\"Firm\")\n",
    "plt.ylabel(\"Total Mentions\")\n",
    "plt.xticks(rotation=45, ha='right')\n",
    "plt.grid(axis='y', linestyle='--', alpha=0.7)\n",
    "plt.tight_layout()\n",
    "plt.show()\n"
   ]
  },
  {
   "cell_type": "code",
   "execution_count": 31,
   "id": "c767b179",
   "metadata": {},
   "outputs": [
    {
     "data": {
      "text/plain": [
       "firm\n",
       "Animal and Plant Health Agency          3\n",
       "Department of Health UK                 3\n",
       "Egon Zehnder                            4\n",
       "HM Courts and Tribunals Service         3\n",
       "Intelligent Office UK                   2\n",
       "KKR                                     3\n",
       "LGT Group                               2\n",
       "National Offender Management Service    2\n",
       "National Star                           3\n",
       "Newcastle Upon Tyne Hospitals NHS       1\n",
       "Orbit Group                             3\n",
       "Penderels Trust                         3\n",
       "Sport England                           1\n",
       "Wakefield Council                       4\n",
       "XPS Pensions Group                      2\n",
       "ibis                                    4\n",
       "Name: n_mentions, dtype: int64"
      ]
     },
     "execution_count": 31,
     "metadata": {},
     "output_type": "execute_result"
    }
   ],
   "source": [
    "mentions_count[mentions_count<5]"
   ]
  },
  {
   "cell_type": "code",
   "execution_count": 32,
   "id": "b9a8c83e",
   "metadata": {},
   "outputs": [
    {
     "data": {
      "text/plain": [
       "16"
      ]
     },
     "execution_count": 32,
     "metadata": {},
     "output_type": "execute_result"
    }
   ],
   "source": [
    "len(mentions_count[mentions_count<5])"
   ]
  },
  {
   "cell_type": "markdown",
   "id": "57286599",
   "metadata": {},
   "source": [
    "There are 16 companies for which the total number of mentions of all aspects is below 5."
   ]
  },
  {
   "cell_type": "code",
   "execution_count": 85,
   "id": "a6c17f92",
   "metadata": {},
   "outputs": [
    {
     "data": {
      "text/plain": [
       "18"
      ]
     },
     "execution_count": 85,
     "metadata": {},
     "output_type": "execute_result"
    }
   ],
   "source": [
    "df['aspect'].nunique()"
   ]
  },
  {
   "cell_type": "markdown",
   "id": "d0e3b453",
   "metadata": {},
   "source": [
    "There are **18 unique aspects** in the dataset."
   ]
  },
  {
   "cell_type": "markdown",
   "id": "5f55ed58",
   "metadata": {},
   "source": [
    "Total number of mentions per aspect:"
   ]
  },
  {
   "cell_type": "code",
   "execution_count": 86,
   "id": "01ca6151",
   "metadata": {},
   "outputs": [
    {
     "data": {
      "image/png": "[encoded data removed]",
      "text/plain": [
       "<Figure size 1200x600 with 1 Axes>"
      ]
     },
     "metadata": {},
     "output_type": "display_data"
    }
   ],
   "source": [
    "aspect_mentions = df.groupby('aspect')['n_mentions'].sum().sort_values(ascending=False)\n",
    "\n",
    "plt.figure(figsize=(12, 6))\n",
    "aspect_mentions.plot(kind='bar')\n",
    "plt.title(f\"Aspects by Total Mentions\")\n",
    "plt.xlabel(\"Aspect\")\n",
    "plt.ylabel(\"Total Mentions\")\n",
    "plt.xticks(rotation=45, ha='right')\n",
    "plt.grid(axis='y', linestyle='--', alpha=0.7)\n",
    "plt.tight_layout()\n",
    "plt.show()"
   ]
  },
  {
   "cell_type": "markdown",
   "id": "66628573",
   "metadata": {},
   "source": [
    "The **TOP 5 most commonly mentioned aspects** are:\n",
    "- people\n",
    "- growth\n",
    "- pay\n",
    "- work-life balance\n",
    "- management\n",
    "\n",
    "The **TOP 5 most rarely mentioned aspects** are:\n",
    "- travel\n",
    "- performance feedback\n",
    "- diversity & inclusion\n",
    "- remote work\n",
    "- job security"
   ]
  },
  {
   "cell_type": "code",
   "execution_count": null,
   "id": "e552e3d4",
   "metadata": {},
   "outputs": [
    {
     "data": {
      "text/html": [
       "<div>\n",
       "<style scoped>\n",
       "    .dataframe tbody tr th:only-of-type {\n",
       "        vertical-align: middle;\n",
       "    }\n",
       "\n",
       "    .dataframe tbody tr th {\n",
       "        vertical-align: top;\n",
       "    }\n",
       "\n",
       "    .dataframe thead th {\n",
       "        text-align: right;\n",
       "    }\n",
       "</style>\n",
       "<table border=\"1\" class=\"dataframe\">\n",
       "  <thead>\n",
       "    <tr style=\"text-align: right;\">\n",
       "      <th></th>\n",
       "      <th>firm</th>\n",
       "      <th>n_aspects</th>\n",
       "    </tr>\n",
       "  </thead>\n",
       "  <tbody>\n",
       "    <tr>\n",
       "      <th>156</th>\n",
       "      <td>J P Morgan</td>\n",
       "      <td>18</td>\n",
       "    </tr>\n",
       "    <tr>\n",
       "      <th>205</th>\n",
       "      <td>Network Rail</td>\n",
       "      <td>18</td>\n",
       "    </tr>\n",
       "    <tr>\n",
       "      <th>34</th>\n",
       "      <td>BT</td>\n",
       "      <td>18</td>\n",
       "    </tr>\n",
       "    <tr>\n",
       "      <th>32</th>\n",
       "      <td>BP</td>\n",
       "      <td>18</td>\n",
       "    </tr>\n",
       "    <tr>\n",
       "      <th>51</th>\n",
       "      <td>Booking com</td>\n",
       "      <td>18</td>\n",
       "    </tr>\n",
       "    <tr>\n",
       "      <th>...</th>\n",
       "      <td>...</td>\n",
       "      <td>...</td>\n",
       "    </tr>\n",
       "    <tr>\n",
       "      <th>202</th>\n",
       "      <td>National Offender Management Service</td>\n",
       "      <td>2</td>\n",
       "    </tr>\n",
       "    <tr>\n",
       "      <th>152</th>\n",
       "      <td>Intelligent Office UK</td>\n",
       "      <td>2</td>\n",
       "    </tr>\n",
       "    <tr>\n",
       "      <th>171</th>\n",
       "      <td>LGT Group</td>\n",
       "      <td>2</td>\n",
       "    </tr>\n",
       "    <tr>\n",
       "      <th>256</th>\n",
       "      <td>Sport England</td>\n",
       "      <td>1</td>\n",
       "    </tr>\n",
       "    <tr>\n",
       "      <th>206</th>\n",
       "      <td>Newcastle Upon Tyne Hospitals NHS</td>\n",
       "      <td>1</td>\n",
       "    </tr>\n",
       "  </tbody>\n",
       "</table>\n",
       "<p>313 rows × 2 columns</p>\n",
       "</div>"
      ],
      "text/plain": [
       "                                     firm  n_aspects\n",
       "156                            J P Morgan         18\n",
       "205                          Network Rail         18\n",
       "34                                     BT         18\n",
       "32                                     BP         18\n",
       "51                            Booking com         18\n",
       "..                                    ...        ...\n",
       "202  National Offender Management Service          2\n",
       "152                 Intelligent Office UK          2\n",
       "171                             LGT Group          2\n",
       "256                         Sport England          1\n",
       "206     Newcastle Upon Tyne Hospitals NHS          1\n",
       "\n",
       "[313 rows x 2 columns]"
      ]
     },
     "execution_count": 33,
     "metadata": {},
     "output_type": "execute_result"
    }
   ],
   "source": [
    "# Count number of aspects per firm\n",
    "aspect_count = df.groupby('firm')['aspect'].count().reset_index(name='n_aspects')\n",
    "aspect_count.sort_values('n_aspects', ascending=False)"
   ]
  },
  {
   "cell_type": "code",
   "execution_count": 34,
   "id": "500562cb",
   "metadata": {},
   "outputs": [
    {
     "data": {
      "text/html": [
       "<div>\n",
       "<style scoped>\n",
       "    .dataframe tbody tr th:only-of-type {\n",
       "        vertical-align: middle;\n",
       "    }\n",
       "\n",
       "    .dataframe tbody tr th {\n",
       "        vertical-align: top;\n",
       "    }\n",
       "\n",
       "    .dataframe thead th {\n",
       "        text-align: right;\n",
       "    }\n",
       "</style>\n",
       "<table border=\"1\" class=\"dataframe\">\n",
       "  <thead>\n",
       "    <tr style=\"text-align: right;\">\n",
       "      <th></th>\n",
       "      <th>firm</th>\n",
       "      <th>n_aspects</th>\n",
       "    </tr>\n",
       "  </thead>\n",
       "  <tbody>\n",
       "    <tr>\n",
       "      <th>15</th>\n",
       "      <td>Anglo American</td>\n",
       "      <td>4</td>\n",
       "    </tr>\n",
       "    <tr>\n",
       "      <th>16</th>\n",
       "      <td>Animal and Plant Health Agency</td>\n",
       "      <td>2</td>\n",
       "    </tr>\n",
       "    <tr>\n",
       "      <th>96</th>\n",
       "      <td>Department of Health UK</td>\n",
       "      <td>3</td>\n",
       "    </tr>\n",
       "    <tr>\n",
       "      <th>107</th>\n",
       "      <td>Egon Zehnder</td>\n",
       "      <td>4</td>\n",
       "    </tr>\n",
       "    <tr>\n",
       "      <th>133</th>\n",
       "      <td>HM Courts and Tribunals Service</td>\n",
       "      <td>3</td>\n",
       "    </tr>\n",
       "    <tr>\n",
       "      <th>152</th>\n",
       "      <td>Intelligent Office UK</td>\n",
       "      <td>2</td>\n",
       "    </tr>\n",
       "    <tr>\n",
       "      <th>163</th>\n",
       "      <td>KKR</td>\n",
       "      <td>3</td>\n",
       "    </tr>\n",
       "    <tr>\n",
       "      <th>171</th>\n",
       "      <td>LGT Group</td>\n",
       "      <td>2</td>\n",
       "    </tr>\n",
       "    <tr>\n",
       "      <th>202</th>\n",
       "      <td>National Offender Management Service</td>\n",
       "      <td>2</td>\n",
       "    </tr>\n",
       "    <tr>\n",
       "      <th>203</th>\n",
       "      <td>National Star</td>\n",
       "      <td>3</td>\n",
       "    </tr>\n",
       "    <tr>\n",
       "      <th>206</th>\n",
       "      <td>Newcastle Upon Tyne Hospitals NHS</td>\n",
       "      <td>1</td>\n",
       "    </tr>\n",
       "    <tr>\n",
       "      <th>216</th>\n",
       "      <td>Orbit Group</td>\n",
       "      <td>3</td>\n",
       "    </tr>\n",
       "    <tr>\n",
       "      <th>218</th>\n",
       "      <td>Penderels Trust</td>\n",
       "      <td>2</td>\n",
       "    </tr>\n",
       "    <tr>\n",
       "      <th>256</th>\n",
       "      <td>Sport England</td>\n",
       "      <td>1</td>\n",
       "    </tr>\n",
       "    <tr>\n",
       "      <th>297</th>\n",
       "      <td>Wakefield Council</td>\n",
       "      <td>4</td>\n",
       "    </tr>\n",
       "    <tr>\n",
       "      <th>307</th>\n",
       "      <td>XPS Pensions Group</td>\n",
       "      <td>2</td>\n",
       "    </tr>\n",
       "    <tr>\n",
       "      <th>309</th>\n",
       "      <td>ibis</td>\n",
       "      <td>4</td>\n",
       "    </tr>\n",
       "  </tbody>\n",
       "</table>\n",
       "</div>"
      ],
      "text/plain": [
       "                                     firm  n_aspects\n",
       "15                         Anglo American          4\n",
       "16         Animal and Plant Health Agency          2\n",
       "96                Department of Health UK          3\n",
       "107                          Egon Zehnder          4\n",
       "133       HM Courts and Tribunals Service          3\n",
       "152                 Intelligent Office UK          2\n",
       "163                                   KKR          3\n",
       "171                             LGT Group          2\n",
       "202  National Offender Management Service          2\n",
       "203                         National Star          3\n",
       "206     Newcastle Upon Tyne Hospitals NHS          1\n",
       "216                           Orbit Group          3\n",
       "218                       Penderels Trust          2\n",
       "256                         Sport England          1\n",
       "297                     Wakefield Council          4\n",
       "307                    XPS Pensions Group          2\n",
       "309                                  ibis          4"
      ]
     },
     "execution_count": 34,
     "metadata": {},
     "output_type": "execute_result"
    }
   ],
   "source": [
    "aspect_count[aspect_count['n_aspects']<5]"
   ]
  },
  {
   "cell_type": "code",
   "execution_count": 35,
   "id": "2ab20a4d",
   "metadata": {},
   "outputs": [
    {
     "data": {
      "text/plain": [
       "17"
      ]
     },
     "execution_count": 35,
     "metadata": {},
     "output_type": "execute_result"
    }
   ],
   "source": [
    "len(aspect_count[aspect_count['n_aspects']<5])"
   ]
  },
  {
   "cell_type": "markdown",
   "id": "6f151753",
   "metadata": {},
   "source": [
    "There are 17 companies for which the number of detected, different aspects is below 5."
   ]
  },
  {
   "cell_type": "code",
   "execution_count": 36,
   "id": "81bfe7a1",
   "metadata": {},
   "outputs": [
    {
     "data": {
      "text/plain": [
       "231"
      ]
     },
     "execution_count": 36,
     "metadata": {},
     "output_type": "execute_result"
    }
   ],
   "source": [
    "# number of companies having >= 10 aspects:\n",
    "firms_10 = aspect_count[aspect_count['n_aspects'] >= 10]\n",
    "len(firms_10)"
   ]
  },
  {
   "cell_type": "markdown",
   "id": "5e23a3fd",
   "metadata": {},
   "source": [
    "There are 231 companies having more than 10 different aspects detected."
   ]
  },
  {
   "cell_type": "code",
   "execution_count": 37,
   "id": "f2a14c6d",
   "metadata": {},
   "outputs": [
    {
     "name": "stdout",
     "output_type": "stream",
     "text": [
      "Those companies are:\n",
      "['AFH Wealth Management', 'AJ Bell', 'ASOS', 'AXA UK', 'Abcam', 'Accenture', 'Accor', 'Adecco', 'Age UK The National Charity', 'AlixPartners', 'American Express', 'Amey', 'Anglian Water', 'Aon', 'Apple', 'Arcadia', 'Arnold Clark', 'AstraZeneca', 'Aviva', 'B and M Retail', 'B and Q', 'BAT', 'BBC', 'BDO', 'BHS', 'BNP Paribas', 'BNY Mellon', 'BP', 'BPP Holdings', 'BT', 'Babcock International Group', 'Babylon Health', 'Bain and Company', 'Balfour Beatty', 'Bannatyne Group', 'Barchester Healthcare', 'Barclays', 'Barnardo s', 'Barratt Developments', 'Barts Health NHS Trust', 'Bloomberg L P', 'Blue Arrow', 'Blue Yonder', 'Booking com', 'Boston Consulting Group', 'Brewin Dolphin', 'British Airways', 'British Red Cross', 'Brook Street', 'Bupa', 'Burberry', 'CBRE', 'CVS Group', 'Cambridge Assessment', 'Capita', 'CarShop UK', 'Care UK', 'Christie s', 'Cisco Systems', 'Citi', 'Citizens Advice', 'Civil Service United Kingdom', 'Co op', 'Colt Technology Services', 'Communities and Local Government', 'Compass Group', 'Countrywide plc', 'Covea Insurance', 'Creative Support', 'Cromwell Tools', 'Crown Prosecution Service', 'Cushman and Wakefield', 'Cygnet Health Care', 'DFS Furniture', 'DHL Supply Chain', 'DPDgroup', 'DWF', 'David Lloyd Leisure', 'Debenhams', 'Deloitte', 'Department for Work And Pensions', 'Deutsche Bank', 'Diageo', 'Diligenta', 'Dixons Carphone', 'EBRD', 'ENGIE', 'EY', 'Equiniti', 'Eversheds Sutherland', 'Everyone Active', 'FARFETCH', 'Facebook', 'FirstPort', 'Foreign and Commonwealth Office', 'Four Seasons Health Care', 'Foxtons', 'Freshfields Bruckhaus Deringer', 'GLL', 'Gateley', 'GlaxoSmithKline', 'Goldman Sachs', 'Google', 'Grant Thornton', 'Grant Thornton UK LLP', 'Grosvenor Casinos', 'Guardian News and Media', 'Guy s and St Thomas NHS Foundation Trust', 'H and M', 'HC One', 'HM Prison Service', 'HSBC Holdings', 'Hampshire County Council', 'Harvey Nichols', 'Hastings Direct', 'Hays', 'Her Majesty s Revenue and Customs', 'Hitachi Capital UK', 'Home Group', 'Home Office', 'IBM', 'ISS Facility Services', 'Immediate Media Company', 'Interserve', 'Iron Mountain Inc', 'Irwin Mitchell', 'J P Morgan', 'JLL', 'JP Boden and Co', 'Jaguar Land Rover', 'James Hay Partnership', 'John Lewis and Partners', 'KPMG', 'Kent County Council', 'Kier Group', 'Kingsley Healthcare', 'Knight Frank', 'Korn Ferry', 'Kurt Geiger', 'LSE', 'LV', 'Leaders Romans Group', 'Leeds City Council', 'Legal and General', 'Link Group', 'Lloyds Banking Group', 'London Underground', 'Manpower', 'Mastercard', 'McKinsey and Company', 'Mercer', 'Met Office', 'Metro Bank', 'Michelmores', 'Microsoft', 'Ministry of Justice UK', 'Mitie', 'Morgan Stanley', 'Mountain Warehouse', 'NHS', 'NHS England', 'Nando s UK and IRE', 'National Institute for Health and Care Excellence', 'Nationwide Building Society', 'Network Rail', 'Northern Gas and Power', 'Nuffield Health', 'Office Angels', 'Office Concierge', 'Oliver Wyman', 'Oracle', 'Penguin Random House', 'Pertemps', 'Post Office', 'Priory Group', 'Public Health England', 'PwC', 'REED', 'RSM', 'Randstad', 'Rathbone Brothers', 'Rendall and Rittner', 'Rentokil Initial', 'Robert Walters', 'Rodericks Dental', 'Royal Mail', 'SAP', 'SSE', 'Sage', 'Salesforce', 'Santander', 'Savills', 'Serco Group', 'Sky', 'Sodexo', 'Sotheby s', 'St James s Place Wealth Management', 'Student Loans Company', 'Surrey County Council', 'Sytner', 'TUI Group', 'Taylor Wimpey', 'The Access Group UK', 'The British Army', 'The Range', 'The Salvation Army', 'The White Company', 'Thomas Cook', 'Thomson Reuters', 'Topshop', 'Transport for London', 'UK Ministry of Defence', 'Unilever', 'United Utilities', 'VMware', 'Veolia', 'Vets4Pets', 'Virgin Active', 'Virgin Media', 'Vodafone', 'WHSmith', 'WLT Group', 'Wellington Management', 'Whitbread', 'Willis Towers Watson', 'Wipro', 'Wise', 'XPO Logistics', 'YOOX NET A PORTER GROUP', 'next', 'the LEGO Group']\n"
     ]
    }
   ],
   "source": [
    "# number of total reviews for those companies:\n",
    "list_of_companies = list(firms_10['firm'])\n",
    "print('Those companies are:')\n",
    "print(list_of_companies)"
   ]
  },
  {
   "cell_type": "markdown",
   "id": "012548ee",
   "metadata": {},
   "source": [
    "Finding the **minimum aspect threshold** for companies in order to share **at least the predefined minimum number of the same aspects**:"
   ]
  },
  {
   "cell_type": "code",
   "execution_count": 96,
   "id": "6426f697",
   "metadata": {},
   "outputs": [],
   "source": [
    "def find_min_aspect_threshold(min_shared=11):\n",
    "    for threshold in range(min_shared, 19):  \n",
    "        # 18 is the upper bound as maximum number of aspects detected for a company is 18\n",
    "        firm_aspects = df.groupby(\"firm\")[\"aspect\"].apply(set)\n",
    "        firm_aspects = firm_aspects[firm_aspects.apply(len) >= threshold]\n",
    "\n",
    "        all_share_enough = True\n",
    "        for firm1, aspects1 in firm_aspects.items():\n",
    "            for firm2, aspects2 in firm_aspects.items():\n",
    "                if firm1 == firm2:\n",
    "                    continue\n",
    "                if len(aspects1.intersection(aspects2)) < min_shared:\n",
    "                    all_share_enough = False\n",
    "                    break\n",
    "            if not all_share_enough:\n",
    "                break\n",
    "\n",
    "        if all_share_enough:\n",
    "            # Find aspects shared by all qualifying firms\n",
    "            shared_aspects = set.intersection(*firm_aspects.values)\n",
    "            print(f\"Minimum aspect threshold for each company: {threshold}\")\n",
    "            print(f\"Number of qualifying firms: {len(firm_aspects)}\")\n",
    "            print(f\"Number of aspects shared by ALL qualifying firms: {len(shared_aspects)}\")\n",
    "            print(f\"Shared aspects:\\n{sorted(shared_aspects)}\")\n",
    "            companies = firm_aspects.index.tolist()\n",
    "            return threshold, firm_aspects, shared_aspects, companies\n",
    "\n",
    "    print(\"No threshold found where all firms share the required number of aspects.\")\n",
    "    return None"
   ]
  },
  {
   "cell_type": "code",
   "execution_count": 97,
   "id": "1f1a1d4b",
   "metadata": {},
   "outputs": [
    {
     "name": "stdout",
     "output_type": "stream",
     "text": [
      "Minimum aspect threshold for each company: 14\n",
      "Number of qualifying firms: 130\n",
      "Number of aspects shared by ALL qualifying firms: 6\n",
      "Shared aspects:\n",
      "['growth', 'management', 'people', 'teamwork & collaboration', 'tools & resources', 'work-life balance']\n"
     ]
    },
    {
     "data": {
      "text/plain": [
       "(14,\n",
       " firm\n",
       " ASOS                                 {culture, stress & pressure, work-life balance, teamwork & collaboration, diversity & inclusion, growth, benefits, management, performance feedback, tools & resources, travel, training & onboarding, flexibility, job role clarity, pay, people}\n",
       " AXA UK                                       {culture, stress & pressure, work-life balance, teamwork & collaboration, diversity & inclusion, growth, benefits, management, performance feedback, tools & resources, training & onboarding, flexibility, job role clarity, pay, people}\n",
       " Accenture               {culture, stress & pressure, remote work, teamwork & collaboration, diversity & inclusion, growth, benefits, management, performance feedback, tools & resources, travel, training & onboarding, work-life balance, flexibility, job role clarity, pay, people}\n",
       " Adecco                                                                            {culture, stress & pressure, work-life balance, teamwork & collaboration, tools & resources, growth, benefits, management, travel, training & onboarding, flexibility, job role clarity, pay, people}\n",
       " American Express                     {culture, stress & pressure, work-life balance, teamwork & collaboration, diversity & inclusion, growth, benefits, management, performance feedback, tools & resources, travel, training & onboarding, flexibility, job role clarity, pay, people}\n",
       "                                                                                                                                                      ...                                                                                                                               \n",
       " Whitbread                                                  {culture, stress & pressure, work-life balance, teamwork & collaboration, diversity & inclusion, growth, benefits, management, tools & resources, travel, training & onboarding, flexibility, job role clarity, pay, people}\n",
       " Willis Towers Watson                         {culture, stress & pressure, work-life balance, teamwork & collaboration, diversity & inclusion, growth, benefits, management, performance feedback, tools & resources, training & onboarding, flexibility, job role clarity, pay, people}\n",
       " Wipro                                    {culture, stress & pressure, remote work, teamwork & collaboration, tools & resources, growth, benefits, management, performance feedback, work-life balance, training & onboarding, job security, flexibility, job role clarity, pay, people}\n",
       " XPO Logistics                                        {culture, stress & pressure, work-life balance, teamwork & collaboration, diversity & inclusion, growth, benefits, management, tools & resources, training & onboarding, job security, flexibility, job role clarity, pay, people}\n",
       " next                                                        {culture, stress & pressure, work-life balance, teamwork & collaboration, tools & resources, growth, benefits, management, performance feedback, travel, training & onboarding, flexibility, job role clarity, pay, people}\n",
       " Name: aspect, Length: 130, dtype: object,\n",
       " {'growth',\n",
       "  'management',\n",
       "  'people',\n",
       "  'teamwork & collaboration',\n",
       "  'tools & resources',\n",
       "  'work-life balance'},\n",
       " ['ASOS',\n",
       "  'AXA UK',\n",
       "  'Accenture',\n",
       "  'Adecco',\n",
       "  'American Express',\n",
       "  'Amey',\n",
       "  'Anglian Water',\n",
       "  'Aon',\n",
       "  'Apple',\n",
       "  'Arcadia',\n",
       "  'AstraZeneca',\n",
       "  'Aviva',\n",
       "  'B and M Retail',\n",
       "  'B and Q',\n",
       "  'BAT',\n",
       "  'BBC',\n",
       "  'BDO',\n",
       "  'BNP Paribas',\n",
       "  'BP',\n",
       "  'BT',\n",
       "  'Babcock International Group',\n",
       "  'Babylon Health',\n",
       "  'Balfour Beatty',\n",
       "  'Barclays',\n",
       "  'Bloomberg L P',\n",
       "  'Booking com',\n",
       "  'British Airways',\n",
       "  'British Red Cross',\n",
       "  'Bupa',\n",
       "  'Burberry',\n",
       "  'CBRE',\n",
       "  'Capita',\n",
       "  'Care UK',\n",
       "  'Cisco Systems',\n",
       "  'Citi',\n",
       "  'Citizens Advice',\n",
       "  'Civil Service United Kingdom',\n",
       "  'Co op',\n",
       "  'Colt Technology Services',\n",
       "  'Compass Group',\n",
       "  'Countrywide plc',\n",
       "  'DWF',\n",
       "  'Debenhams',\n",
       "  'Deloitte',\n",
       "  'Department for Work And Pensions',\n",
       "  'Deutsche Bank',\n",
       "  'Diageo',\n",
       "  'Dixons Carphone',\n",
       "  'ENGIE',\n",
       "  'EY',\n",
       "  'Everyone Active',\n",
       "  'Facebook',\n",
       "  'Foxtons',\n",
       "  'Freshfields Bruckhaus Deringer',\n",
       "  'GlaxoSmithKline',\n",
       "  'Goldman Sachs',\n",
       "  'Google',\n",
       "  'Grant Thornton UK LLP',\n",
       "  'Grosvenor Casinos',\n",
       "  'H and M',\n",
       "  'HC One',\n",
       "  'HM Prison Service',\n",
       "  'HSBC Holdings',\n",
       "  'Hampshire County Council',\n",
       "  'Harvey Nichols',\n",
       "  'Hastings Direct',\n",
       "  'Hays',\n",
       "  'Her Majesty s Revenue and Customs',\n",
       "  'Home Office',\n",
       "  'IBM',\n",
       "  'ISS Facility Services',\n",
       "  'Interserve',\n",
       "  'J P Morgan',\n",
       "  'JLL',\n",
       "  'Jaguar Land Rover',\n",
       "  'John Lewis and Partners',\n",
       "  'KPMG',\n",
       "  'Kier Group',\n",
       "  'Korn Ferry',\n",
       "  'Leaders Romans Group',\n",
       "  'Leeds City Council',\n",
       "  'Legal and General',\n",
       "  'Lloyds Banking Group',\n",
       "  'Mastercard',\n",
       "  'Mercer',\n",
       "  'Metro Bank',\n",
       "  'Microsoft',\n",
       "  'Mitie',\n",
       "  'Morgan Stanley',\n",
       "  'NHS',\n",
       "  'NHS England',\n",
       "  'Nationwide Building Society',\n",
       "  'Network Rail',\n",
       "  'Nuffield Health',\n",
       "  'Oracle',\n",
       "  'Priory Group',\n",
       "  'PwC',\n",
       "  'REED',\n",
       "  'RSM',\n",
       "  'Randstad',\n",
       "  'Rentokil Initial',\n",
       "  'Robert Walters',\n",
       "  'Royal Mail',\n",
       "  'SAP',\n",
       "  'Sage',\n",
       "  'Salesforce',\n",
       "  'Santander',\n",
       "  'Savills',\n",
       "  'Serco Group',\n",
       "  'Sky',\n",
       "  'Surrey County Council',\n",
       "  'Sytner',\n",
       "  'TUI Group',\n",
       "  'Taylor Wimpey',\n",
       "  'The British Army',\n",
       "  'The White Company',\n",
       "  'Thomas Cook',\n",
       "  'Thomson Reuters',\n",
       "  'Transport for London',\n",
       "  'UK Ministry of Defence',\n",
       "  'Unilever',\n",
       "  'Virgin Active',\n",
       "  'Virgin Media',\n",
       "  'Vodafone',\n",
       "  'WLT Group',\n",
       "  'Whitbread',\n",
       "  'Willis Towers Watson',\n",
       "  'Wipro',\n",
       "  'XPO Logistics',\n",
       "  'next'])"
      ]
     },
     "execution_count": 97,
     "metadata": {},
     "output_type": "execute_result"
    }
   ],
   "source": [
    "find_min_aspect_threshold()"
   ]
  },
  {
   "cell_type": "markdown",
   "id": "67d70307",
   "metadata": {},
   "source": [
    "There are **160 companies** that share the same **6 aspects**. Those shared aspects are:\n",
    "- growth, \n",
    "- management, \n",
    "- people, \n",
    "- teamwork & collaboration, \n",
    "- tools & resources, \n",
    "- work-life balance"
   ]
  },
  {
   "cell_type": "code",
   "execution_count": null,
   "id": "9009ce1f",
   "metadata": {},
   "outputs": [
    {
     "name": "stdout",
     "output_type": "stream",
     "text": [
      "Firms that share ≥10 aspects with ALL other firms (among those with ≥10 aspects):\n",
      "['AFH Wealth Management', 'AJ Bell', 'ASOS', 'AXA UK', 'Accenture', 'Accor', 'Adecco', 'Age UK The National Charity', 'American Express', 'Amey', 'Anglian Water', 'Aon', 'Apple', 'Arcadia', 'Arnold Clark', 'AstraZeneca', 'Aviva', 'B and M Retail', 'B and Q', 'BAT', 'BBC', 'BDO', 'BNP Paribas', 'BNY Mellon', 'BP', 'BPP Holdings', 'BT', 'Babcock International Group', 'Babylon Health', 'Bain and Company', 'Balfour Beatty', 'Bannatyne Group', 'Barchester Healthcare', 'Barclays', 'Barnardo s', 'Barratt Developments', 'Barts Health NHS Trust', 'Bloomberg L P', 'Blue Arrow', 'Booking com', 'Boston Consulting Group', 'British Airways', 'British Red Cross', 'Bupa', 'Burberry', 'CBRE', 'CVS Group', 'Capita', 'Care UK', 'Christie s', 'Cisco Systems', 'Citi', 'Citizens Advice', 'Civil Service United Kingdom', 'Co op', 'Colt Technology Services', 'Compass Group', 'Countrywide plc', 'Covea Insurance', 'Creative Support', 'Cygnet Health Care', 'DFS Furniture', 'DHL Supply Chain', 'DWF', 'David Lloyd Leisure', 'Debenhams', 'Deloitte', 'Department for Work And Pensions', 'Deutsche Bank', 'Diageo', 'Diligenta', 'Dixons Carphone', 'ENGIE', 'EY', 'Everyone Active', 'Facebook', 'FirstPort', 'Foxtons', 'Freshfields Bruckhaus Deringer', 'GLL', 'Gateley', 'GlaxoSmithKline', 'Goldman Sachs', 'Google', 'Grant Thornton UK LLP', 'Grosvenor Casinos', 'Guy s and St Thomas NHS Foundation Trust', 'H and M', 'HC One', 'HM Prison Service', 'HSBC Holdings', 'Hampshire County Council', 'Harvey Nichols', 'Hastings Direct', 'Hays', 'Her Majesty s Revenue and Customs', 'Hitachi Capital UK', 'Home Group', 'Home Office', 'IBM', 'ISS Facility Services', 'Immediate Media Company', 'Interserve', 'J P Morgan', 'JLL', 'Jaguar Land Rover', 'John Lewis and Partners', 'KPMG', 'Kier Group', 'Knight Frank', 'Korn Ferry', 'Kurt Geiger', 'LSE', 'LV', 'Leaders Romans Group', 'Leeds City Council', 'Legal and General', 'Lloyds Banking Group', 'Mastercard', 'McKinsey and Company', 'Mercer', 'Met Office', 'Metro Bank', 'Michelmores', 'Microsoft', 'Ministry of Justice UK', 'Mitie', 'Morgan Stanley', 'NHS', 'NHS England', 'Nando s UK and IRE', 'Nationwide Building Society', 'Network Rail', 'Northern Gas and Power', 'Nuffield Health', 'Office Concierge', 'Oliver Wyman', 'Oracle', 'Penguin Random House', 'Post Office', 'Priory Group', 'Public Health England', 'PwC', 'REED', 'RSM', 'Randstad', 'Rathbone Brothers', 'Rendall and Rittner', 'Rentokil Initial', 'Robert Walters', 'Rodericks Dental', 'Royal Mail', 'SAP', 'SSE', 'Sage', 'Salesforce', 'Santander', 'Savills', 'Serco Group', 'Sky', 'Sodexo', 'Sotheby s', 'St James s Place Wealth Management', 'Student Loans Company', 'Surrey County Council', 'Sytner', 'TUI Group', 'Taylor Wimpey', 'The Access Group UK', 'The British Army', 'The Range', 'The White Company', 'Thomas Cook', 'Thomson Reuters', 'Topshop', 'Transport for London', 'UK Ministry of Defence', 'Unilever', 'United Utilities', 'VMware', 'Veolia', 'Vets4Pets', 'Virgin Active', 'Virgin Media', 'Vodafone', 'WHSmith', 'WLT Group', 'Whitbread', 'Willis Towers Watson', 'Wipro', 'XPO Logistics', 'YOOX NET A PORTER GROUP', 'next', 'the LEGO Group']\n",
      "194\n"
     ]
    }
   ],
   "source": [
    "# firm_aspects = df.groupby(\"firm\")[\"aspect\"].apply(set)\n",
    "\n",
    "# # only firms that have 10 or more unique aspects\n",
    "# firm_aspects = firm_aspects[firm_aspects.apply(len) >= 10]\n",
    "\n",
    "# qualified_firms = []\n",
    "\n",
    "# for firm, aspects in firm_aspects.items():\n",
    "#     meets_criteria = True\n",
    "#     for other_firm, other_aspects in firm_aspects.items():\n",
    "#         if firm == other_firm:\n",
    "#             continue\n",
    "#         # sharing at least 7 common aspects\n",
    "#         if len(aspects.intersection(other_aspects)) < 7:\n",
    "#             meets_criteria = False\n",
    "#             break\n",
    "#     if meets_criteria:\n",
    "#         qualified_firms.append(firm)\n",
    "\n",
    "# print(\"Firms that share at least 7 aspects with ALL other firms (among those with ≥10 aspects):\")\n",
    "# print(qualified_firms)\n",
    "# print(len(qualified_firms))"
   ]
  },
  {
   "cell_type": "markdown",
   "id": "f4ed9c8a",
   "metadata": {},
   "source": [
    "Company aspect - pivoted"
   ]
  },
  {
   "cell_type": "code",
   "execution_count": 98,
   "id": "459f8568",
   "metadata": {},
   "outputs": [],
   "source": [
    "df_pivot = df.pivot(\n",
    "    index='firm',\n",
    "    columns='aspect',\n",
    "    values='avg_star_rating'\n",
    ")"
   ]
  },
  {
   "cell_type": "code",
   "execution_count": 99,
   "id": "75cbaafc",
   "metadata": {},
   "outputs": [
    {
     "data": {
      "text/html": [
       "<div>\n",
       "<style scoped>\n",
       "    .dataframe tbody tr th:only-of-type {\n",
       "        vertical-align: middle;\n",
       "    }\n",
       "\n",
       "    .dataframe tbody tr th {\n",
       "        vertical-align: top;\n",
       "    }\n",
       "\n",
       "    .dataframe thead th {\n",
       "        text-align: right;\n",
       "    }\n",
       "</style>\n",
       "<table border=\"1\" class=\"dataframe\">\n",
       "  <thead>\n",
       "    <tr style=\"text-align: right;\">\n",
       "      <th>aspect</th>\n",
       "      <th>benefits</th>\n",
       "      <th>culture</th>\n",
       "      <th>diversity &amp; inclusion</th>\n",
       "      <th>flexibility</th>\n",
       "      <th>growth</th>\n",
       "      <th>job role clarity</th>\n",
       "      <th>job security</th>\n",
       "      <th>management</th>\n",
       "      <th>pay</th>\n",
       "      <th>people</th>\n",
       "      <th>performance feedback</th>\n",
       "      <th>remote work</th>\n",
       "      <th>stress &amp; pressure</th>\n",
       "      <th>teamwork &amp; collaboration</th>\n",
       "      <th>tools &amp; resources</th>\n",
       "      <th>training &amp; onboarding</th>\n",
       "      <th>travel</th>\n",
       "      <th>work-life balance</th>\n",
       "    </tr>\n",
       "    <tr>\n",
       "      <th>firm</th>\n",
       "      <th></th>\n",
       "      <th></th>\n",
       "      <th></th>\n",
       "      <th></th>\n",
       "      <th></th>\n",
       "      <th></th>\n",
       "      <th></th>\n",
       "      <th></th>\n",
       "      <th></th>\n",
       "      <th></th>\n",
       "      <th></th>\n",
       "      <th></th>\n",
       "      <th></th>\n",
       "      <th></th>\n",
       "      <th></th>\n",
       "      <th></th>\n",
       "      <th></th>\n",
       "      <th></th>\n",
       "    </tr>\n",
       "  </thead>\n",
       "  <tbody>\n",
       "    <tr>\n",
       "      <th>AFH Wealth Management</th>\n",
       "      <td>3.000000</td>\n",
       "      <td>5.000000</td>\n",
       "      <td>NaN</td>\n",
       "      <td>1.000000</td>\n",
       "      <td>NaN</td>\n",
       "      <td>NaN</td>\n",
       "      <td>NaN</td>\n",
       "      <td>2.750000</td>\n",
       "      <td>3.000000</td>\n",
       "      <td>3.333333</td>\n",
       "      <td>2.50</td>\n",
       "      <td>NaN</td>\n",
       "      <td>NaN</td>\n",
       "      <td>2.500000</td>\n",
       "      <td>1.000000</td>\n",
       "      <td>3.0</td>\n",
       "      <td>NaN</td>\n",
       "      <td>2.500000</td>\n",
       "    </tr>\n",
       "    <tr>\n",
       "      <th>AJ Bell</th>\n",
       "      <td>2.333333</td>\n",
       "      <td>3.750000</td>\n",
       "      <td>1.0</td>\n",
       "      <td>4.000000</td>\n",
       "      <td>4.666667</td>\n",
       "      <td>NaN</td>\n",
       "      <td>NaN</td>\n",
       "      <td>3.142857</td>\n",
       "      <td>2.500000</td>\n",
       "      <td>3.666667</td>\n",
       "      <td>NaN</td>\n",
       "      <td>NaN</td>\n",
       "      <td>NaN</td>\n",
       "      <td>3.500000</td>\n",
       "      <td>4.333333</td>\n",
       "      <td>5.0</td>\n",
       "      <td>NaN</td>\n",
       "      <td>4.000000</td>\n",
       "    </tr>\n",
       "    <tr>\n",
       "      <th>ASOS</th>\n",
       "      <td>3.760000</td>\n",
       "      <td>3.692308</td>\n",
       "      <td>4.0</td>\n",
       "      <td>2.571429</td>\n",
       "      <td>2.833333</td>\n",
       "      <td>2.833333</td>\n",
       "      <td>NaN</td>\n",
       "      <td>2.111111</td>\n",
       "      <td>2.615385</td>\n",
       "      <td>3.227273</td>\n",
       "      <td>2.75</td>\n",
       "      <td>NaN</td>\n",
       "      <td>1.4</td>\n",
       "      <td>3.785714</td>\n",
       "      <td>3.428571</td>\n",
       "      <td>5.0</td>\n",
       "      <td>3.0</td>\n",
       "      <td>3.538462</td>\n",
       "    </tr>\n",
       "    <tr>\n",
       "      <th>AXA UK</th>\n",
       "      <td>3.875000</td>\n",
       "      <td>3.428571</td>\n",
       "      <td>4.0</td>\n",
       "      <td>4.250000</td>\n",
       "      <td>3.100000</td>\n",
       "      <td>2.000000</td>\n",
       "      <td>NaN</td>\n",
       "      <td>2.600000</td>\n",
       "      <td>2.833333</td>\n",
       "      <td>4.090909</td>\n",
       "      <td>1.50</td>\n",
       "      <td>NaN</td>\n",
       "      <td>2.0</td>\n",
       "      <td>5.000000</td>\n",
       "      <td>2.666667</td>\n",
       "      <td>3.0</td>\n",
       "      <td>NaN</td>\n",
       "      <td>4.500000</td>\n",
       "    </tr>\n",
       "    <tr>\n",
       "      <th>Abcam</th>\n",
       "      <td>3.500000</td>\n",
       "      <td>4.250000</td>\n",
       "      <td>NaN</td>\n",
       "      <td>5.000000</td>\n",
       "      <td>3.833333</td>\n",
       "      <td>3.000000</td>\n",
       "      <td>NaN</td>\n",
       "      <td>NaN</td>\n",
       "      <td>3.000000</td>\n",
       "      <td>5.000000</td>\n",
       "      <td>NaN</td>\n",
       "      <td>NaN</td>\n",
       "      <td>NaN</td>\n",
       "      <td>2.000000</td>\n",
       "      <td>NaN</td>\n",
       "      <td>3.0</td>\n",
       "      <td>3.0</td>\n",
       "      <td>NaN</td>\n",
       "    </tr>\n",
       "  </tbody>\n",
       "</table>\n",
       "</div>"
      ],
      "text/plain": [
       "aspect                 benefits   culture  diversity & inclusion  flexibility  \\\n",
       "firm                                                                            \n",
       "AFH Wealth Management  3.000000  5.000000                    NaN     1.000000   \n",
       "AJ Bell                2.333333  3.750000                    1.0     4.000000   \n",
       "ASOS                   3.760000  3.692308                    4.0     2.571429   \n",
       "AXA UK                 3.875000  3.428571                    4.0     4.250000   \n",
       "Abcam                  3.500000  4.250000                    NaN     5.000000   \n",
       "\n",
       "aspect                   growth  job role clarity  job security  management  \\\n",
       "firm                                                                          \n",
       "AFH Wealth Management       NaN               NaN           NaN    2.750000   \n",
       "AJ Bell                4.666667               NaN           NaN    3.142857   \n",
       "ASOS                   2.833333          2.833333           NaN    2.111111   \n",
       "AXA UK                 3.100000          2.000000           NaN    2.600000   \n",
       "Abcam                  3.833333          3.000000           NaN         NaN   \n",
       "\n",
       "aspect                      pay    people  performance feedback  remote work  \\\n",
       "firm                                                                           \n",
       "AFH Wealth Management  3.000000  3.333333                  2.50          NaN   \n",
       "AJ Bell                2.500000  3.666667                   NaN          NaN   \n",
       "ASOS                   2.615385  3.227273                  2.75          NaN   \n",
       "AXA UK                 2.833333  4.090909                  1.50          NaN   \n",
       "Abcam                  3.000000  5.000000                   NaN          NaN   \n",
       "\n",
       "aspect                 stress & pressure  teamwork & collaboration  \\\n",
       "firm                                                                 \n",
       "AFH Wealth Management                NaN                  2.500000   \n",
       "AJ Bell                              NaN                  3.500000   \n",
       "ASOS                                 1.4                  3.785714   \n",
       "AXA UK                               2.0                  5.000000   \n",
       "Abcam                                NaN                  2.000000   \n",
       "\n",
       "aspect                 tools & resources  training & onboarding  travel  \\\n",
       "firm                                                                      \n",
       "AFH Wealth Management           1.000000                    3.0     NaN   \n",
       "AJ Bell                         4.333333                    5.0     NaN   \n",
       "ASOS                            3.428571                    5.0     3.0   \n",
       "AXA UK                          2.666667                    3.0     NaN   \n",
       "Abcam                                NaN                    3.0     3.0   \n",
       "\n",
       "aspect                 work-life balance  \n",
       "firm                                      \n",
       "AFH Wealth Management           2.500000  \n",
       "AJ Bell                         4.000000  \n",
       "ASOS                            3.538462  \n",
       "AXA UK                          4.500000  \n",
       "Abcam                                NaN  "
      ]
     },
     "execution_count": 99,
     "metadata": {},
     "output_type": "execute_result"
    }
   ],
   "source": [
    "df_pivot.head()"
   ]
  }
 ],
 "metadata": {
  "kernelspec": {
   "display_name": "base",
   "language": "python",
   "name": "python3"
  },
  "language_info": {
   "codemirror_mode": {
    "name": "ipython",
    "version": 3
   },
   "file_extension": ".py",
   "mimetype": "text/x-python",
   "name": "python",
   "nbconvert_exporter": "python",
   "pygments_lexer": "ipython3",
   "version": "3.12.4"
  }
 },
 "nbformat": 4,
 "nbformat_minor": 5
}
