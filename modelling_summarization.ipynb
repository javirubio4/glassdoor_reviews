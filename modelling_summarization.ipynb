{
 "cells": [
  {
   "cell_type": "code",
   "execution_count": null,
   "id": "adc1fa2b",
   "metadata": {},
   "outputs": [],
   "source": [
    "import pandas as pd\n",
    "import matplotlib.pyplot as plt\n",
    "import math\n",
    "# !pip install transformers\n",
    "from transformers import pipeline\n",
    "pd.set_option('display.max_colwidth', None)"
   ]
  },
  {
   "cell_type": "code",
   "execution_count": null,
   "id": "490a1874",
   "metadata": {},
   "outputs": [],
   "source": [
    "df = pd.read_csv(\"C:/Users/lasko/Documents/Bocconi/2nd Semester/Natural Language Processing/Final Project/company_aspect_matrix_with_counts.csv\")"
   ]
  },
  {
   "cell_type": "markdown",
   "id": "7ee03cd7",
   "metadata": {},
   "source": [
    "Company aspect"
   ]
  },
  {
   "cell_type": "code",
   "execution_count": null,
   "id": "bef4c91c",
   "metadata": {},
   "outputs": [],
   "source": [
    "df.head()"
   ]
  },
  {
   "cell_type": "markdown",
   "id": "8c10219a",
   "metadata": {},
   "source": [
    "##### Short EDA for company aspects"
   ]
  },
  {
   "cell_type": "code",
   "execution_count": null,
   "id": "0a19d27e",
   "metadata": {},
   "outputs": [],
   "source": [
    "df['n_mentions'].min(), df['n_mentions'].max()"
   ]
  },
  {
   "cell_type": "code",
   "execution_count": null,
   "id": "cdf83052",
   "metadata": {},
   "outputs": [],
   "source": [
    "bins = list(range(0, 110, 5))\n",
    "\n",
    "plt.figure(figsize=(8,5))\n",
    "plt.hist(df['n_mentions'], bins=bins, edgecolor='black', align='left')\n",
    "plt.title('Distribution of Number of Mentions')\n",
    "plt.xlabel('Number of Mentions')\n",
    "plt.ylabel('Frequency')\n",
    "plt.xticks(bins)\n",
    "plt.grid(axis='y', linestyle='--', alpha=0.7)\n",
    "plt.show()\n"
   ]
  },
  {
   "cell_type": "markdown",
   "id": "8cd2ecd9",
   "metadata": {},
   "source": [
    "In terms of aspects, they are most often mentioned up to 5 times."
   ]
  },
  {
   "cell_type": "markdown",
   "id": "cef87f4d",
   "metadata": {},
   "source": [
    "What if we were to drop the aspects for which the number of mentions is lower than 3?"
   ]
  },
  {
   "cell_type": "code",
   "execution_count": null,
   "id": "e552e3d4",
   "metadata": {},
   "outputs": [],
   "source": [
    "# Count number of aspects per firm\n",
    "aspect_count = df.groupby('firm')['aspect'].count().reset_index(name='n_aspects')\n",
    "aspect_count.sort_values('n_aspects', ascending=False)"
   ]
  },
  {
   "cell_type": "code",
   "execution_count": null,
   "id": "a5dc3fe7",
   "metadata": {},
   "outputs": [],
   "source": [
    "print(aspect_count[aspect_count['n_aspects'] < 5])\n",
    "len(aspect_count[aspect_count['n_aspects'] < 5])"
   ]
  },
  {
   "cell_type": "code",
   "execution_count": null,
   "id": "6a8f5372",
   "metadata": {},
   "outputs": [],
   "source": [
    "# Drop rows where n_mentions < 3\n",
    "filtered_df = df[df['n_mentions'] >= 3]\n",
    "\n",
    "# Count number of aspects per firm after filtering\n",
    "aspect_count_filtered = filtered_df.groupby('firm')['aspect'].count().reset_index(name='n_aspects_filtered')\n",
    "sorted_aspect_count_filtered = aspect_count_filtered.sort_values('n_aspects_filtered', ascending=False)\n",
    "sorted_aspect_count_filtered[sorted_aspect_count_filtered['n_aspects_filtered'] < 3]\n"
   ]
  },
  {
   "cell_type": "code",
   "execution_count": null,
   "id": "b4b00db1",
   "metadata": {},
   "outputs": [],
   "source": [
    "comparison = aspect_count.merge(aspect_count_filtered, on='firm', how='left')\n",
    "\n",
    "comparison['n_dropped'] = comparison['n_aspects'] - comparison['n_aspects_filtered']\n",
    "\n",
    "comparison['n_dropped'].min(), comparison['n_dropped'].max()\n"
   ]
  },
  {
   "cell_type": "markdown",
   "id": "99a22bd4",
   "metadata": {},
   "source": [
    "**INSIGHTS**:\n",
    "- In order not to lose too many aspects due to their low number of mentions, we're **discarding the filtering based on n_mentions**\n",
    "- To maximize the best fit based on aspects, we're **filtering out companies (17) that have less than 5 aspects** mentioned in the reviews."
   ]
  },
  {
   "cell_type": "markdown",
   "id": "f4ed9c8a",
   "metadata": {},
   "source": [
    "Company aspect - pivoted"
   ]
  },
  {
   "cell_type": "code",
   "execution_count": null,
   "id": "459f8568",
   "metadata": {},
   "outputs": [],
   "source": [
    "df_pivot = df.pivot(\n",
    "    index='firm',\n",
    "    columns='aspect',\n",
    "    values='avg_star_rating'\n",
    ")"
   ]
  },
  {
   "cell_type": "code",
   "execution_count": null,
   "id": "75cbaafc",
   "metadata": {},
   "outputs": [],
   "source": [
    "df_pivot.head()"
   ]
  },
  {
   "cell_type": "markdown",
   "id": "8c350991",
   "metadata": {},
   "source": [
    "## Summarization - pros & cons"
   ]
  },
  {
   "cell_type": "code",
   "execution_count": null,
   "id": "7171ea8c",
   "metadata": {},
   "outputs": [],
   "source": [
    "df_reviews = pd.read_csv(\"C:/Users/lasko/Documents/Bocconi/2nd Semester/Natural Language Processing/Final Project/comparison_cleans.csv\")\n",
    "df_reviews.head()"
   ]
  },
  {
   "cell_type": "code",
   "execution_count": null,
   "id": "3ab41c01",
   "metadata": {},
   "outputs": [],
   "source": [
    "pros = df_reviews['pros_clean_min']\n",
    "cons = df_reviews['cons_clean_min']"
   ]
  },
  {
   "cell_type": "markdown",
   "id": "ac65023e",
   "metadata": {},
   "source": [
    "Grouping by company:"
   ]
  },
  {
   "cell_type": "code",
   "execution_count": null,
   "id": "dc1f025c",
   "metadata": {},
   "outputs": [],
   "source": [
    "company_pros = df_reviews.groupby('firm')['pros_clean_min'].apply(lambda texts: ' '.join(texts)).reset_index()\n",
    "company_cons = df_reviews.groupby('firm')['cons_clean_min'].apply(lambda texts: ' '.join(texts)).reset_index()\n",
    "\n",
    "company_pros.head()"
   ]
  },
  {
   "cell_type": "code",
   "execution_count": null,
   "id": "06a93843",
   "metadata": {},
   "outputs": [],
   "source": [
    "len(company_pros)"
   ]
  },
  {
   "cell_type": "markdown",
   "id": "ffe36194",
   "metadata": {},
   "source": [
    "##### LLM for summarization"
   ]
  },
  {
   "cell_type": "code",
   "execution_count": 27,
   "id": "fd1b7fd6",
   "metadata": {},
   "outputs": [
    {
     "data": {
      "application/vnd.jupyter.widget-view+json": {
       "model_id": "95d3f7ef12904aaf9513143f99a2d518",
       "version_major": 2,
       "version_minor": 0
      },
      "text/plain": [
       "pytorch_model.bin:  30%|##9       | 682M/2.28G [00:00<?, ?B/s]"
      ]
     },
     "metadata": {},
     "output_type": "display_data"
    },
    {
     "data": {
      "application/vnd.jupyter.widget-view+json": {
       "model_id": "92146fd467de4c27be1ace7cd4b46700",
       "version_major": 2,
       "version_minor": 0
      },
      "text/plain": [
       "model.safetensors:   0%|          | 0.00/2.28G [00:00<?, ?B/s]"
      ]
     },
     "metadata": {},
     "output_type": "display_data"
    },
    {
     "name": "stderr",
     "output_type": "stream",
     "text": [
      "Some weights of PegasusForConditionalGeneration were not initialized from the model checkpoint at google/pegasus-cnn_dailymail and are newly initialized: ['model.decoder.embed_positions.weight', 'model.encoder.embed_positions.weight']\n",
      "You should probably TRAIN this model on a down-stream task to be able to use it for predictions and inference.\n"
     ]
    },
    {
     "data": {
      "application/vnd.jupyter.widget-view+json": {
       "model_id": "a399a8026df54bf5baca352a8504c3d7",
       "version_major": 2,
       "version_minor": 0
      },
      "text/plain": [
       "generation_config.json:   0%|          | 0.00/280 [00:00<?, ?B/s]"
      ]
     },
     "metadata": {},
     "output_type": "display_data"
    },
    {
     "data": {
      "application/vnd.jupyter.widget-view+json": {
       "model_id": "9e8d4321265b484bb1f2d3727949f19e",
       "version_major": 2,
       "version_minor": 0
      },
      "text/plain": [
       "tokenizer_config.json:   0%|          | 0.00/88.0 [00:00<?, ?B/s]"
      ]
     },
     "metadata": {},
     "output_type": "display_data"
    },
    {
     "data": {
      "application/vnd.jupyter.widget-view+json": {
       "model_id": "f38839dab5034f34a1671f07b6cd5602",
       "version_major": 2,
       "version_minor": 0
      },
      "text/plain": [
       "spiece.model:   0%|          | 0.00/1.91M [00:00<?, ?B/s]"
      ]
     },
     "metadata": {},
     "output_type": "display_data"
    },
    {
     "data": {
      "application/vnd.jupyter.widget-view+json": {
       "model_id": "2e6ac9af80ad4ce6880bfc4e950ffe45",
       "version_major": 2,
       "version_minor": 0
      },
      "text/plain": [
       "special_tokens_map.json:   0%|          | 0.00/65.0 [00:00<?, ?B/s]"
      ]
     },
     "metadata": {},
     "output_type": "display_data"
    },
    {
     "name": "stderr",
     "output_type": "stream",
     "text": [
      "Device set to use cpu\n"
     ]
    }
   ],
   "source": [
    "from transformers import pipeline\n",
    "\n",
    "summarizer = pipeline(\n",
    "    \"summarization\",\n",
    "    model=\"google/pegasus-cnn_dailymail\",\n",
    "    device=-1\n",
    ")"
   ]
  },
  {
   "cell_type": "markdown",
   "id": "093d3011",
   "metadata": {},
   "source": [
    "Example to summarize - Accenture:"
   ]
  },
  {
   "cell_type": "code",
   "execution_count": 28,
   "id": "5c3219e1",
   "metadata": {},
   "outputs": [],
   "source": [
    "company_pros['pros_summary'] = None\n",
    "\n",
    "company_pros.at[2, 'pros_summary'] = summarizer(\n",
    "    company_pros.at[2, 'pros_clean_min'],\n",
    "    max_length=60, \n",
    "    min_length=20, \n",
    "    do_sample=False\n",
    ")[0]['summary_text']\n"
   ]
  },
  {
   "cell_type": "code",
   "execution_count": 29,
   "id": "688799c5",
   "metadata": {},
   "outputs": [
    {
     "data": {
      "text/html": [
       "<div>\n",
       "<style scoped>\n",
       "    .dataframe tbody tr th:only-of-type {\n",
       "        vertical-align: middle;\n",
       "    }\n",
       "\n",
       "    .dataframe tbody tr th {\n",
       "        vertical-align: top;\n",
       "    }\n",
       "\n",
       "    .dataframe thead th {\n",
       "        text-align: right;\n",
       "    }\n",
       "</style>\n",
       "<table border=\"1\" class=\"dataframe\">\n",
       "  <thead>\n",
       "    <tr style=\"text-align: right;\">\n",
       "      <th></th>\n",
       "      <th>firm</th>\n",
       "      <th>pros_clean_min</th>\n",
       "      <th>pros_summary</th>\n",
       "    </tr>\n",
       "  </thead>\n",
       "  <tbody>\n",
       "    <tr>\n",
       "      <th>0</th>\n",
       "      <td>ASOS</td>\n",
       "      <td>Informal environment and a lot of holiday Perks and good environment great benefits, diverse and international team You get to go home. Eventually.</td>\n",
       "      <td>None</td>\n",
       "    </tr>\n",
       "    <tr>\n",
       "      <th>1</th>\n",
       "      <td>AXA UK</td>\n",
       "      <td>Forward thinking, people centred organisation Family environment, friendly company, interesting  work Room to progress  Lots of initiatives</td>\n",
       "      <td>None</td>\n",
       "    </tr>\n",
       "    <tr>\n",
       "      <th>2</th>\n",
       "      <td>Accenture</td>\n",
       "      <td>It's very people-centric and there are plenty of  career advancement and personal development opportunities Good medical insurance benefits, good variety of clients and service offerings Fantastic people challenging environment Sets you up with the basics for the rest of your career People are incredibly collaborative and willing to help you, whatever the problem. Always very intelligent people so its easy to delegate work and expect a good job to be done. Great benefits and I have been able to take flexible working options now I have kids, without compromising my career in Consulting. - It's useful if you don't know what else you want to do as you'll get a good idea of different roles and industries. - If you are willing to play the game, you can have a career here. You get to work with driven and talented people The caliber of people is very high. Good for socials and an inclusive work environment with lots of arranges activities and drinks. Variety of sectors / areas you can get involved in dependent upon interest / skills Easy to get in as a graduate, big clients Opportunities, progression, finance, promotion, big customers Its culture and values are great Its policies make you feel that they really care for you Great company with lots of opportunities and variety Very flexible to manage your time and effort Good name in the market - Incredibly bright and enthusiastic people to work with  - Industry-leading graduate programme - Sense of belonging and overall community feel (predominantly from Consultant level and above) - Multinational FTSE 500 clients on their biggest business and technology challenges - Continuous improvement on existing methodologies (focus on Design Thinking and empathy-based decision making) and overall focus on innovation - Thorough internal training portal and budget for external training - Restructured performance system, aimed at fairer representation good pay compared to other tech services companies</td>\n",
       "      <td>It's very people-centric and there are plenty of career advancement and personal development opportunities .&lt;n&gt;The caliber of people is very high. Good for socials and an inclusive work environment .&lt;n&gt;Its culture and values are great. Its policies make you feel that they really care for</td>\n",
       "    </tr>\n",
       "    <tr>\n",
       "      <th>3</th>\n",
       "      <td>Accor</td>\n",
       "      <td>Friendly, Fast pace, Efficient, Challenging, Interesting there where no positives in working there There was literally nothing good. Work like a dog but dont expect a payrise or a promotion even if you have been working there for a few years now.</td>\n",
       "      <td>None</td>\n",
       "    </tr>\n",
       "    <tr>\n",
       "      <th>4</th>\n",
       "      <td>Adecco</td>\n",
       "      <td>Clear progression routes, great collaboration, brilliant corporate framework and support</td>\n",
       "      <td>None</td>\n",
       "    </tr>\n",
       "  </tbody>\n",
       "</table>\n",
       "</div>"
      ],
      "text/plain": [
       "        firm  \\\n",
       "0       ASOS   \n",
       "1     AXA UK   \n",
       "2  Accenture   \n",
       "3      Accor   \n",
       "4     Adecco   \n",
       "\n",
       "                                                                                                                                                                                                                                                                                                                                                                                                                                                                                                                                                                                                                                                                                                                                                                                                                                                                                                                                                                                                                                                                                                                                                                                                                                                                                                                                                                                                                                                                                                                                                                                                                                                                                                                                                                                                                                                                                                                                                                                                                                 pros_clean_min  \\\n",
       "0                                                                                                                                                                                                                                                                                                                                                                                                                                                                                                                                                                                                                                                                                                                                                                                                                                                                                                                                                                                                                                                                                                                                                                                                                                                                                                                                                                                                                                                                                                                                                                                                                                                                                                                                                                                                                                                                                           Informal environment and a lot of holiday Perks and good environment great benefits, diverse and international team You get to go home. Eventually.   \n",
       "1                                                                                                                                                                                                                                                                                                                                                                                                                                                                                                                                                                                                                                                                                                                                                                                                                                                                                                                                                                                                                                                                                                                                                                                                                                                                                                                                                                                                                                                                                                                                                                                                                                                                                                                                                                                                                                                                                                   Forward thinking, people centred organisation Family environment, friendly company, interesting  work Room to progress  Lots of initiatives   \n",
       "2  It's very people-centric and there are plenty of  career advancement and personal development opportunities Good medical insurance benefits, good variety of clients and service offerings Fantastic people challenging environment Sets you up with the basics for the rest of your career People are incredibly collaborative and willing to help you, whatever the problem. Always very intelligent people so its easy to delegate work and expect a good job to be done. Great benefits and I have been able to take flexible working options now I have kids, without compromising my career in Consulting. - It's useful if you don't know what else you want to do as you'll get a good idea of different roles and industries. - If you are willing to play the game, you can have a career here. You get to work with driven and talented people The caliber of people is very high. Good for socials and an inclusive work environment with lots of arranges activities and drinks. Variety of sectors / areas you can get involved in dependent upon interest / skills Easy to get in as a graduate, big clients Opportunities, progression, finance, promotion, big customers Its culture and values are great Its policies make you feel that they really care for you Great company with lots of opportunities and variety Very flexible to manage your time and effort Good name in the market - Incredibly bright and enthusiastic people to work with  - Industry-leading graduate programme - Sense of belonging and overall community feel (predominantly from Consultant level and above) - Multinational FTSE 500 clients on their biggest business and technology challenges - Continuous improvement on existing methodologies (focus on Design Thinking and empathy-based decision making) and overall focus on innovation - Thorough internal training portal and budget for external training - Restructured performance system, aimed at fairer representation good pay compared to other tech services companies   \n",
       "3                                                                                                                                                                                                                                                                                                                                                                                                                                                                                                                                                                                                                                                                                                                                                                                                                                                                                                                                                                                                                                                                                                                                                                                                                                                                                                                                                                                                                                                                                                                                                                                                                                                                                                                                                                                        Friendly, Fast pace, Efficient, Challenging, Interesting there where no positives in working there There was literally nothing good. Work like a dog but dont expect a payrise or a promotion even if you have been working there for a few years now.   \n",
       "4                                                                                                                                                                                                                                                                                                                                                                                                                                                                                                                                                                                                                                                                                                                                                                                                                                                                                                                                                                                                                                                                                                                                                                                                                                                                                                                                                                                                                                                                                                                                                                                                                                                                                                                                                                                                                                                                                                                                                      Clear progression routes, great collaboration, brilliant corporate framework and support   \n",
       "\n",
       "                                                                                                                                                                                                                                                                                       pros_summary  \n",
       "0                                                                                                                                                                                                                                                                                              None  \n",
       "1                                                                                                                                                                                                                                                                                              None  \n",
       "2  It's very people-centric and there are plenty of career advancement and personal development opportunities .<n>The caliber of people is very high. Good for socials and an inclusive work environment .<n>Its culture and values are great. Its policies make you feel that they really care for  \n",
       "3                                                                                                                                                                                                                                                                                              None  \n",
       "4                                                                                                                                                                                                                                                                                              None  "
      ]
     },
     "execution_count": 29,
     "metadata": {},
     "output_type": "execute_result"
    }
   ],
   "source": [
    "company_pros.head()"
   ]
  },
  {
   "cell_type": "code",
   "execution_count": null,
   "id": "490e5f8b",
   "metadata": {},
   "outputs": [],
   "source": [
    "len(company_pros)"
   ]
  },
  {
   "cell_type": "markdown",
   "id": "560817f0",
   "metadata": {},
   "source": [
    "##### Summarization of **pros** per company"
   ]
  },
  {
   "cell_type": "code",
   "execution_count": null,
   "id": "8e6b6fca",
   "metadata": {},
   "outputs": [],
   "source": [
    "company_pros['pros_summary'] = company_pros['pros_clean_min'].apply(\n",
    "    lambda text: summarizer(text, max_length=60, min_length=20, do_sample=False)[0]['summary_text']\n",
    ")"
   ]
  },
  {
   "cell_type": "markdown",
   "id": "386ce4c3",
   "metadata": {},
   "source": [
    "##### Summarization of **cons** per company"
   ]
  },
  {
   "cell_type": "code",
   "execution_count": null,
   "id": "d2417b3b",
   "metadata": {},
   "outputs": [],
   "source": [
    "company_cons['cons_summary'] = company_cons['cons_clean_min'].apply(\n",
    "    lambda text: summarizer(text, max_length=60, min_length=20, do_sample=False)[0]['summary_text']\n",
    ")"
   ]
  },
  {
   "cell_type": "markdown",
   "id": "6bb962bd",
   "metadata": {},
   "source": [
    "## Ratings - preparation"
   ]
  },
  {
   "cell_type": "code",
   "execution_count": null,
   "id": "0e8bcc80",
   "metadata": {},
   "outputs": [],
   "source": []
  },
  {
   "cell_type": "markdown",
   "id": "05590473",
   "metadata": {},
   "source": [
    "## Output formatting"
   ]
  },
  {
   "cell_type": "code",
   "execution_count": null,
   "id": "4d31756c",
   "metadata": {},
   "outputs": [],
   "source": []
  }
 ],
 "metadata": {
  "kernelspec": {
   "display_name": "base",
   "language": "python",
   "name": "python3"
  },
  "language_info": {
   "codemirror_mode": {
    "name": "ipython",
    "version": 3
   },
   "file_extension": ".py",
   "mimetype": "text/x-python",
   "name": "python",
   "nbconvert_exporter": "python",
   "pygments_lexer": "ipython3",
   "version": "3.12.4"
  }
 },
 "nbformat": 4,
 "nbformat_minor": 5
}
