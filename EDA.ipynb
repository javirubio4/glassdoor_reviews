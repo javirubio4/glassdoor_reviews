{
 "cells": [
  {
   "cell_type": "markdown",
   "id": "54cd6e3d",
   "metadata": {},
   "source": [
    "# EDA - Glassdoor Reviews"
   ]
  },
  {
   "cell_type": "markdown",
   "id": "35acf16a",
   "metadata": {},
   "source": [
    "### Imports"
   ]
  },
  {
   "cell_type": "code",
   "execution_count": 123,
   "id": "ecf7e799",
   "metadata": {},
   "outputs": [],
   "source": [
    "import pandas as pd\n",
    "import numpy as np\n",
    "import matplotlib.pyplot as plt\n",
    "import seaborn as sns"
   ]
  },
  {
   "cell_type": "markdown",
   "id": "e49c8fa0",
   "metadata": {},
   "source": [
    "## 1. EDA Full Dataset"
   ]
  },
  {
   "cell_type": "markdown",
   "id": "f72754da",
   "metadata": {},
   "source": [
    "### Load the Dataset"
   ]
  },
  {
   "cell_type": "code",
   "execution_count": 124,
   "id": "7b55dac8",
   "metadata": {},
   "outputs": [
    {
     "data": {
      "text/html": [
       "<div>\n",
       "<style scoped>\n",
       "    .dataframe tbody tr th:only-of-type {\n",
       "        vertical-align: middle;\n",
       "    }\n",
       "\n",
       "    .dataframe tbody tr th {\n",
       "        vertical-align: top;\n",
       "    }\n",
       "\n",
       "    .dataframe thead th {\n",
       "        text-align: right;\n",
       "    }\n",
       "</style>\n",
       "<table border=\"1\" class=\"dataframe\">\n",
       "  <thead>\n",
       "    <tr style=\"text-align: right;\">\n",
       "      <th></th>\n",
       "      <th>firm</th>\n",
       "      <th>date_review</th>\n",
       "      <th>job_title</th>\n",
       "      <th>current</th>\n",
       "      <th>location</th>\n",
       "      <th>overall_rating</th>\n",
       "      <th>work_life_balance</th>\n",
       "      <th>culture_values</th>\n",
       "      <th>diversity_inclusion</th>\n",
       "      <th>career_opp</th>\n",
       "      <th>comp_benefits</th>\n",
       "      <th>senior_mgmt</th>\n",
       "      <th>recommend</th>\n",
       "      <th>ceo_approv</th>\n",
       "      <th>outlook</th>\n",
       "      <th>headline</th>\n",
       "      <th>pros</th>\n",
       "      <th>cons</th>\n",
       "    </tr>\n",
       "  </thead>\n",
       "  <tbody>\n",
       "    <tr>\n",
       "      <th>0</th>\n",
       "      <td>AFH-Wealth-Management</td>\n",
       "      <td>2015-04-05</td>\n",
       "      <td></td>\n",
       "      <td>Current Employee</td>\n",
       "      <td>NaN</td>\n",
       "      <td>2</td>\n",
       "      <td>4.0</td>\n",
       "      <td>3.0</td>\n",
       "      <td>NaN</td>\n",
       "      <td>2.0</td>\n",
       "      <td>3.0</td>\n",
       "      <td>3.0</td>\n",
       "      <td>x</td>\n",
       "      <td>o</td>\n",
       "      <td>r</td>\n",
       "      <td>Young colleagues, poor micro management</td>\n",
       "      <td>Very friendly and welcoming to new staff. Easy...</td>\n",
       "      <td>Poor salaries, poor training and communication.</td>\n",
       "    </tr>\n",
       "    <tr>\n",
       "      <th>1</th>\n",
       "      <td>AFH-Wealth-Management</td>\n",
       "      <td>2015-12-11</td>\n",
       "      <td>Office Administrator</td>\n",
       "      <td>Current Employee, more than 1 year</td>\n",
       "      <td>Bromsgrove, England, England</td>\n",
       "      <td>2</td>\n",
       "      <td>3.0</td>\n",
       "      <td>1.0</td>\n",
       "      <td>NaN</td>\n",
       "      <td>2.0</td>\n",
       "      <td>1.0</td>\n",
       "      <td>4.0</td>\n",
       "      <td>x</td>\n",
       "      <td>o</td>\n",
       "      <td>r</td>\n",
       "      <td>Excellent staff, poor salary</td>\n",
       "      <td>Friendly, helpful and hard-working colleagues</td>\n",
       "      <td>Poor salary which doesn't improve much with pr...</td>\n",
       "    </tr>\n",
       "    <tr>\n",
       "      <th>2</th>\n",
       "      <td>AFH-Wealth-Management</td>\n",
       "      <td>2016-01-28</td>\n",
       "      <td>Office Administrator</td>\n",
       "      <td>Current Employee, less than 1 year</td>\n",
       "      <td>Bromsgrove, England, England</td>\n",
       "      <td>1</td>\n",
       "      <td>1.0</td>\n",
       "      <td>1.0</td>\n",
       "      <td>NaN</td>\n",
       "      <td>1.0</td>\n",
       "      <td>1.0</td>\n",
       "      <td>1.0</td>\n",
       "      <td>x</td>\n",
       "      <td>o</td>\n",
       "      <td>x</td>\n",
       "      <td>Low salary, bad micromanagement</td>\n",
       "      <td>Easy to get the job even without experience in...</td>\n",
       "      <td>Very low salary, poor working conditions, very...</td>\n",
       "    </tr>\n",
       "    <tr>\n",
       "      <th>3</th>\n",
       "      <td>AFH-Wealth-Management</td>\n",
       "      <td>2016-04-16</td>\n",
       "      <td></td>\n",
       "      <td>Current Employee</td>\n",
       "      <td>NaN</td>\n",
       "      <td>5</td>\n",
       "      <td>2.0</td>\n",
       "      <td>3.0</td>\n",
       "      <td>NaN</td>\n",
       "      <td>2.0</td>\n",
       "      <td>2.0</td>\n",
       "      <td>3.0</td>\n",
       "      <td>x</td>\n",
       "      <td>o</td>\n",
       "      <td>r</td>\n",
       "      <td>Over promised under delivered</td>\n",
       "      <td>Nice staff to work with</td>\n",
       "      <td>No career progression and salary is poor</td>\n",
       "    </tr>\n",
       "    <tr>\n",
       "      <th>4</th>\n",
       "      <td>AFH-Wealth-Management</td>\n",
       "      <td>2016-04-23</td>\n",
       "      <td>Office Administrator</td>\n",
       "      <td>Current Employee, more than 1 year</td>\n",
       "      <td>Bromsgrove, England, England</td>\n",
       "      <td>1</td>\n",
       "      <td>2.0</td>\n",
       "      <td>1.0</td>\n",
       "      <td>NaN</td>\n",
       "      <td>2.0</td>\n",
       "      <td>1.0</td>\n",
       "      <td>1.0</td>\n",
       "      <td>x</td>\n",
       "      <td>o</td>\n",
       "      <td>x</td>\n",
       "      <td>client reporting admin</td>\n",
       "      <td>Easy to get the job, Nice colleagues.</td>\n",
       "      <td>Abysmal pay, around minimum wage. No actual tr...</td>\n",
       "    </tr>\n",
       "  </tbody>\n",
       "</table>\n",
       "</div>"
      ],
      "text/plain": [
       "                    firm date_review              job_title  \\\n",
       "0  AFH-Wealth-Management  2015-04-05                          \n",
       "1  AFH-Wealth-Management  2015-12-11   Office Administrator   \n",
       "2  AFH-Wealth-Management  2016-01-28   Office Administrator   \n",
       "3  AFH-Wealth-Management  2016-04-16                          \n",
       "4  AFH-Wealth-Management  2016-04-23   Office Administrator   \n",
       "\n",
       "                              current                      location  \\\n",
       "0                    Current Employee                           NaN   \n",
       "1  Current Employee, more than 1 year  Bromsgrove, England, England   \n",
       "2  Current Employee, less than 1 year  Bromsgrove, England, England   \n",
       "3                    Current Employee                           NaN   \n",
       "4  Current Employee, more than 1 year  Bromsgrove, England, England   \n",
       "\n",
       "   overall_rating  work_life_balance  culture_values  diversity_inclusion  \\\n",
       "0               2                4.0             3.0                  NaN   \n",
       "1               2                3.0             1.0                  NaN   \n",
       "2               1                1.0             1.0                  NaN   \n",
       "3               5                2.0             3.0                  NaN   \n",
       "4               1                2.0             1.0                  NaN   \n",
       "\n",
       "   career_opp  comp_benefits  senior_mgmt recommend ceo_approv outlook  \\\n",
       "0         2.0            3.0          3.0         x          o       r   \n",
       "1         2.0            1.0          4.0         x          o       r   \n",
       "2         1.0            1.0          1.0         x          o       x   \n",
       "3         2.0            2.0          3.0         x          o       r   \n",
       "4         2.0            1.0          1.0         x          o       x   \n",
       "\n",
       "                                  headline  \\\n",
       "0  Young colleagues, poor micro management   \n",
       "1             Excellent staff, poor salary   \n",
       "2          Low salary, bad micromanagement   \n",
       "3            Over promised under delivered   \n",
       "4                   client reporting admin   \n",
       "\n",
       "                                                pros  \\\n",
       "0  Very friendly and welcoming to new staff. Easy...   \n",
       "1      Friendly, helpful and hard-working colleagues   \n",
       "2  Easy to get the job even without experience in...   \n",
       "3                            Nice staff to work with   \n",
       "4              Easy to get the job, Nice colleagues.   \n",
       "\n",
       "                                                cons  \n",
       "0    Poor salaries, poor training and communication.  \n",
       "1  Poor salary which doesn't improve much with pr...  \n",
       "2  Very low salary, poor working conditions, very...  \n",
       "3           No career progression and salary is poor  \n",
       "4  Abysmal pay, around minimum wage. No actual tr...  "
      ]
     },
     "execution_count": 124,
     "metadata": {},
     "output_type": "execute_result"
    }
   ],
   "source": [
    "#Load the data\n",
    "reviews = pd.read_csv('glassdoor_reviews.csv')\n",
    "reviews.head()"
   ]
  },
  {
   "cell_type": "markdown",
   "id": "f9b7df14",
   "metadata": {},
   "source": [
    "### Dataset Overview"
   ]
  },
  {
   "cell_type": "code",
   "execution_count": 125,
   "id": "4ee37eac",
   "metadata": {},
   "outputs": [
    {
     "name": "stdout",
     "output_type": "stream",
     "text": [
      "Dataset Shape (rows, columns): (838566, 18)\n",
      "\n",
      "Columns and Data Types:\n",
      "firm                    object\n",
      "date_review             object\n",
      "job_title               object\n",
      "current                 object\n",
      "location                object\n",
      "overall_rating           int64\n",
      "work_life_balance      float64\n",
      "culture_values         float64\n",
      "diversity_inclusion    float64\n",
      "career_opp             float64\n",
      "comp_benefits          float64\n",
      "senior_mgmt            float64\n",
      "recommend               object\n",
      "ceo_approv              object\n",
      "outlook                 object\n",
      "headline                object\n",
      "pros                    object\n",
      "cons                    object\n",
      "dtype: object\n"
     ]
    }
   ],
   "source": [
    "print(\"Dataset Shape (rows, columns):\", reviews.shape)\n",
    "print(\"\\nColumns and Data Types:\")\n",
    "print(reviews.dtypes)"
   ]
  },
  {
   "cell_type": "code",
   "execution_count": 126,
   "id": "4391da7d",
   "metadata": {},
   "outputs": [],
   "source": [
    "reviews['date_review'] = pd.to_datetime(reviews['date_review'])"
   ]
  },
  {
   "cell_type": "markdown",
   "id": "dcb0b68c",
   "metadata": {},
   "source": [
    "### Descriptive statistics for Numeric Columns"
   ]
  },
  {
   "cell_type": "code",
   "execution_count": 127,
   "id": "4ea3270a",
   "metadata": {},
   "outputs": [
    {
     "name": "stdout",
     "output_type": "stream",
     "text": [
      "\n",
      "Descriptive Statistics for Numeric Columns:\n",
      "                         date_review  overall_rating  work_life_balance  \\\n",
      "count                         838566   838566.000000      688672.000000   \n",
      "mean   2018-01-30 15:03:19.703779584        3.655956           3.375735   \n",
      "min              2008-01-31 00:00:00        1.000000           1.000000   \n",
      "25%              2016-04-01 00:00:00        3.000000           2.000000   \n",
      "50%              2018-08-22 00:00:00        4.000000           4.000000   \n",
      "75%              2020-09-12 00:00:00        5.000000           4.000000   \n",
      "max              2021-06-08 00:00:00        5.000000           5.000000   \n",
      "std                              NaN        1.174684           1.305874   \n",
      "\n",
      "       culture_values  diversity_inclusion     career_opp  comp_benefits  \\\n",
      "count   647193.000000        136066.000000  691065.000000  688484.000000   \n",
      "mean         3.590164             3.966612       3.461825       3.398109   \n",
      "min          1.000000             1.000000       1.000000       1.000000   \n",
      "25%          3.000000             3.000000       3.000000       3.000000   \n",
      "50%          4.000000             4.000000       4.000000       3.000000   \n",
      "75%          5.000000             5.000000       5.000000       4.000000   \n",
      "max          5.000000             5.000000       5.000000       5.000000   \n",
      "std          1.323280             1.190937       1.271295       1.218738   \n",
      "\n",
      "         senior_mgmt  \n",
      "count  682690.000000  \n",
      "mean        3.176576  \n",
      "min         1.000000  \n",
      "25%         2.000000  \n",
      "50%         3.000000  \n",
      "75%         4.000000  \n",
      "max         5.000000  \n",
      "std         1.330720  \n"
     ]
    }
   ],
   "source": [
    "print(\"\\nDescriptive Statistics for Numeric Columns:\")\n",
    "print(reviews.describe())"
   ]
  },
  {
   "cell_type": "markdown",
   "id": "0770d08a",
   "metadata": {},
   "source": [
    "### Descriptive Statistics for Non-Numeric Columns"
   ]
  },
  {
   "cell_type": "code",
   "execution_count": 128,
   "id": "86462f31",
   "metadata": {},
   "outputs": [
    {
     "name": "stdout",
     "output_type": "stream",
     "text": [
      "\n",
      "Descriptive Statistics for Non-Numeric Columns:\n",
      "          firm            job_title           current  \\\n",
      "count   838566               838566            838566   \n",
      "unique     428                62275                29   \n",
      "top        IBM   Anonymous Employee  Current Employee   \n",
      "freq     60436               162649            209599   \n",
      "\n",
      "                        location recommend ceo_approv outlook headline  \\\n",
      "count                     541223    838566     838566  838566   835976   \n",
      "unique                     14486         3          4       4   390454   \n",
      "top     London, England, England         v          o       v     Good   \n",
      "freq                       58665    427865     311433  301413    14300   \n",
      "\n",
      "                             pros                      cons  \n",
      "count                      838564                    838553  \n",
      "unique                     778559                    777133  \n",
      "top     Great company to work for  None that I can think of  \n",
      "freq                          720                      1156  \n"
     ]
    }
   ],
   "source": [
    "print(\"\\nDescriptive Statistics for Non-Numeric Columns:\")\n",
    "print(reviews.describe(include='object'))"
   ]
  },
  {
   "cell_type": "markdown",
   "id": "1d6c5b22",
   "metadata": {},
   "source": [
    "### Analyzing Missing Values"
   ]
  },
  {
   "cell_type": "code",
   "execution_count": null,
   "id": "5ec7120b",
   "metadata": {},
   "outputs": [
    {
     "name": "stdout",
     "output_type": "stream",
     "text": [
      "\n",
      "Missing Values Summary:\n",
      "                     Missing Values  Percentage (%)\n",
      "firm                              0            0.00\n",
      "date_review                       0            0.00\n",
      "job_title                         0            0.00\n",
      "current                           0            0.00\n",
      "location                     297343           35.46\n",
      "overall_rating                    0            0.00\n",
      "work_life_balance            149894           17.88\n",
      "culture_values               191373           22.82\n",
      "diversity_inclusion          702500           83.77\n",
      "career_opp                   147501           17.59\n",
      "comp_benefits                150082           17.90\n",
      "senior_mgmt                  155876           18.59\n",
      "recommend                         0            0.00\n",
      "ceo_approv                        0            0.00\n",
      "outlook                           0            0.00\n",
      "headline                       2590            0.31\n",
      "pros                              2            0.00\n",
      "cons                             13            0.00\n"
     ]
    }
   ],
   "source": [
    "# Calculate missing values and percentage\n",
    "missing_values = reviews.isnull().sum()\n",
    "total_entries = len(reviews)\n",
    "missing_percentage = (missing_values / total_entries) * 100\n",
    "\n",
    "# Combine into a single DataFrame\n",
    "missing_summary = pd.DataFrame({\n",
    "    'Missing Values': missing_values,\n",
    "    'Percentage (%)': missing_percentage.round(2)\n",
    "})\n",
    "\n",
    "print(\"\\nMissing Values Summary:\")\n",
    "print(missing_summary)\n"
   ]
  },
  {
   "cell_type": "code",
   "execution_count": 130,
   "id": "58b9c583",
   "metadata": {},
   "outputs": [
    {
     "data": {
      "text/plain": [
       "Text(0.5, 1.0, 'Missing Values Heatmap')"
      ]
     },
     "execution_count": 130,
     "metadata": {},
     "output_type": "execute_result"
    },
    {
     "data": {
      "image/png": "[encoded data removed]",
      "text/plain": [
       "<Figure size 1200x600 with 2 Axes>"
      ]
     },
     "metadata": {},
     "output_type": "display_data"
    }
   ],
   "source": [
    "plt.figure(figsize=(12, 6))\n",
    "sns.heatmap(reviews.isnull(), cbar=True)\n",
    "plt.title('Missing Values Heatmap')"
   ]
  },
  {
   "cell_type": "markdown",
   "id": "3f9ef08a",
   "metadata": {},
   "source": [
    "### Analyzing Duplicates"
   ]
  },
  {
   "cell_type": "code",
   "execution_count": 131,
   "id": "b4ee8021",
   "metadata": {},
   "outputs": [
    {
     "name": "stdout",
     "output_type": "stream",
     "text": [
      "Total duplicate rows: 33515\n",
      "\n",
      "Percentage of Duplicates:\n",
      "3.9967038968906445\n"
     ]
    }
   ],
   "source": [
    "print(\"Total duplicate rows:\", reviews.duplicated().sum())\n",
    "duplicated_reviews = reviews[reviews.duplicated(keep=False)]\n",
    "duplicates =  reviews.duplicated().sum()\n",
    "duplicated_percentage = (duplicates / total_entries) * 100\n",
    "print(\"\\nPercentage of Duplicates:\")\n",
    "print(duplicated_percentage)"
   ]
  },
  {
   "cell_type": "code",
   "execution_count": 132,
   "id": "03fb2131",
   "metadata": {},
   "outputs": [
    {
     "data": {
      "text/html": [
       "<div>\n",
       "<style scoped>\n",
       "    .dataframe tbody tr th:only-of-type {\n",
       "        vertical-align: middle;\n",
       "    }\n",
       "\n",
       "    .dataframe tbody tr th {\n",
       "        vertical-align: top;\n",
       "    }\n",
       "\n",
       "    .dataframe thead th {\n",
       "        text-align: right;\n",
       "    }\n",
       "</style>\n",
       "<table border=\"1\" class=\"dataframe\">\n",
       "  <thead>\n",
       "    <tr style=\"text-align: right;\">\n",
       "      <th></th>\n",
       "      <th>firm</th>\n",
       "      <th>date_review</th>\n",
       "      <th>job_title</th>\n",
       "      <th>current</th>\n",
       "      <th>location</th>\n",
       "      <th>overall_rating</th>\n",
       "      <th>work_life_balance</th>\n",
       "      <th>culture_values</th>\n",
       "      <th>diversity_inclusion</th>\n",
       "      <th>career_opp</th>\n",
       "      <th>comp_benefits</th>\n",
       "      <th>senior_mgmt</th>\n",
       "      <th>recommend</th>\n",
       "      <th>ceo_approv</th>\n",
       "      <th>outlook</th>\n",
       "      <th>headline</th>\n",
       "      <th>pros</th>\n",
       "      <th>cons</th>\n",
       "    </tr>\n",
       "  </thead>\n",
       "  <tbody>\n",
       "    <tr>\n",
       "      <th>1231</th>\n",
       "      <td>ASDA</td>\n",
       "      <td>2010-10-29</td>\n",
       "      <td>Asda Manager</td>\n",
       "      <td>Former Employee</td>\n",
       "      <td>NaN</td>\n",
       "      <td>5</td>\n",
       "      <td>5.0</td>\n",
       "      <td>NaN</td>\n",
       "      <td>NaN</td>\n",
       "      <td>5.0</td>\n",
       "      <td>5.0</td>\n",
       "      <td>4.0</td>\n",
       "      <td>v</td>\n",
       "      <td>o</td>\n",
       "      <td>o</td>\n",
       "      <td>bil</td>\n",
       "      <td>great team work, working together</td>\n",
       "      <td>long hours long shift patterns</td>\n",
       "    </tr>\n",
       "    <tr>\n",
       "      <th>1232</th>\n",
       "      <td>ASDA</td>\n",
       "      <td>2010-10-29</td>\n",
       "      <td>Asda Manager</td>\n",
       "      <td>Former Employee</td>\n",
       "      <td>NaN</td>\n",
       "      <td>5</td>\n",
       "      <td>5.0</td>\n",
       "      <td>NaN</td>\n",
       "      <td>NaN</td>\n",
       "      <td>5.0</td>\n",
       "      <td>5.0</td>\n",
       "      <td>4.0</td>\n",
       "      <td>v</td>\n",
       "      <td>o</td>\n",
       "      <td>o</td>\n",
       "      <td>bil</td>\n",
       "      <td>great team work, working together</td>\n",
       "      <td>long hours long shift patterns</td>\n",
       "    </tr>\n",
       "  </tbody>\n",
       "</table>\n",
       "</div>"
      ],
      "text/plain": [
       "      firm date_review      job_title          current location  \\\n",
       "1231  ASDA  2010-10-29   Asda Manager  Former Employee      NaN   \n",
       "1232  ASDA  2010-10-29   Asda Manager  Former Employee      NaN   \n",
       "\n",
       "      overall_rating  work_life_balance  culture_values  diversity_inclusion  \\\n",
       "1231               5                5.0             NaN                  NaN   \n",
       "1232               5                5.0             NaN                  NaN   \n",
       "\n",
       "      career_opp  comp_benefits  senior_mgmt recommend ceo_approv outlook  \\\n",
       "1231         5.0            5.0          4.0         v          o       o   \n",
       "1232         5.0            5.0          4.0         v          o       o   \n",
       "\n",
       "     headline                               pros  \\\n",
       "1231      bil  great team work, working together   \n",
       "1232      bil  great team work, working together   \n",
       "\n",
       "                                cons  \n",
       "1231  long hours long shift patterns  \n",
       "1232  long hours long shift patterns  "
      ]
     },
     "execution_count": 132,
     "metadata": {},
     "output_type": "execute_result"
    }
   ],
   "source": [
    "duplicated_reviews.head(2)"
   ]
  },
  {
   "cell_type": "markdown",
   "id": "35374065",
   "metadata": {},
   "source": [
    "Dropping duplicated rows"
   ]
  },
  {
   "cell_type": "code",
   "execution_count": 133,
   "id": "44b7efad",
   "metadata": {},
   "outputs": [],
   "source": [
    "reviews = reviews.drop_duplicates()"
   ]
  },
  {
   "cell_type": "markdown",
   "id": "804495bd",
   "metadata": {},
   "source": [
    "### Most common firms"
   ]
  },
  {
   "cell_type": "code",
   "execution_count": 134,
   "id": "564f0ee4",
   "metadata": {},
   "outputs": [
    {
     "name": "stdout",
     "output_type": "stream",
     "text": [
      "firm\n",
      "IBM           49293\n",
      "McDonald-s    49190\n",
      "Deloitte      42909\n",
      "EY            32217\n",
      "PwC           32115\n",
      "Oracle        28094\n",
      "Microsoft     26675\n",
      "J-P-Morgan    25183\n",
      "KPMG          22391\n",
      "Apple         20308\n",
      "Name: count, dtype: int64\n"
     ]
    }
   ],
   "source": [
    "top_firms = reviews['firm'].value_counts().head(10)\n",
    "print(top_firms)"
   ]
  },
  {
   "cell_type": "markdown",
   "id": "9ea58116",
   "metadata": {},
   "source": [
    "### Locations"
   ]
  },
  {
   "cell_type": "code",
   "execution_count": 135,
   "id": "f3b693cd",
   "metadata": {},
   "outputs": [
    {
     "name": "stdout",
     "output_type": "stream",
     "text": [
      "Number of unique locations: 14486\n"
     ]
    }
   ],
   "source": [
    "unique_locations = reviews['location'].nunique()\n",
    "print(\"Number of unique locations:\", unique_locations)"
   ]
  },
  {
   "cell_type": "markdown",
   "id": "552eec0c",
   "metadata": {},
   "source": [
    "Unique locations per company"
   ]
  },
  {
   "cell_type": "code",
   "execution_count": 136,
   "id": "acb578b3",
   "metadata": {},
   "outputs": [
    {
     "name": "stdout",
     "output_type": "stream",
     "text": [
      "firm\n",
      "Office-of-Rail-Regulation                  1\n",
      "NPSA                                       1\n",
      "UKCIL                                      1\n",
      "National-Offender-Management-Service       2\n",
      "AlixPartners                               2\n",
      "                                        ... \n",
      "Apple                                   1176\n",
      "Marriott-International                  1223\n",
      "IBM                                     1477\n",
      "Pizza-Hut                               2164\n",
      "McDonald-s                              6952\n",
      "Name: location, Length: 428, dtype: int64\n"
     ]
    }
   ],
   "source": [
    "locations_per_company = reviews.groupby(\"firm\")[\"location\"].nunique().sort_values(ascending=True)\n",
    "print(locations_per_company)"
   ]
  },
  {
   "cell_type": "code",
   "execution_count": 137,
   "id": "b1ecba16",
   "metadata": {},
   "outputs": [
    {
     "name": "stdout",
     "output_type": "stream",
     "text": [
      "location\n",
      "London, England, England     57341\n",
      "New York, NY                 30090\n",
      "Bangalore                    25672\n",
      "Hyderābād                    10603\n",
      "Mumbai                        9120\n",
      "Gurgaon, Haryana, Haryana     8059\n",
      "Chicago, IL                   7512\n",
      "Singapore                     7266\n",
      "San Francisco, CA             7046\n",
      "Dublin, Dublin                6997\n",
      "Name: count, dtype: int64\n"
     ]
    }
   ],
   "source": [
    "top_locations = reviews['location'].value_counts().head(10)\n",
    "print(top_locations)"
   ]
  },
  {
   "cell_type": "code",
   "execution_count": 138,
   "id": "b9a60043",
   "metadata": {},
   "outputs": [
    {
     "name": "stdout",
     "output_type": "stream",
     "text": [
      "\n",
      "Most Common Locations within England:\n",
      "location\n",
      "London, England, England                        57341\n",
      "Manchester, England, England                     5539\n",
      "Birmingham, England, England                     4076\n",
      "Leeds, England, England                          3255\n",
      "Bristol, England, England                        2581\n",
      "Cambridge, East of England, England, England     1752\n",
      "Newcastle upon Tyne, England, England            1696\n",
      "Liverpool, England, England                      1614\n",
      "Reading, England, England                        1534\n",
      "Nottingham, England, England                     1517\n",
      "Name: count, dtype: int64\n"
     ]
    }
   ],
   "source": [
    "#Most common locations within England\n",
    "england_reviews = reviews[reviews['location'].str.contains('England', na=False)]\n",
    "england_locations = england_reviews['location'].value_counts().head(10)\n",
    "print(\"\\nMost Common Locations within England:\")\n",
    "print(england_locations)"
   ]
  },
  {
   "cell_type": "code",
   "execution_count": 139,
   "id": "abb8ffc6",
   "metadata": {},
   "outputs": [
    {
     "name": "stdout",
     "output_type": "stream",
     "text": [
      "Top 10 firms with location in London:\n",
      "firm\n",
      "Accenture        1852\n",
      "Barclays         1815\n",
      "Deloitte         1662\n",
      "EY               1633\n",
      "PwC              1621\n",
      "KPMG             1222\n",
      "HSBC-Holdings    1165\n",
      "Tesco            1027\n",
      "NHS               966\n",
      "McDonald-s        938\n",
      "Name: count, dtype: int64\n"
     ]
    }
   ],
   "source": [
    "# Most common firms with location = London\n",
    "london_reviews = reviews[reviews['location'].str.contains('London', na=False)]\n",
    "london_top_firms = london_reviews['firm'].value_counts().head(10)\n",
    "\n",
    "print(\"Top 10 firms with location in London:\")\n",
    "print(london_top_firms)"
   ]
  },
  {
   "cell_type": "markdown",
   "id": "c00cb7e0",
   "metadata": {},
   "source": [
    "### Correlation Analysis"
   ]
  },
  {
   "cell_type": "code",
   "execution_count": 140,
   "id": "59dbfe58",
   "metadata": {},
   "outputs": [
    {
     "data": {
      "image/png": "[encoded data removed]",
      "text/plain": [
       "<Figure size 1000x800 with 2 Axes>"
      ]
     },
     "metadata": {},
     "output_type": "display_data"
    }
   ],
   "source": [
    "# Select only numerical columns from the DataFrame\n",
    "numerical_data = reviews.select_dtypes(include=[np.number])\n",
    "\n",
    "# Compute the correlation matrix\n",
    "correlation_matrix = numerical_data.corr()\n",
    "\n",
    "# Visualize the correlation matrix using a heatmap\n",
    "plt.figure(figsize=(10, 8))\n",
    "sns.heatmap(correlation_matrix, annot=True, cmap='coolwarm')\n",
    "plt.title(\"Correlation Matrix for Numerical Columns\")\n",
    "plt.show()"
   ]
  },
  {
   "cell_type": "markdown",
   "id": "f4991fa6",
   "metadata": {},
   "source": [
    "## 2. EDA Filtered Dataset"
   ]
  },
  {
   "cell_type": "markdown",
   "id": "1bbf3bac",
   "metadata": {},
   "source": [
    "To create a more recent dataset and focus on one english speaking country we refine the data set to reviews for companies in England after 2015"
   ]
  },
  {
   "cell_type": "code",
   "execution_count": 141,
   "id": "59edb8e4",
   "metadata": {},
   "outputs": [],
   "source": [
    "#Filter for reviews where location contains \"England\" \n",
    "england_reviews = reviews[reviews['location'].str.contains('England', na=False)]"
   ]
  },
  {
   "cell_type": "code",
   "execution_count": 142,
   "id": "5254382e",
   "metadata": {},
   "outputs": [
    {
     "data": {
      "text/html": [
       "<div>\n",
       "<style scoped>\n",
       "    .dataframe tbody tr th:only-of-type {\n",
       "        vertical-align: middle;\n",
       "    }\n",
       "\n",
       "    .dataframe tbody tr th {\n",
       "        vertical-align: top;\n",
       "    }\n",
       "\n",
       "    .dataframe thead th {\n",
       "        text-align: right;\n",
       "    }\n",
       "</style>\n",
       "<table border=\"1\" class=\"dataframe\">\n",
       "  <thead>\n",
       "    <tr style=\"text-align: right;\">\n",
       "      <th></th>\n",
       "      <th>firm</th>\n",
       "      <th>date_review</th>\n",
       "      <th>job_title</th>\n",
       "      <th>current</th>\n",
       "      <th>location</th>\n",
       "      <th>overall_rating</th>\n",
       "      <th>work_life_balance</th>\n",
       "      <th>culture_values</th>\n",
       "      <th>diversity_inclusion</th>\n",
       "      <th>career_opp</th>\n",
       "      <th>comp_benefits</th>\n",
       "      <th>senior_mgmt</th>\n",
       "      <th>recommend</th>\n",
       "      <th>ceo_approv</th>\n",
       "      <th>outlook</th>\n",
       "      <th>headline</th>\n",
       "      <th>pros</th>\n",
       "      <th>cons</th>\n",
       "    </tr>\n",
       "  </thead>\n",
       "  <tbody>\n",
       "    <tr>\n",
       "      <th>1</th>\n",
       "      <td>AFH-Wealth-Management</td>\n",
       "      <td>2015-12-11</td>\n",
       "      <td>Office Administrator</td>\n",
       "      <td>Current Employee, more than 1 year</td>\n",
       "      <td>Bromsgrove, England, England</td>\n",
       "      <td>2</td>\n",
       "      <td>3.0</td>\n",
       "      <td>1.0</td>\n",
       "      <td>NaN</td>\n",
       "      <td>2.0</td>\n",
       "      <td>1.0</td>\n",
       "      <td>4.0</td>\n",
       "      <td>x</td>\n",
       "      <td>o</td>\n",
       "      <td>r</td>\n",
       "      <td>Excellent staff, poor salary</td>\n",
       "      <td>Friendly, helpful and hard-working colleagues</td>\n",
       "      <td>Poor salary which doesn't improve much with pr...</td>\n",
       "    </tr>\n",
       "    <tr>\n",
       "      <th>2</th>\n",
       "      <td>AFH-Wealth-Management</td>\n",
       "      <td>2016-01-28</td>\n",
       "      <td>Office Administrator</td>\n",
       "      <td>Current Employee, less than 1 year</td>\n",
       "      <td>Bromsgrove, England, England</td>\n",
       "      <td>1</td>\n",
       "      <td>1.0</td>\n",
       "      <td>1.0</td>\n",
       "      <td>NaN</td>\n",
       "      <td>1.0</td>\n",
       "      <td>1.0</td>\n",
       "      <td>1.0</td>\n",
       "      <td>x</td>\n",
       "      <td>o</td>\n",
       "      <td>x</td>\n",
       "      <td>Low salary, bad micromanagement</td>\n",
       "      <td>Easy to get the job even without experience in...</td>\n",
       "      <td>Very low salary, poor working conditions, very...</td>\n",
       "    </tr>\n",
       "    <tr>\n",
       "      <th>4</th>\n",
       "      <td>AFH-Wealth-Management</td>\n",
       "      <td>2016-04-23</td>\n",
       "      <td>Office Administrator</td>\n",
       "      <td>Current Employee, more than 1 year</td>\n",
       "      <td>Bromsgrove, England, England</td>\n",
       "      <td>1</td>\n",
       "      <td>2.0</td>\n",
       "      <td>1.0</td>\n",
       "      <td>NaN</td>\n",
       "      <td>2.0</td>\n",
       "      <td>1.0</td>\n",
       "      <td>1.0</td>\n",
       "      <td>x</td>\n",
       "      <td>o</td>\n",
       "      <td>x</td>\n",
       "      <td>client reporting admin</td>\n",
       "      <td>Easy to get the job, Nice colleagues.</td>\n",
       "      <td>Abysmal pay, around minimum wage. No actual tr...</td>\n",
       "    </tr>\n",
       "    <tr>\n",
       "      <th>6</th>\n",
       "      <td>AFH-Wealth-Management</td>\n",
       "      <td>2016-09-23</td>\n",
       "      <td>IFA</td>\n",
       "      <td>Former Employee</td>\n",
       "      <td>Bromsgrove, England, England</td>\n",
       "      <td>1</td>\n",
       "      <td>1.0</td>\n",
       "      <td>1.0</td>\n",
       "      <td>NaN</td>\n",
       "      <td>1.0</td>\n",
       "      <td>1.0</td>\n",
       "      <td>1.0</td>\n",
       "      <td>x</td>\n",
       "      <td>o</td>\n",
       "      <td>r</td>\n",
       "      <td>It horrible management</td>\n",
       "      <td>Good investment management strategy. Overall t...</td>\n",
       "      <td>The management and seniors are ruthless. No tr...</td>\n",
       "    </tr>\n",
       "    <tr>\n",
       "      <th>13</th>\n",
       "      <td>AFH-Wealth-Management</td>\n",
       "      <td>2017-05-21</td>\n",
       "      <td>Administrative Support</td>\n",
       "      <td>Former Employee, more than 5 years</td>\n",
       "      <td>Birmingham, England, England</td>\n",
       "      <td>1</td>\n",
       "      <td>4.0</td>\n",
       "      <td>1.0</td>\n",
       "      <td>NaN</td>\n",
       "      <td>2.0</td>\n",
       "      <td>4.0</td>\n",
       "      <td>1.0</td>\n",
       "      <td>o</td>\n",
       "      <td>v</td>\n",
       "      <td>v</td>\n",
       "      <td>Administration team</td>\n",
       "      <td>Free parking . Meet some nice people in the te...</td>\n",
       "      <td>Not treated at all well after 6 yrs of being a...</td>\n",
       "    </tr>\n",
       "  </tbody>\n",
       "</table>\n",
       "</div>"
      ],
      "text/plain": [
       "                     firm date_review                job_title  \\\n",
       "1   AFH-Wealth-Management  2015-12-11     Office Administrator   \n",
       "2   AFH-Wealth-Management  2016-01-28     Office Administrator   \n",
       "4   AFH-Wealth-Management  2016-04-23     Office Administrator   \n",
       "6   AFH-Wealth-Management  2016-09-23                      IFA   \n",
       "13  AFH-Wealth-Management  2017-05-21   Administrative Support   \n",
       "\n",
       "                               current                      location  \\\n",
       "1   Current Employee, more than 1 year  Bromsgrove, England, England   \n",
       "2   Current Employee, less than 1 year  Bromsgrove, England, England   \n",
       "4   Current Employee, more than 1 year  Bromsgrove, England, England   \n",
       "6                      Former Employee  Bromsgrove, England, England   \n",
       "13  Former Employee, more than 5 years  Birmingham, England, England   \n",
       "\n",
       "    overall_rating  work_life_balance  culture_values  diversity_inclusion  \\\n",
       "1                2                3.0             1.0                  NaN   \n",
       "2                1                1.0             1.0                  NaN   \n",
       "4                1                2.0             1.0                  NaN   \n",
       "6                1                1.0             1.0                  NaN   \n",
       "13               1                4.0             1.0                  NaN   \n",
       "\n",
       "    career_opp  comp_benefits  senior_mgmt recommend ceo_approv outlook  \\\n",
       "1          2.0            1.0          4.0         x          o       r   \n",
       "2          1.0            1.0          1.0         x          o       x   \n",
       "4          2.0            1.0          1.0         x          o       x   \n",
       "6          1.0            1.0          1.0         x          o       r   \n",
       "13         2.0            4.0          1.0         o          v       v   \n",
       "\n",
       "                           headline  \\\n",
       "1      Excellent staff, poor salary   \n",
       "2   Low salary, bad micromanagement   \n",
       "4            client reporting admin   \n",
       "6            It horrible management   \n",
       "13              Administration team   \n",
       "\n",
       "                                                 pros  \\\n",
       "1       Friendly, helpful and hard-working colleagues   \n",
       "2   Easy to get the job even without experience in...   \n",
       "4               Easy to get the job, Nice colleagues.   \n",
       "6   Good investment management strategy. Overall t...   \n",
       "13  Free parking . Meet some nice people in the te...   \n",
       "\n",
       "                                                 cons  \n",
       "1   Poor salary which doesn't improve much with pr...  \n",
       "2   Very low salary, poor working conditions, very...  \n",
       "4   Abysmal pay, around minimum wage. No actual tr...  \n",
       "6   The management and seniors are ruthless. No tr...  \n",
       "13  Not treated at all well after 6 yrs of being a...  "
      ]
     },
     "execution_count": 142,
     "metadata": {},
     "output_type": "execute_result"
    }
   ],
   "source": [
    "# Filter for reviews between the years 2015 and 2025 (inclusive)\n",
    "england_recent = england_reviews[(england_reviews['date_review'] >= '2015-01-01') & (england_reviews['date_review'] <= '2025-12-31')].copy()\n",
    "\n",
    "england_recent.head()"
   ]
  },
  {
   "cell_type": "code",
   "execution_count": 143,
   "id": "4ac62ad1",
   "metadata": {},
   "outputs": [
    {
     "name": "stdout",
     "output_type": "stream",
     "text": [
      "Number of reviews from England between 2015 and 2025: 125341\n"
     ]
    }
   ],
   "source": [
    "# Count how many reviews meet both criteria\n",
    "count_reviews = england_recent.shape[0]\n",
    "# Print the count\n",
    "print(f\"Number of reviews from England between 2015 and 2025: {count_reviews}\")"
   ]
  },
  {
   "cell_type": "code",
   "execution_count": null,
   "id": "91ccd9d7",
   "metadata": {
    "vscode": {
     "languageId": "ruby"
    }
   },
   "outputs": [
    {
     "name": "stdout",
     "output_type": "stream",
     "text": [
      "\n",
      "Number of Reviews by Year (England Reviews):\n",
      "year\n",
      "2015     7629\n",
      "2016    10806\n",
      "2017    13033\n",
      "2018    12512\n",
      "2019    18554\n",
      "2020    32569\n",
      "2021    30238\n",
      "Name: count, dtype: int64\n"
     ]
    },
    {
     "data": {
      "image/png": "[encoded data removed]",
      "text/plain": [
       "<Figure size 700x400 with 1 Axes>"
      ]
     },
     "metadata": {},
     "output_type": "display_data"
    }
   ],
   "source": [
    "# Extract year from the date_review column (if not already done)\n",
    "england_recent['year'] = england_recent['date_review'].dt.year\n",
    "\n",
    "# Count number of reviews per year\n",
    "reviews_per_year = england_recent['year'].value_counts().sort_index()\n",
    "print(\"\\nNumber of Reviews by Year (England Reviews):\")\n",
    "print(reviews_per_year)\n",
    "\n",
    "# Convert to DataFrame if you want to save or display as a table\n",
    "reviews_per_year_df = reviews_per_year.reset_index()\n",
    "reviews_per_year_df.columns = ['Year', 'Number_of_Reviews']\n",
    "\n",
    "# Plot the histogram with annotated counts\n",
    "plt.figure(figsize=(7, 4))\n",
    "ax = sns.histplot(data=england_recent, x='year', \n",
    "                  bins=range(england_recent['year'].min(), england_recent['year'].max() + 2), \n",
    "                  discrete=True)\n",
    "\n",
    "# Annotate bar heights with review counts\n",
    "for container in ax.containers:\n",
    "    ax.bar_label(container, fmt='%d', label_type='edge', padding=2)\n",
    "\n",
    "plt.xlabel(\"Year\")\n",
    "plt.ylabel(\"Number of Reviews\")\n",
    "plt.title(\"Number of Reviews by Year for England Reviews\")\n",
    "plt.tight_layout()\n",
    "plt.show()\n"
   ]
  },
  {
   "cell_type": "markdown",
   "id": "80542f8f",
   "metadata": {},
   "source": [
    "### Most common firms with location containing England and date_review between 2015-2025"
   ]
  },
  {
   "cell_type": "code",
   "execution_count": 150,
   "id": "f4b09805",
   "metadata": {},
   "outputs": [
    {
     "name": "stdout",
     "output_type": "stream",
     "text": [
      "firm\n",
      "Tesco                5116\n",
      "McDonald-s           3314\n",
      "NHS                  2881\n",
      "J-Sainsbury          2872\n",
      "Barclays             2345\n",
      "ASDA                 2164\n",
      "Marks-and-Spencer    2078\n",
      "Primark              1880\n",
      "Waitrose             1841\n",
      "PwC                  1810\n",
      "Name: count, dtype: int64\n"
     ]
    }
   ],
   "source": [
    "top_firms_recent = england_recent['firm'].value_counts().head(10)\n",
    "print(top_firms_recent)"
   ]
  },
  {
   "cell_type": "code",
   "execution_count": 151,
   "id": "44ae6b12",
   "metadata": {},
   "outputs": [
    {
     "name": "stdout",
     "output_type": "stream",
     "text": [
      "Number of unique companies: 416\n"
     ]
    }
   ],
   "source": [
    "unique_companies = england_recent['firm'].nunique()\n",
    "print(\"Number of unique companies:\", unique_companies)"
   ]
  },
  {
   "cell_type": "code",
   "execution_count": 152,
   "id": "85e2ef62",
   "metadata": {},
   "outputs": [],
   "source": [
    "england_recent.to_csv('england_recent.csv', index=False)"
   ]
  },
  {
   "cell_type": "code",
   "execution_count": 153,
   "id": "65ae94c7",
   "metadata": {},
   "outputs": [
    {
     "name": "stdout",
     "output_type": "stream",
     "text": [
      "Top 10 locations within England:\n",
      "location\n",
      "London, England, England                        57341\n",
      "Manchester, England, England                     5539\n",
      "Birmingham, England, England                     4076\n",
      "Leeds, England, England                          3255\n",
      "Bristol, England, England                        2581\n",
      "Cambridge, East of England, England, England     1752\n",
      "Newcastle upon Tyne, England, England            1696\n",
      "Liverpool, England, England                      1614\n",
      "Reading, England, England                        1534\n",
      "Nottingham, England, England                     1517\n",
      "Name: count, dtype: int64\n"
     ]
    }
   ],
   "source": [
    "print(\"Top 10 locations within England:\")\n",
    "print(england_locations.head(10))"
   ]
  },
  {
   "cell_type": "markdown",
   "id": "e6230148",
   "metadata": {},
   "source": [
    "### Filtering out non corporate companies\n",
    "Given the goals of the project, filtering the data set further to remove reviews of non corporate companies (retail, hospitality, service)"
   ]
  },
  {
   "cell_type": "code",
   "execution_count": 154,
   "id": "ac4f1a00",
   "metadata": {},
   "outputs": [],
   "source": [
    "england_recent['firm'] = england_recent['firm'].str.replace('-', ' ')\n",
    "# Load the suggestion list\n",
    "suggestion_df = pd.read_csv(\"Refined_Industry_and_Suggestion_List.csv\")\n",
    "\n",
    "# Filter for rows where suggestion is \"remove\"\n",
    "firms_to_remove = suggestion_df[suggestion_df[\"suggestion\"] == \"remove\"][\"firm\"].dropna().unique()\n",
    "\n",
    "# Filter the main DataFrame\n",
    "england_recent = england_recent[~england_recent[\"firm\"].isin(firms_to_remove)]\n",
    "\n",
    "\n",
    "england_recent.to_csv('filtered_england_recent.csv')"
   ]
  },
  {
   "cell_type": "code",
   "execution_count": 155,
   "id": "45700ee7",
   "metadata": {},
   "outputs": [
    {
     "name": "stdout",
     "output_type": "stream",
     "text": [
      "Final number of reviews from England between 2015 and 2025: 76126\n"
     ]
    }
   ],
   "source": [
    "# Count how many reviews meet both criteria\n",
    "count_reviews = england_recent.shape[0]\n",
    "# Print the count\n",
    "print(f\"Final number of reviews from England between 2015 and 2025: {count_reviews}\")"
   ]
  }
 ],
 "metadata": {
  "kernelspec": {
   "display_name": "base",
   "language": "python",
   "name": "python3"
  },
  "language_info": {
   "codemirror_mode": {
    "name": "ipython",
    "version": 3
   },
   "file_extension": ".py",
   "mimetype": "text/x-python",
   "name": "python",
   "nbconvert_exporter": "python",
   "pygments_lexer": "ipython3",
   "version": "3.12.7"
  }
 },
 "nbformat": 4,
 "nbformat_minor": 5
}
