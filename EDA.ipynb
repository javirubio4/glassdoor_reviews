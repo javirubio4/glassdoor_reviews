{
 "cells": [
  {
   "cell_type": "markdown",
   "id": "54cd6e3d",
   "metadata": {},
   "source": [
    "# EDA - Glassdoor Reviews"
   ]
  },
  {
   "cell_type": "markdown",
   "id": "35acf16a",
   "metadata": {},
   "source": [
    "### Imports"
   ]
  },
  {
   "cell_type": "code",
   "execution_count": 13,
   "id": "ecf7e799",
   "metadata": {},
   "outputs": [],
   "source": [
    "import pandas as pd\n",
    "import numpy as np\n",
    "import matplotlib.pyplot as plt\n",
    "import seaborn as sns"
   ]
  },
  {
   "cell_type": "markdown",
   "id": "e49c8fa0",
   "metadata": {},
   "source": [
    "## 1. EDA Full Dataset"
   ]
  },
  {
   "cell_type": "markdown",
   "id": "f72754da",
   "metadata": {},
   "source": [
    "### Load the Dataset"
   ]
  },
  {
   "cell_type": "code",
   "execution_count": 14,
   "id": "7b55dac8",
   "metadata": {},
   "outputs": [
    {
     "data": {
      "text/html": [
       "<div>\n",
       "<style scoped>\n",
       "    .dataframe tbody tr th:only-of-type {\n",
       "        vertical-align: middle;\n",
       "    }\n",
       "\n",
       "    .dataframe tbody tr th {\n",
       "        vertical-align: top;\n",
       "    }\n",
       "\n",
       "    .dataframe thead th {\n",
       "        text-align: right;\n",
       "    }\n",
       "</style>\n",
       "<table border=\"1\" class=\"dataframe\">\n",
       "  <thead>\n",
       "    <tr style=\"text-align: right;\">\n",
       "      <th></th>\n",
       "      <th>firm</th>\n",
       "      <th>date_review</th>\n",
       "      <th>job_title</th>\n",
       "      <th>current</th>\n",
       "      <th>location</th>\n",
       "      <th>overall_rating</th>\n",
       "      <th>work_life_balance</th>\n",
       "      <th>culture_values</th>\n",
       "      <th>diversity_inclusion</th>\n",
       "      <th>career_opp</th>\n",
       "      <th>comp_benefits</th>\n",
       "      <th>senior_mgmt</th>\n",
       "      <th>recommend</th>\n",
       "      <th>ceo_approv</th>\n",
       "      <th>outlook</th>\n",
       "      <th>headline</th>\n",
       "      <th>pros</th>\n",
       "      <th>cons</th>\n",
       "    </tr>\n",
       "  </thead>\n",
       "  <tbody>\n",
       "    <tr>\n",
       "      <th>0</th>\n",
       "      <td>AFH-Wealth-Management</td>\n",
       "      <td>2015-04-05</td>\n",
       "      <td></td>\n",
       "      <td>Current Employee</td>\n",
       "      <td>NaN</td>\n",
       "      <td>2</td>\n",
       "      <td>4.0</td>\n",
       "      <td>3.0</td>\n",
       "      <td>NaN</td>\n",
       "      <td>2.0</td>\n",
       "      <td>3.0</td>\n",
       "      <td>3.0</td>\n",
       "      <td>x</td>\n",
       "      <td>o</td>\n",
       "      <td>r</td>\n",
       "      <td>Young colleagues, poor micro management</td>\n",
       "      <td>Very friendly and welcoming to new staff. Easy...</td>\n",
       "      <td>Poor salaries, poor training and communication.</td>\n",
       "    </tr>\n",
       "    <tr>\n",
       "      <th>1</th>\n",
       "      <td>AFH-Wealth-Management</td>\n",
       "      <td>2015-12-11</td>\n",
       "      <td>Office Administrator</td>\n",
       "      <td>Current Employee, more than 1 year</td>\n",
       "      <td>Bromsgrove, England, England</td>\n",
       "      <td>2</td>\n",
       "      <td>3.0</td>\n",
       "      <td>1.0</td>\n",
       "      <td>NaN</td>\n",
       "      <td>2.0</td>\n",
       "      <td>1.0</td>\n",
       "      <td>4.0</td>\n",
       "      <td>x</td>\n",
       "      <td>o</td>\n",
       "      <td>r</td>\n",
       "      <td>Excellent staff, poor salary</td>\n",
       "      <td>Friendly, helpful and hard-working colleagues</td>\n",
       "      <td>Poor salary which doesn't improve much with pr...</td>\n",
       "    </tr>\n",
       "    <tr>\n",
       "      <th>2</th>\n",
       "      <td>AFH-Wealth-Management</td>\n",
       "      <td>2016-01-28</td>\n",
       "      <td>Office Administrator</td>\n",
       "      <td>Current Employee, less than 1 year</td>\n",
       "      <td>Bromsgrove, England, England</td>\n",
       "      <td>1</td>\n",
       "      <td>1.0</td>\n",
       "      <td>1.0</td>\n",
       "      <td>NaN</td>\n",
       "      <td>1.0</td>\n",
       "      <td>1.0</td>\n",
       "      <td>1.0</td>\n",
       "      <td>x</td>\n",
       "      <td>o</td>\n",
       "      <td>x</td>\n",
       "      <td>Low salary, bad micromanagement</td>\n",
       "      <td>Easy to get the job even without experience in...</td>\n",
       "      <td>Very low salary, poor working conditions, very...</td>\n",
       "    </tr>\n",
       "    <tr>\n",
       "      <th>3</th>\n",
       "      <td>AFH-Wealth-Management</td>\n",
       "      <td>2016-04-16</td>\n",
       "      <td></td>\n",
       "      <td>Current Employee</td>\n",
       "      <td>NaN</td>\n",
       "      <td>5</td>\n",
       "      <td>2.0</td>\n",
       "      <td>3.0</td>\n",
       "      <td>NaN</td>\n",
       "      <td>2.0</td>\n",
       "      <td>2.0</td>\n",
       "      <td>3.0</td>\n",
       "      <td>x</td>\n",
       "      <td>o</td>\n",
       "      <td>r</td>\n",
       "      <td>Over promised under delivered</td>\n",
       "      <td>Nice staff to work with</td>\n",
       "      <td>No career progression and salary is poor</td>\n",
       "    </tr>\n",
       "    <tr>\n",
       "      <th>4</th>\n",
       "      <td>AFH-Wealth-Management</td>\n",
       "      <td>2016-04-23</td>\n",
       "      <td>Office Administrator</td>\n",
       "      <td>Current Employee, more than 1 year</td>\n",
       "      <td>Bromsgrove, England, England</td>\n",
       "      <td>1</td>\n",
       "      <td>2.0</td>\n",
       "      <td>1.0</td>\n",
       "      <td>NaN</td>\n",
       "      <td>2.0</td>\n",
       "      <td>1.0</td>\n",
       "      <td>1.0</td>\n",
       "      <td>x</td>\n",
       "      <td>o</td>\n",
       "      <td>x</td>\n",
       "      <td>client reporting admin</td>\n",
       "      <td>Easy to get the job, Nice colleagues.</td>\n",
       "      <td>Abysmal pay, around minimum wage. No actual tr...</td>\n",
       "    </tr>\n",
       "  </tbody>\n",
       "</table>\n",
       "</div>"
      ],
      "text/plain": [
       "                    firm date_review              job_title  \\\n",
       "0  AFH-Wealth-Management  2015-04-05                          \n",
       "1  AFH-Wealth-Management  2015-12-11   Office Administrator   \n",
       "2  AFH-Wealth-Management  2016-01-28   Office Administrator   \n",
       "3  AFH-Wealth-Management  2016-04-16                          \n",
       "4  AFH-Wealth-Management  2016-04-23   Office Administrator   \n",
       "\n",
       "                              current                      location  \\\n",
       "0                    Current Employee                           NaN   \n",
       "1  Current Employee, more than 1 year  Bromsgrove, England, England   \n",
       "2  Current Employee, less than 1 year  Bromsgrove, England, England   \n",
       "3                    Current Employee                           NaN   \n",
       "4  Current Employee, more than 1 year  Bromsgrove, England, England   \n",
       "\n",
       "   overall_rating  work_life_balance  culture_values  diversity_inclusion  \\\n",
       "0               2                4.0             3.0                  NaN   \n",
       "1               2                3.0             1.0                  NaN   \n",
       "2               1                1.0             1.0                  NaN   \n",
       "3               5                2.0             3.0                  NaN   \n",
       "4               1                2.0             1.0                  NaN   \n",
       "\n",
       "   career_opp  comp_benefits  senior_mgmt recommend ceo_approv outlook  \\\n",
       "0         2.0            3.0          3.0         x          o       r   \n",
       "1         2.0            1.0          4.0         x          o       r   \n",
       "2         1.0            1.0          1.0         x          o       x   \n",
       "3         2.0            2.0          3.0         x          o       r   \n",
       "4         2.0            1.0          1.0         x          o       x   \n",
       "\n",
       "                                  headline  \\\n",
       "0  Young colleagues, poor micro management   \n",
       "1             Excellent staff, poor salary   \n",
       "2          Low salary, bad micromanagement   \n",
       "3            Over promised under delivered   \n",
       "4                   client reporting admin   \n",
       "\n",
       "                                                pros  \\\n",
       "0  Very friendly and welcoming to new staff. Easy...   \n",
       "1      Friendly, helpful and hard-working colleagues   \n",
       "2  Easy to get the job even without experience in...   \n",
       "3                            Nice staff to work with   \n",
       "4              Easy to get the job, Nice colleagues.   \n",
       "\n",
       "                                                cons  \n",
       "0    Poor salaries, poor training and communication.  \n",
       "1  Poor salary which doesn't improve much with pr...  \n",
       "2  Very low salary, poor working conditions, very...  \n",
       "3           No career progression and salary is poor  \n",
       "4  Abysmal pay, around minimum wage. No actual tr...  "
      ]
     },
     "execution_count": 14,
     "metadata": {},
     "output_type": "execute_result"
    }
   ],
   "source": [
    "#Load the data\n",
    "reviews = pd.read_csv('glassdoor_reviews.csv')\n",
    "reviews.head()"
   ]
  },
  {
   "cell_type": "markdown",
   "id": "f9b7df14",
   "metadata": {},
   "source": [
    "### Dataset Overview"
   ]
  },
  {
   "cell_type": "code",
   "execution_count": 15,
   "id": "4ee37eac",
   "metadata": {},
   "outputs": [
    {
     "name": "stdout",
     "output_type": "stream",
     "text": [
      "Dataset Shape (rows, columns): (838566, 18)\n",
      "\n",
      "Columns and Data Types:\n",
      "firm                    object\n",
      "date_review             object\n",
      "job_title               object\n",
      "current                 object\n",
      "location                object\n",
      "overall_rating           int64\n",
      "work_life_balance      float64\n",
      "culture_values         float64\n",
      "diversity_inclusion    float64\n",
      "career_opp             float64\n",
      "comp_benefits          float64\n",
      "senior_mgmt            float64\n",
      "recommend               object\n",
      "ceo_approv              object\n",
      "outlook                 object\n",
      "headline                object\n",
      "pros                    object\n",
      "cons                    object\n",
      "dtype: object\n"
     ]
    }
   ],
   "source": [
    "print(\"Dataset Shape (rows, columns):\", reviews.shape)\n",
    "print(\"\\nColumns and Data Types:\")\n",
    "print(reviews.dtypes)"
   ]
  },
  {
   "cell_type": "code",
   "execution_count": 16,
   "id": "4391da7d",
   "metadata": {},
   "outputs": [],
   "source": [
    "reviews['date_review'] = pd.to_datetime(reviews['date_review'])"
   ]
  },
  {
   "cell_type": "markdown",
   "id": "dcb0b68c",
   "metadata": {},
   "source": [
    "### Descriptive statistics for Numeric Columns"
   ]
  },
  {
   "cell_type": "code",
   "execution_count": 17,
   "id": "4ea3270a",
   "metadata": {},
   "outputs": [
    {
     "name": "stdout",
     "output_type": "stream",
     "text": [
      "\n",
      "Descriptive Statistics for Numeric Columns:\n",
      "                         date_review  overall_rating  work_life_balance  \\\n",
      "count                         838566   838566.000000      688672.000000   \n",
      "mean   2018-01-30 15:03:19.703779584        3.655956           3.375735   \n",
      "min              2008-01-31 00:00:00        1.000000           1.000000   \n",
      "25%              2016-04-01 00:00:00        3.000000           2.000000   \n",
      "50%              2018-08-22 00:00:00        4.000000           4.000000   \n",
      "75%              2020-09-12 00:00:00        5.000000           4.000000   \n",
      "max              2021-06-08 00:00:00        5.000000           5.000000   \n",
      "std                              NaN        1.174684           1.305874   \n",
      "\n",
      "       culture_values  diversity_inclusion     career_opp  comp_benefits  \\\n",
      "count   647193.000000        136066.000000  691065.000000  688484.000000   \n",
      "mean         3.590164             3.966612       3.461825       3.398109   \n",
      "min          1.000000             1.000000       1.000000       1.000000   \n",
      "25%          3.000000             3.000000       3.000000       3.000000   \n",
      "50%          4.000000             4.000000       4.000000       3.000000   \n",
      "75%          5.000000             5.000000       5.000000       4.000000   \n",
      "max          5.000000             5.000000       5.000000       5.000000   \n",
      "std          1.323280             1.190937       1.271295       1.218738   \n",
      "\n",
      "         senior_mgmt  \n",
      "count  682690.000000  \n",
      "mean        3.176576  \n",
      "min         1.000000  \n",
      "25%         2.000000  \n",
      "50%         3.000000  \n",
      "75%         4.000000  \n",
      "max         5.000000  \n",
      "std         1.330720  \n"
     ]
    }
   ],
   "source": [
    "print(\"\\nDescriptive Statistics for Numeric Columns:\")\n",
    "print(reviews.describe())"
   ]
  },
  {
   "cell_type": "markdown",
   "id": "0770d08a",
   "metadata": {},
   "source": [
    "### Descriptive Statistics for Non-Numeric Columns"
   ]
  },
  {
   "cell_type": "code",
   "execution_count": 18,
   "id": "86462f31",
   "metadata": {},
   "outputs": [
    {
     "name": "stdout",
     "output_type": "stream",
     "text": [
      "\n",
      "Descriptive Statistics for Non-Numeric Columns:\n",
      "          firm            job_title           current  \\\n",
      "count   838566               838566            838566   \n",
      "unique     428                62275                29   \n",
      "top        IBM   Anonymous Employee  Current Employee   \n",
      "freq     60436               162649            209599   \n",
      "\n",
      "                        location recommend ceo_approv outlook headline  \\\n",
      "count                     541223    838566     838566  838566   835976   \n",
      "unique                     14486         3          4       4   390454   \n",
      "top     London, England, England         v          o       v     Good   \n",
      "freq                       58665    427865     311433  301413    14300   \n",
      "\n",
      "                             pros                      cons  \n",
      "count                      838564                    838553  \n",
      "unique                     778559                    777133  \n",
      "top     Great company to work for  None that I can think of  \n",
      "freq                          720                      1156  \n"
     ]
    }
   ],
   "source": [
    "print(\"\\nDescriptive Statistics for Non-Numeric Columns:\")\n",
    "print(reviews.describe(include='object'))"
   ]
  },
  {
   "cell_type": "markdown",
   "id": "1d6c5b22",
   "metadata": {},
   "source": [
    "### Analyzing Missing Values"
   ]
  },
  {
   "cell_type": "code",
   "execution_count": 19,
   "id": "5ec7120b",
   "metadata": {},
   "outputs": [
    {
     "name": "stdout",
     "output_type": "stream",
     "text": [
      "\n",
      "Missing Values per Column:\n",
      "firm                        0\n",
      "date_review                 0\n",
      "job_title                   0\n",
      "current                     0\n",
      "location               297343\n",
      "overall_rating              0\n",
      "work_life_balance      149894\n",
      "culture_values         191373\n",
      "diversity_inclusion    702500\n",
      "career_opp             147501\n",
      "comp_benefits          150082\n",
      "senior_mgmt            155876\n",
      "recommend                   0\n",
      "ceo_approv                  0\n",
      "outlook                     0\n",
      "headline                 2590\n",
      "pros                        2\n",
      "cons                       13\n",
      "dtype: int64\n"
     ]
    }
   ],
   "source": [
    "missing_values = reviews.isnull().sum()\n",
    "print(\"\\nMissing Values per Column:\")\n",
    "print(missing_values)"
   ]
  },
  {
   "cell_type": "code",
   "execution_count": 20,
   "id": "a96f5beb",
   "metadata": {},
   "outputs": [
    {
     "name": "stdout",
     "output_type": "stream",
     "text": [
      "\n",
      "Percentage of Missing Values per Column:\n",
      "firm                    0.000000\n",
      "date_review             0.000000\n",
      "job_title               0.000000\n",
      "current                 0.000000\n",
      "location               35.458509\n",
      "overall_rating          0.000000\n",
      "work_life_balance      17.875039\n",
      "culture_values         22.821459\n",
      "diversity_inclusion    83.773967\n",
      "career_opp             17.589671\n",
      "comp_benefits          17.897458\n",
      "senior_mgmt            18.588400\n",
      "recommend               0.000000\n",
      "ceo_approv              0.000000\n",
      "outlook                 0.000000\n",
      "headline                0.308861\n",
      "pros                    0.000239\n",
      "cons                    0.001550\n",
      "dtype: float64\n"
     ]
    }
   ],
   "source": [
    "# Calculate percentage of missing values per column\n",
    "total_entries = len(reviews)\n",
    "missing_percentage = (missing_values / total_entries) * 100\n",
    "print(\"\\nPercentage of Missing Values per Column:\")\n",
    "print(missing_percentage)"
   ]
  },
  {
   "cell_type": "markdown",
   "id": "47064c1c",
   "metadata": {},
   "source": [
    "<span style=\"color: red;\">We might want to leave diversity_inclusion out of the analysis.</span>"
   ]
  },
  {
   "cell_type": "code",
   "execution_count": 21,
   "id": "58b9c583",
   "metadata": {},
   "outputs": [
    {
     "data": {
      "text/plain": [
       "Text(0.5, 1.0, 'Missing Values Heatmap')"
      ]
     },
     "execution_count": 21,
     "metadata": {},
     "output_type": "execute_result"
    },
    {
     "data": {
      "image/png": "[encoded data removed]",
      "text/plain": [
       "<Figure size 1200x600 with 2 Axes>"
      ]
     },
     "metadata": {},
     "output_type": "display_data"
    }
   ],
   "source": [
    "plt.figure(figsize=(12, 6))\n",
    "sns.heatmap(reviews.isnull(), cbar=True)\n",
    "plt.title('Missing Values Heatmap')"
   ]
  },
  {
   "cell_type": "markdown",
   "id": "3f9ef08a",
   "metadata": {},
   "source": [
    "### Analyzing Duplicates"
   ]
  },
  {
   "cell_type": "code",
   "execution_count": 22,
   "id": "b4ee8021",
   "metadata": {},
   "outputs": [
    {
     "name": "stdout",
     "output_type": "stream",
     "text": [
      "Total duplicate rows: 33515\n"
     ]
    }
   ],
   "source": [
    "print(\"Total duplicate rows:\", reviews.duplicated().sum())"
   ]
  },
  {
   "cell_type": "markdown",
   "id": "7354aeaa",
   "metadata": {},
   "source": [
    "<span style=\"color: red;\">Note that this method only counts as duplicated those rows that have a complete match, meaning every column is exactly the same.</span>"
   ]
  },
  {
   "cell_type": "code",
   "execution_count": 23,
   "id": "03fb2131",
   "metadata": {},
   "outputs": [
    {
     "data": {
      "text/html": [
       "<div>\n",
       "<style scoped>\n",
       "    .dataframe tbody tr th:only-of-type {\n",
       "        vertical-align: middle;\n",
       "    }\n",
       "\n",
       "    .dataframe tbody tr th {\n",
       "        vertical-align: top;\n",
       "    }\n",
       "\n",
       "    .dataframe thead th {\n",
       "        text-align: right;\n",
       "    }\n",
       "</style>\n",
       "<table border=\"1\" class=\"dataframe\">\n",
       "  <thead>\n",
       "    <tr style=\"text-align: right;\">\n",
       "      <th></th>\n",
       "      <th>firm</th>\n",
       "      <th>date_review</th>\n",
       "      <th>job_title</th>\n",
       "      <th>current</th>\n",
       "      <th>location</th>\n",
       "      <th>overall_rating</th>\n",
       "      <th>work_life_balance</th>\n",
       "      <th>culture_values</th>\n",
       "      <th>diversity_inclusion</th>\n",
       "      <th>career_opp</th>\n",
       "      <th>comp_benefits</th>\n",
       "      <th>senior_mgmt</th>\n",
       "      <th>recommend</th>\n",
       "      <th>ceo_approv</th>\n",
       "      <th>outlook</th>\n",
       "      <th>headline</th>\n",
       "      <th>pros</th>\n",
       "      <th>cons</th>\n",
       "    </tr>\n",
       "  </thead>\n",
       "  <tbody>\n",
       "    <tr>\n",
       "      <th>1231</th>\n",
       "      <td>ASDA</td>\n",
       "      <td>2010-10-29</td>\n",
       "      <td>Asda Manager</td>\n",
       "      <td>Former Employee</td>\n",
       "      <td>NaN</td>\n",
       "      <td>5</td>\n",
       "      <td>5.0</td>\n",
       "      <td>NaN</td>\n",
       "      <td>NaN</td>\n",
       "      <td>5.0</td>\n",
       "      <td>5.0</td>\n",
       "      <td>4.0</td>\n",
       "      <td>v</td>\n",
       "      <td>o</td>\n",
       "      <td>o</td>\n",
       "      <td>bil</td>\n",
       "      <td>great team work, working together</td>\n",
       "      <td>long hours long shift patterns</td>\n",
       "    </tr>\n",
       "    <tr>\n",
       "      <th>1232</th>\n",
       "      <td>ASDA</td>\n",
       "      <td>2010-10-29</td>\n",
       "      <td>Asda Manager</td>\n",
       "      <td>Former Employee</td>\n",
       "      <td>NaN</td>\n",
       "      <td>5</td>\n",
       "      <td>5.0</td>\n",
       "      <td>NaN</td>\n",
       "      <td>NaN</td>\n",
       "      <td>5.0</td>\n",
       "      <td>5.0</td>\n",
       "      <td>4.0</td>\n",
       "      <td>v</td>\n",
       "      <td>o</td>\n",
       "      <td>o</td>\n",
       "      <td>bil</td>\n",
       "      <td>great team work, working together</td>\n",
       "      <td>long hours long shift patterns</td>\n",
       "    </tr>\n",
       "    <tr>\n",
       "      <th>1271</th>\n",
       "      <td>ASDA</td>\n",
       "      <td>2013-04-24</td>\n",
       "      <td>Shop Floor Assistant</td>\n",
       "      <td>Current Employee, more than 1 year</td>\n",
       "      <td>NaN</td>\n",
       "      <td>4</td>\n",
       "      <td>2.0</td>\n",
       "      <td>4.0</td>\n",
       "      <td>NaN</td>\n",
       "      <td>3.0</td>\n",
       "      <td>4.0</td>\n",
       "      <td>3.0</td>\n",
       "      <td>v</td>\n",
       "      <td>v</td>\n",
       "      <td>v</td>\n",
       "      <td>Good company to work for, very customer experi...</td>\n",
       "      <td>10% discount on shopping in store and online\\r...</td>\n",
       "      <td>Always short staffed with huge targets to hit\\...</td>\n",
       "    </tr>\n",
       "    <tr>\n",
       "      <th>1272</th>\n",
       "      <td>ASDA</td>\n",
       "      <td>2013-04-24</td>\n",
       "      <td>Shop Floor Assistant</td>\n",
       "      <td>Current Employee, more than 1 year</td>\n",
       "      <td>NaN</td>\n",
       "      <td>4</td>\n",
       "      <td>2.0</td>\n",
       "      <td>4.0</td>\n",
       "      <td>NaN</td>\n",
       "      <td>3.0</td>\n",
       "      <td>4.0</td>\n",
       "      <td>3.0</td>\n",
       "      <td>v</td>\n",
       "      <td>v</td>\n",
       "      <td>v</td>\n",
       "      <td>Good company to work for, very customer experi...</td>\n",
       "      <td>10% discount on shopping in store and online\\r...</td>\n",
       "      <td>Always short staffed with huge targets to hit\\...</td>\n",
       "    </tr>\n",
       "    <tr>\n",
       "      <th>1291</th>\n",
       "      <td>ASDA</td>\n",
       "      <td>2013-11-20</td>\n",
       "      <td>Picker</td>\n",
       "      <td>Current Employee, more than 1 year</td>\n",
       "      <td>London, England, England</td>\n",
       "      <td>3</td>\n",
       "      <td>3.0</td>\n",
       "      <td>3.0</td>\n",
       "      <td>NaN</td>\n",
       "      <td>3.0</td>\n",
       "      <td>3.0</td>\n",
       "      <td>2.0</td>\n",
       "      <td>x</td>\n",
       "      <td>r</td>\n",
       "      <td>r</td>\n",
       "      <td>Long hours, okay pay, hard work, difficult man...</td>\n",
       "      <td>Flexible hours, people are friendly, shop disc...</td>\n",
       "      <td>Management can be difficult to work with, pres...</td>\n",
       "    </tr>\n",
       "    <tr>\n",
       "      <th>1292</th>\n",
       "      <td>ASDA</td>\n",
       "      <td>2013-11-20</td>\n",
       "      <td>Picker</td>\n",
       "      <td>Current Employee, more than 1 year</td>\n",
       "      <td>London, England, England</td>\n",
       "      <td>3</td>\n",
       "      <td>3.0</td>\n",
       "      <td>3.0</td>\n",
       "      <td>NaN</td>\n",
       "      <td>3.0</td>\n",
       "      <td>3.0</td>\n",
       "      <td>2.0</td>\n",
       "      <td>x</td>\n",
       "      <td>r</td>\n",
       "      <td>r</td>\n",
       "      <td>Long hours, okay pay, hard work, difficult man...</td>\n",
       "      <td>Flexible hours, people are friendly, shop disc...</td>\n",
       "      <td>Management can be difficult to work with, pres...</td>\n",
       "    </tr>\n",
       "    <tr>\n",
       "      <th>1337</th>\n",
       "      <td>ASDA</td>\n",
       "      <td>2014-05-24</td>\n",
       "      <td>Shop Floor Assistant (Nights)</td>\n",
       "      <td>Current Employee, more than 8 years</td>\n",
       "      <td>Hinckley, England, England</td>\n",
       "      <td>3</td>\n",
       "      <td>2.0</td>\n",
       "      <td>2.0</td>\n",
       "      <td>NaN</td>\n",
       "      <td>3.0</td>\n",
       "      <td>3.0</td>\n",
       "      <td>3.0</td>\n",
       "      <td>x</td>\n",
       "      <td>r</td>\n",
       "      <td>r</td>\n",
       "      <td>A brief summary of a near 10 year nightshift c...</td>\n",
       "      <td>Friendly colleagues make for a pleasant and re...</td>\n",
       "      <td>Financial constraints and reduction in employe...</td>\n",
       "    </tr>\n",
       "    <tr>\n",
       "      <th>1338</th>\n",
       "      <td>ASDA</td>\n",
       "      <td>2014-05-24</td>\n",
       "      <td>Shop Floor Assistant (Nights)</td>\n",
       "      <td>Current Employee, more than 8 years</td>\n",
       "      <td>Hinckley, England, England</td>\n",
       "      <td>3</td>\n",
       "      <td>2.0</td>\n",
       "      <td>2.0</td>\n",
       "      <td>NaN</td>\n",
       "      <td>3.0</td>\n",
       "      <td>3.0</td>\n",
       "      <td>3.0</td>\n",
       "      <td>x</td>\n",
       "      <td>r</td>\n",
       "      <td>r</td>\n",
       "      <td>A brief summary of a near 10 year nightshift c...</td>\n",
       "      <td>Friendly colleagues make for a pleasant and re...</td>\n",
       "      <td>Financial constraints and reduction in employe...</td>\n",
       "    </tr>\n",
       "    <tr>\n",
       "      <th>1399</th>\n",
       "      <td>ASDA</td>\n",
       "      <td>2014-06-16</td>\n",
       "      <td>Designer</td>\n",
       "      <td>Former Employee, less than 1 year</td>\n",
       "      <td>Leeds, England, England</td>\n",
       "      <td>1</td>\n",
       "      <td>2.0</td>\n",
       "      <td>1.0</td>\n",
       "      <td>NaN</td>\n",
       "      <td>1.0</td>\n",
       "      <td>1.0</td>\n",
       "      <td>1.0</td>\n",
       "      <td>x</td>\n",
       "      <td>v</td>\n",
       "      <td>r</td>\n",
       "      <td>team work is unheard of, you're on your own</td>\n",
       "      <td>I learnt a lot of things there. self time mana...</td>\n",
       "      <td>managment rarely around. I was without a manag...</td>\n",
       "    </tr>\n",
       "    <tr>\n",
       "      <th>1400</th>\n",
       "      <td>ASDA</td>\n",
       "      <td>2014-06-16</td>\n",
       "      <td>Designer</td>\n",
       "      <td>Former Employee, less than 1 year</td>\n",
       "      <td>Leeds, England, England</td>\n",
       "      <td>1</td>\n",
       "      <td>2.0</td>\n",
       "      <td>1.0</td>\n",
       "      <td>NaN</td>\n",
       "      <td>1.0</td>\n",
       "      <td>1.0</td>\n",
       "      <td>1.0</td>\n",
       "      <td>x</td>\n",
       "      <td>v</td>\n",
       "      <td>r</td>\n",
       "      <td>team work is unheard of, you're on your own</td>\n",
       "      <td>I learnt a lot of things there. self time mana...</td>\n",
       "      <td>managment rarely around. I was without a manag...</td>\n",
       "    </tr>\n",
       "  </tbody>\n",
       "</table>\n",
       "</div>"
      ],
      "text/plain": [
       "      firm date_review                       job_title  \\\n",
       "1231  ASDA  2010-10-29                    Asda Manager   \n",
       "1232  ASDA  2010-10-29                    Asda Manager   \n",
       "1271  ASDA  2013-04-24            Shop Floor Assistant   \n",
       "1272  ASDA  2013-04-24            Shop Floor Assistant   \n",
       "1291  ASDA  2013-11-20                          Picker   \n",
       "1292  ASDA  2013-11-20                          Picker   \n",
       "1337  ASDA  2014-05-24   Shop Floor Assistant (Nights)   \n",
       "1338  ASDA  2014-05-24   Shop Floor Assistant (Nights)   \n",
       "1399  ASDA  2014-06-16                        Designer   \n",
       "1400  ASDA  2014-06-16                        Designer   \n",
       "\n",
       "                                  current                    location  \\\n",
       "1231                      Former Employee                         NaN   \n",
       "1232                      Former Employee                         NaN   \n",
       "1271   Current Employee, more than 1 year                         NaN   \n",
       "1272   Current Employee, more than 1 year                         NaN   \n",
       "1291   Current Employee, more than 1 year    London, England, England   \n",
       "1292   Current Employee, more than 1 year    London, England, England   \n",
       "1337  Current Employee, more than 8 years  Hinckley, England, England   \n",
       "1338  Current Employee, more than 8 years  Hinckley, England, England   \n",
       "1399    Former Employee, less than 1 year     Leeds, England, England   \n",
       "1400    Former Employee, less than 1 year     Leeds, England, England   \n",
       "\n",
       "      overall_rating  work_life_balance  culture_values  diversity_inclusion  \\\n",
       "1231               5                5.0             NaN                  NaN   \n",
       "1232               5                5.0             NaN                  NaN   \n",
       "1271               4                2.0             4.0                  NaN   \n",
       "1272               4                2.0             4.0                  NaN   \n",
       "1291               3                3.0             3.0                  NaN   \n",
       "1292               3                3.0             3.0                  NaN   \n",
       "1337               3                2.0             2.0                  NaN   \n",
       "1338               3                2.0             2.0                  NaN   \n",
       "1399               1                2.0             1.0                  NaN   \n",
       "1400               1                2.0             1.0                  NaN   \n",
       "\n",
       "      career_opp  comp_benefits  senior_mgmt recommend ceo_approv outlook  \\\n",
       "1231         5.0            5.0          4.0         v          o       o   \n",
       "1232         5.0            5.0          4.0         v          o       o   \n",
       "1271         3.0            4.0          3.0         v          v       v   \n",
       "1272         3.0            4.0          3.0         v          v       v   \n",
       "1291         3.0            3.0          2.0         x          r       r   \n",
       "1292         3.0            3.0          2.0         x          r       r   \n",
       "1337         3.0            3.0          3.0         x          r       r   \n",
       "1338         3.0            3.0          3.0         x          r       r   \n",
       "1399         1.0            1.0          1.0         x          v       r   \n",
       "1400         1.0            1.0          1.0         x          v       r   \n",
       "\n",
       "                                               headline  \\\n",
       "1231                                                bil   \n",
       "1232                                                bil   \n",
       "1271  Good company to work for, very customer experi...   \n",
       "1272  Good company to work for, very customer experi...   \n",
       "1291  Long hours, okay pay, hard work, difficult man...   \n",
       "1292  Long hours, okay pay, hard work, difficult man...   \n",
       "1337  A brief summary of a near 10 year nightshift c...   \n",
       "1338  A brief summary of a near 10 year nightshift c...   \n",
       "1399        team work is unheard of, you're on your own   \n",
       "1400        team work is unheard of, you're on your own   \n",
       "\n",
       "                                                   pros  \\\n",
       "1231                  great team work, working together   \n",
       "1232                  great team work, working together   \n",
       "1271  10% discount on shopping in store and online\\r...   \n",
       "1272  10% discount on shopping in store and online\\r...   \n",
       "1291  Flexible hours, people are friendly, shop disc...   \n",
       "1292  Flexible hours, people are friendly, shop disc...   \n",
       "1337  Friendly colleagues make for a pleasant and re...   \n",
       "1338  Friendly colleagues make for a pleasant and re...   \n",
       "1399  I learnt a lot of things there. self time mana...   \n",
       "1400  I learnt a lot of things there. self time mana...   \n",
       "\n",
       "                                                   cons  \n",
       "1231                     long hours long shift patterns  \n",
       "1232                     long hours long shift patterns  \n",
       "1271  Always short staffed with huge targets to hit\\...  \n",
       "1272  Always short staffed with huge targets to hit\\...  \n",
       "1291  Management can be difficult to work with, pres...  \n",
       "1292  Management can be difficult to work with, pres...  \n",
       "1337  Financial constraints and reduction in employe...  \n",
       "1338  Financial constraints and reduction in employe...  \n",
       "1399  managment rarely around. I was without a manag...  \n",
       "1400  managment rarely around. I was without a manag...  "
      ]
     },
     "execution_count": 23,
     "metadata": {},
     "output_type": "execute_result"
    }
   ],
   "source": [
    "duplicated_reviews = reviews[reviews.duplicated(keep=False)]\n",
    "duplicated_reviews.head(10)\n"
   ]
  },
  {
   "cell_type": "code",
   "execution_count": 24,
   "id": "522bba82",
   "metadata": {},
   "outputs": [
    {
     "name": "stdout",
     "output_type": "stream",
     "text": [
      "\n",
      "Percentage of Duplicates:\n",
      "3.9967038968906445\n"
     ]
    }
   ],
   "source": [
    "duplicates =  reviews.duplicated().sum()\n",
    "duplicated_percentage = (duplicates / total_entries) * 100\n",
    "print(\"\\nPercentage of Duplicates:\")\n",
    "print(duplicated_percentage)"
   ]
  },
  {
   "cell_type": "markdown",
   "id": "11aa083d",
   "metadata": {},
   "source": [
    "<span style=\"color: red;\">Given that it's such a small percentage, we could drop the duplicated rows.</span>"
   ]
  },
  {
   "cell_type": "markdown",
   "id": "804495bd",
   "metadata": {},
   "source": [
    "### Most common firms"
   ]
  },
  {
   "cell_type": "code",
   "execution_count": 25,
   "id": "564f0ee4",
   "metadata": {},
   "outputs": [
    {
     "name": "stdout",
     "output_type": "stream",
     "text": [
      "firm\n",
      "IBM           60436\n",
      "McDonald-s    49450\n",
      "Deloitte      46995\n",
      "EY            34050\n",
      "PwC           33227\n",
      "Oracle        31941\n",
      "Microsoft     26675\n",
      "J-P-Morgan    25814\n",
      "KPMG          24815\n",
      "Apple         20797\n",
      "Name: count, dtype: int64\n"
     ]
    }
   ],
   "source": [
    "top_firms = reviews['firm'].value_counts().head(10)\n",
    "print(top_firms)"
   ]
  },
  {
   "cell_type": "markdown",
   "id": "9ea58116",
   "metadata": {},
   "source": [
    "### Most common locations"
   ]
  },
  {
   "cell_type": "code",
   "execution_count": 26,
   "id": "f3b693cd",
   "metadata": {},
   "outputs": [
    {
     "name": "stdout",
     "output_type": "stream",
     "text": [
      "Number of unique locations: 14486\n"
     ]
    }
   ],
   "source": [
    "unique_locations = reviews['location'].nunique()\n",
    "print(\"Number of unique locations:\", unique_locations)"
   ]
  },
  {
   "cell_type": "code",
   "execution_count": 27,
   "id": "acb578b3",
   "metadata": {},
   "outputs": [
    {
     "name": "stdout",
     "output_type": "stream",
     "text": [
      "firm\n",
      "AFH-Wealth-Management     10\n",
      "AJ-Bell                    7\n",
      "ALDI                     270\n",
      "AQA                        6\n",
      "ASDA                     590\n",
      "                        ... \n",
      "i-Net-Solution             2\n",
      "ibis                      59\n",
      "mydentist-UK              55\n",
      "next                     375\n",
      "the-LEGO-Group           152\n",
      "Name: location, Length: 428, dtype: int64\n"
     ]
    }
   ],
   "source": [
    "locations_per_company = reviews.groupby(\"firm\")[\"location\"].nunique()\n",
    "print(locations_per_company)"
   ]
  },
  {
   "cell_type": "code",
   "execution_count": 28,
   "id": "04569385",
   "metadata": {},
   "outputs": [
    {
     "name": "stdout",
     "output_type": "stream",
     "text": [
      "firm\n",
      "Office-of-Rail-Regulation                  1\n",
      "NPSA                                       1\n",
      "UKCIL                                      1\n",
      "National-Offender-Management-Service       2\n",
      "AlixPartners                               2\n",
      "                                        ... \n",
      "Apple                                   1176\n",
      "Marriott-International                  1223\n",
      "IBM                                     1477\n",
      "Pizza-Hut                               2164\n",
      "McDonald-s                              6952\n",
      "Name: location, Length: 428, dtype: int64\n"
     ]
    }
   ],
   "source": [
    "sorted_locations_per_company = locations_per_company.sort_values(ascending=True)\n",
    "print(sorted_locations_per_company)"
   ]
  },
  {
   "cell_type": "code",
   "execution_count": 29,
   "id": "0b44eab7",
   "metadata": {},
   "outputs": [
    {
     "name": "stdout",
     "output_type": "stream",
     "text": [
      "firm\n",
      "McDonald-s                6952\n",
      "Pizza-Hut                 2164\n",
      "IBM                       1477\n",
      "Marriott-International    1223\n",
      "Apple                     1176\n",
      "J-P-Morgan                1136\n",
      "Tesco                     1084\n",
      "Deloitte                  1033\n",
      "PwC                        876\n",
      "Microsoft                  857\n",
      "Name: location, dtype: int64\n"
     ]
    }
   ],
   "source": [
    "top_10_locations = locations_per_company.sort_values(ascending=False).head(10)\n",
    "print(top_10_locations)"
   ]
  },
  {
   "cell_type": "code",
   "execution_count": 30,
   "id": "b1ecba16",
   "metadata": {},
   "outputs": [
    {
     "name": "stdout",
     "output_type": "stream",
     "text": [
      "location\n",
      "London, England, England     58665\n",
      "New York, NY                 31172\n",
      "Bangalore                    28102\n",
      "Hyderābād                    11458\n",
      "Mumbai                        9543\n",
      "Gurgaon, Haryana, Haryana     8562\n",
      "Chicago, IL                   7840\n",
      "Singapore                     7581\n",
      "San Francisco, CA             7371\n",
      "Dublin, Dublin                7364\n",
      "Name: count, dtype: int64\n"
     ]
    }
   ],
   "source": [
    "top_locations = reviews['location'].value_counts().head(10)\n",
    "print(top_locations)"
   ]
  },
  {
   "cell_type": "code",
   "execution_count": 31,
   "id": "b9a60043",
   "metadata": {},
   "outputs": [
    {
     "name": "stdout",
     "output_type": "stream",
     "text": [
      "\n",
      "Most Common Locations within England:\n",
      "location\n",
      "London, England, England                        58665\n",
      "Manchester, England, England                     5619\n",
      "Birmingham, England, England                     4132\n",
      "Leeds, England, England                          3279\n",
      "Bristol, England, England                        2617\n",
      "Cambridge, East of England, England, England     1763\n",
      "Newcastle upon Tyne, England, England            1726\n",
      "Liverpool, England, England                      1635\n",
      "Reading, England, England                        1571\n",
      "Nottingham, England, England                     1540\n",
      "Name: count, dtype: int64\n"
     ]
    }
   ],
   "source": [
    "#Most common locations within England\n",
    "england_reviews = reviews[reviews['location'].str.contains('England', na=False)]\n",
    "england_locations = england_reviews['location'].value_counts().head(10)\n",
    "print(\"\\nMost Common Locations within England:\")\n",
    "print(england_locations)"
   ]
  },
  {
   "cell_type": "code",
   "execution_count": 32,
   "id": "abb8ffc6",
   "metadata": {},
   "outputs": [
    {
     "name": "stdout",
     "output_type": "stream",
     "text": [
      "Top 10 firms with location in London:\n",
      "firm\n",
      "Accenture        1852\n",
      "Barclays         1815\n",
      "Deloitte         1804\n",
      "EY               1733\n",
      "PwC              1685\n",
      "KPMG             1355\n",
      "HSBC-Holdings    1218\n",
      "IBM              1135\n",
      "Tesco            1072\n",
      "NHS               966\n",
      "Name: count, dtype: int64\n"
     ]
    }
   ],
   "source": [
    "# Most common firms with location = London\n",
    "london_reviews = reviews[reviews['location'].str.contains('London', na=False)]\n",
    "london_top_firms = london_reviews['firm'].value_counts().head(10)\n",
    "\n",
    "print(\"Top 10 firms with location in London:\")\n",
    "print(london_top_firms)"
   ]
  },
  {
   "cell_type": "markdown",
   "id": "c00cb7e0",
   "metadata": {},
   "source": [
    "### Correlation Analysis"
   ]
  },
  {
   "cell_type": "code",
   "execution_count": 33,
   "id": "59dbfe58",
   "metadata": {},
   "outputs": [
    {
     "data": {
      "image/png": "[encoded data removed]",
      "text/plain": [
       "<Figure size 1000x800 with 2 Axes>"
      ]
     },
     "metadata": {},
     "output_type": "display_data"
    }
   ],
   "source": [
    "# Select only numerical columns from the DataFrame\n",
    "numerical_data = reviews.select_dtypes(include=[np.number])\n",
    "\n",
    "# Compute the correlation matrix\n",
    "correlation_matrix = numerical_data.corr()\n",
    "\n",
    "# Visualize the correlation matrix using a heatmap\n",
    "plt.figure(figsize=(10, 8))\n",
    "sns.heatmap(correlation_matrix, annot=True, cmap='coolwarm')\n",
    "plt.title(\"Correlation Matrix for Numerical Columns\")\n",
    "plt.show()"
   ]
  },
  {
   "cell_type": "markdown",
   "id": "f4991fa6",
   "metadata": {},
   "source": [
    "## 2. EDA Filtered Dataset"
   ]
  },
  {
   "cell_type": "markdown",
   "id": "1bbf3bac",
   "metadata": {},
   "source": [
    "Filtered for location contains 'England' and date_review is between 2015 and 2025."
   ]
  },
  {
   "cell_type": "code",
   "execution_count": 34,
   "id": "59edb8e4",
   "metadata": {},
   "outputs": [
    {
     "data": {
      "text/html": [
       "<div>\n",
       "<style scoped>\n",
       "    .dataframe tbody tr th:only-of-type {\n",
       "        vertical-align: middle;\n",
       "    }\n",
       "\n",
       "    .dataframe tbody tr th {\n",
       "        vertical-align: top;\n",
       "    }\n",
       "\n",
       "    .dataframe thead th {\n",
       "        text-align: right;\n",
       "    }\n",
       "</style>\n",
       "<table border=\"1\" class=\"dataframe\">\n",
       "  <thead>\n",
       "    <tr style=\"text-align: right;\">\n",
       "      <th></th>\n",
       "      <th>firm</th>\n",
       "      <th>date_review</th>\n",
       "      <th>job_title</th>\n",
       "      <th>current</th>\n",
       "      <th>location</th>\n",
       "      <th>overall_rating</th>\n",
       "      <th>work_life_balance</th>\n",
       "      <th>culture_values</th>\n",
       "      <th>diversity_inclusion</th>\n",
       "      <th>career_opp</th>\n",
       "      <th>comp_benefits</th>\n",
       "      <th>senior_mgmt</th>\n",
       "      <th>recommend</th>\n",
       "      <th>ceo_approv</th>\n",
       "      <th>outlook</th>\n",
       "      <th>headline</th>\n",
       "      <th>pros</th>\n",
       "      <th>cons</th>\n",
       "    </tr>\n",
       "  </thead>\n",
       "  <tbody>\n",
       "    <tr>\n",
       "      <th>1</th>\n",
       "      <td>AFH-Wealth-Management</td>\n",
       "      <td>2015-12-11</td>\n",
       "      <td>Office Administrator</td>\n",
       "      <td>Current Employee, more than 1 year</td>\n",
       "      <td>Bromsgrove, England, England</td>\n",
       "      <td>2</td>\n",
       "      <td>3.0</td>\n",
       "      <td>1.0</td>\n",
       "      <td>NaN</td>\n",
       "      <td>2.0</td>\n",
       "      <td>1.0</td>\n",
       "      <td>4.0</td>\n",
       "      <td>x</td>\n",
       "      <td>o</td>\n",
       "      <td>r</td>\n",
       "      <td>Excellent staff, poor salary</td>\n",
       "      <td>Friendly, helpful and hard-working colleagues</td>\n",
       "      <td>Poor salary which doesn't improve much with pr...</td>\n",
       "    </tr>\n",
       "    <tr>\n",
       "      <th>2</th>\n",
       "      <td>AFH-Wealth-Management</td>\n",
       "      <td>2016-01-28</td>\n",
       "      <td>Office Administrator</td>\n",
       "      <td>Current Employee, less than 1 year</td>\n",
       "      <td>Bromsgrove, England, England</td>\n",
       "      <td>1</td>\n",
       "      <td>1.0</td>\n",
       "      <td>1.0</td>\n",
       "      <td>NaN</td>\n",
       "      <td>1.0</td>\n",
       "      <td>1.0</td>\n",
       "      <td>1.0</td>\n",
       "      <td>x</td>\n",
       "      <td>o</td>\n",
       "      <td>x</td>\n",
       "      <td>Low salary, bad micromanagement</td>\n",
       "      <td>Easy to get the job even without experience in...</td>\n",
       "      <td>Very low salary, poor working conditions, very...</td>\n",
       "    </tr>\n",
       "    <tr>\n",
       "      <th>4</th>\n",
       "      <td>AFH-Wealth-Management</td>\n",
       "      <td>2016-04-23</td>\n",
       "      <td>Office Administrator</td>\n",
       "      <td>Current Employee, more than 1 year</td>\n",
       "      <td>Bromsgrove, England, England</td>\n",
       "      <td>1</td>\n",
       "      <td>2.0</td>\n",
       "      <td>1.0</td>\n",
       "      <td>NaN</td>\n",
       "      <td>2.0</td>\n",
       "      <td>1.0</td>\n",
       "      <td>1.0</td>\n",
       "      <td>x</td>\n",
       "      <td>o</td>\n",
       "      <td>x</td>\n",
       "      <td>client reporting admin</td>\n",
       "      <td>Easy to get the job, Nice colleagues.</td>\n",
       "      <td>Abysmal pay, around minimum wage. No actual tr...</td>\n",
       "    </tr>\n",
       "    <tr>\n",
       "      <th>6</th>\n",
       "      <td>AFH-Wealth-Management</td>\n",
       "      <td>2016-09-23</td>\n",
       "      <td>IFA</td>\n",
       "      <td>Former Employee</td>\n",
       "      <td>Bromsgrove, England, England</td>\n",
       "      <td>1</td>\n",
       "      <td>1.0</td>\n",
       "      <td>1.0</td>\n",
       "      <td>NaN</td>\n",
       "      <td>1.0</td>\n",
       "      <td>1.0</td>\n",
       "      <td>1.0</td>\n",
       "      <td>x</td>\n",
       "      <td>o</td>\n",
       "      <td>r</td>\n",
       "      <td>It horrible management</td>\n",
       "      <td>Good investment management strategy. Overall t...</td>\n",
       "      <td>The management and seniors are ruthless. No tr...</td>\n",
       "    </tr>\n",
       "    <tr>\n",
       "      <th>13</th>\n",
       "      <td>AFH-Wealth-Management</td>\n",
       "      <td>2017-05-21</td>\n",
       "      <td>Administrative Support</td>\n",
       "      <td>Former Employee, more than 5 years</td>\n",
       "      <td>Birmingham, England, England</td>\n",
       "      <td>1</td>\n",
       "      <td>4.0</td>\n",
       "      <td>1.0</td>\n",
       "      <td>NaN</td>\n",
       "      <td>2.0</td>\n",
       "      <td>4.0</td>\n",
       "      <td>1.0</td>\n",
       "      <td>o</td>\n",
       "      <td>v</td>\n",
       "      <td>v</td>\n",
       "      <td>Administration team</td>\n",
       "      <td>Free parking . Meet some nice people in the te...</td>\n",
       "      <td>Not treated at all well after 6 yrs of being a...</td>\n",
       "    </tr>\n",
       "  </tbody>\n",
       "</table>\n",
       "</div>"
      ],
      "text/plain": [
       "                     firm date_review                job_title  \\\n",
       "1   AFH-Wealth-Management  2015-12-11     Office Administrator   \n",
       "2   AFH-Wealth-Management  2016-01-28     Office Administrator   \n",
       "4   AFH-Wealth-Management  2016-04-23     Office Administrator   \n",
       "6   AFH-Wealth-Management  2016-09-23                      IFA   \n",
       "13  AFH-Wealth-Management  2017-05-21   Administrative Support   \n",
       "\n",
       "                               current                      location  \\\n",
       "1   Current Employee, more than 1 year  Bromsgrove, England, England   \n",
       "2   Current Employee, less than 1 year  Bromsgrove, England, England   \n",
       "4   Current Employee, more than 1 year  Bromsgrove, England, England   \n",
       "6                      Former Employee  Bromsgrove, England, England   \n",
       "13  Former Employee, more than 5 years  Birmingham, England, England   \n",
       "\n",
       "    overall_rating  work_life_balance  culture_values  diversity_inclusion  \\\n",
       "1                2                3.0             1.0                  NaN   \n",
       "2                1                1.0             1.0                  NaN   \n",
       "4                1                2.0             1.0                  NaN   \n",
       "6                1                1.0             1.0                  NaN   \n",
       "13               1                4.0             1.0                  NaN   \n",
       "\n",
       "    career_opp  comp_benefits  senior_mgmt recommend ceo_approv outlook  \\\n",
       "1          2.0            1.0          4.0         x          o       r   \n",
       "2          1.0            1.0          1.0         x          o       x   \n",
       "4          2.0            1.0          1.0         x          o       x   \n",
       "6          1.0            1.0          1.0         x          o       r   \n",
       "13         2.0            4.0          1.0         o          v       v   \n",
       "\n",
       "                           headline  \\\n",
       "1      Excellent staff, poor salary   \n",
       "2   Low salary, bad micromanagement   \n",
       "4            client reporting admin   \n",
       "6            It horrible management   \n",
       "13              Administration team   \n",
       "\n",
       "                                                 pros  \\\n",
       "1       Friendly, helpful and hard-working colleagues   \n",
       "2   Easy to get the job even without experience in...   \n",
       "4               Easy to get the job, Nice colleagues.   \n",
       "6   Good investment management strategy. Overall t...   \n",
       "13  Free parking . Meet some nice people in the te...   \n",
       "\n",
       "                                                 cons  \n",
       "1   Poor salary which doesn't improve much with pr...  \n",
       "2   Very low salary, poor working conditions, very...  \n",
       "4   Abysmal pay, around minimum wage. No actual tr...  \n",
       "6   The management and seniors are ruthless. No tr...  \n",
       "13  Not treated at all well after 6 yrs of being a...  "
      ]
     },
     "execution_count": 34,
     "metadata": {},
     "output_type": "execute_result"
    }
   ],
   "source": [
    "#Filter for reviews where location contains \"England\" \n",
    "england_reviews = reviews[reviews['location'].str.contains('England', na=False)]\n",
    "#Check the first few rows of the filtered DataFrame\n",
    "england_reviews.head()"
   ]
  },
  {
   "cell_type": "code",
   "execution_count": 35,
   "id": "5254382e",
   "metadata": {},
   "outputs": [
    {
     "data": {
      "text/html": [
       "<div>\n",
       "<style scoped>\n",
       "    .dataframe tbody tr th:only-of-type {\n",
       "        vertical-align: middle;\n",
       "    }\n",
       "\n",
       "    .dataframe tbody tr th {\n",
       "        vertical-align: top;\n",
       "    }\n",
       "\n",
       "    .dataframe thead th {\n",
       "        text-align: right;\n",
       "    }\n",
       "</style>\n",
       "<table border=\"1\" class=\"dataframe\">\n",
       "  <thead>\n",
       "    <tr style=\"text-align: right;\">\n",
       "      <th></th>\n",
       "      <th>firm</th>\n",
       "      <th>date_review</th>\n",
       "      <th>job_title</th>\n",
       "      <th>current</th>\n",
       "      <th>location</th>\n",
       "      <th>overall_rating</th>\n",
       "      <th>work_life_balance</th>\n",
       "      <th>culture_values</th>\n",
       "      <th>diversity_inclusion</th>\n",
       "      <th>career_opp</th>\n",
       "      <th>comp_benefits</th>\n",
       "      <th>senior_mgmt</th>\n",
       "      <th>recommend</th>\n",
       "      <th>ceo_approv</th>\n",
       "      <th>outlook</th>\n",
       "      <th>headline</th>\n",
       "      <th>pros</th>\n",
       "      <th>cons</th>\n",
       "    </tr>\n",
       "  </thead>\n",
       "  <tbody>\n",
       "    <tr>\n",
       "      <th>1</th>\n",
       "      <td>AFH-Wealth-Management</td>\n",
       "      <td>2015-12-11</td>\n",
       "      <td>Office Administrator</td>\n",
       "      <td>Current Employee, more than 1 year</td>\n",
       "      <td>Bromsgrove, England, England</td>\n",
       "      <td>2</td>\n",
       "      <td>3.0</td>\n",
       "      <td>1.0</td>\n",
       "      <td>NaN</td>\n",
       "      <td>2.0</td>\n",
       "      <td>1.0</td>\n",
       "      <td>4.0</td>\n",
       "      <td>x</td>\n",
       "      <td>o</td>\n",
       "      <td>r</td>\n",
       "      <td>Excellent staff, poor salary</td>\n",
       "      <td>Friendly, helpful and hard-working colleagues</td>\n",
       "      <td>Poor salary which doesn't improve much with pr...</td>\n",
       "    </tr>\n",
       "    <tr>\n",
       "      <th>2</th>\n",
       "      <td>AFH-Wealth-Management</td>\n",
       "      <td>2016-01-28</td>\n",
       "      <td>Office Administrator</td>\n",
       "      <td>Current Employee, less than 1 year</td>\n",
       "      <td>Bromsgrove, England, England</td>\n",
       "      <td>1</td>\n",
       "      <td>1.0</td>\n",
       "      <td>1.0</td>\n",
       "      <td>NaN</td>\n",
       "      <td>1.0</td>\n",
       "      <td>1.0</td>\n",
       "      <td>1.0</td>\n",
       "      <td>x</td>\n",
       "      <td>o</td>\n",
       "      <td>x</td>\n",
       "      <td>Low salary, bad micromanagement</td>\n",
       "      <td>Easy to get the job even without experience in...</td>\n",
       "      <td>Very low salary, poor working conditions, very...</td>\n",
       "    </tr>\n",
       "    <tr>\n",
       "      <th>4</th>\n",
       "      <td>AFH-Wealth-Management</td>\n",
       "      <td>2016-04-23</td>\n",
       "      <td>Office Administrator</td>\n",
       "      <td>Current Employee, more than 1 year</td>\n",
       "      <td>Bromsgrove, England, England</td>\n",
       "      <td>1</td>\n",
       "      <td>2.0</td>\n",
       "      <td>1.0</td>\n",
       "      <td>NaN</td>\n",
       "      <td>2.0</td>\n",
       "      <td>1.0</td>\n",
       "      <td>1.0</td>\n",
       "      <td>x</td>\n",
       "      <td>o</td>\n",
       "      <td>x</td>\n",
       "      <td>client reporting admin</td>\n",
       "      <td>Easy to get the job, Nice colleagues.</td>\n",
       "      <td>Abysmal pay, around minimum wage. No actual tr...</td>\n",
       "    </tr>\n",
       "    <tr>\n",
       "      <th>6</th>\n",
       "      <td>AFH-Wealth-Management</td>\n",
       "      <td>2016-09-23</td>\n",
       "      <td>IFA</td>\n",
       "      <td>Former Employee</td>\n",
       "      <td>Bromsgrove, England, England</td>\n",
       "      <td>1</td>\n",
       "      <td>1.0</td>\n",
       "      <td>1.0</td>\n",
       "      <td>NaN</td>\n",
       "      <td>1.0</td>\n",
       "      <td>1.0</td>\n",
       "      <td>1.0</td>\n",
       "      <td>x</td>\n",
       "      <td>o</td>\n",
       "      <td>r</td>\n",
       "      <td>It horrible management</td>\n",
       "      <td>Good investment management strategy. Overall t...</td>\n",
       "      <td>The management and seniors are ruthless. No tr...</td>\n",
       "    </tr>\n",
       "    <tr>\n",
       "      <th>13</th>\n",
       "      <td>AFH-Wealth-Management</td>\n",
       "      <td>2017-05-21</td>\n",
       "      <td>Administrative Support</td>\n",
       "      <td>Former Employee, more than 5 years</td>\n",
       "      <td>Birmingham, England, England</td>\n",
       "      <td>1</td>\n",
       "      <td>4.0</td>\n",
       "      <td>1.0</td>\n",
       "      <td>NaN</td>\n",
       "      <td>2.0</td>\n",
       "      <td>4.0</td>\n",
       "      <td>1.0</td>\n",
       "      <td>o</td>\n",
       "      <td>v</td>\n",
       "      <td>v</td>\n",
       "      <td>Administration team</td>\n",
       "      <td>Free parking . Meet some nice people in the te...</td>\n",
       "      <td>Not treated at all well after 6 yrs of being a...</td>\n",
       "    </tr>\n",
       "  </tbody>\n",
       "</table>\n",
       "</div>"
      ],
      "text/plain": [
       "                     firm date_review                job_title  \\\n",
       "1   AFH-Wealth-Management  2015-12-11     Office Administrator   \n",
       "2   AFH-Wealth-Management  2016-01-28     Office Administrator   \n",
       "4   AFH-Wealth-Management  2016-04-23     Office Administrator   \n",
       "6   AFH-Wealth-Management  2016-09-23                      IFA   \n",
       "13  AFH-Wealth-Management  2017-05-21   Administrative Support   \n",
       "\n",
       "                               current                      location  \\\n",
       "1   Current Employee, more than 1 year  Bromsgrove, England, England   \n",
       "2   Current Employee, less than 1 year  Bromsgrove, England, England   \n",
       "4   Current Employee, more than 1 year  Bromsgrove, England, England   \n",
       "6                      Former Employee  Bromsgrove, England, England   \n",
       "13  Former Employee, more than 5 years  Birmingham, England, England   \n",
       "\n",
       "    overall_rating  work_life_balance  culture_values  diversity_inclusion  \\\n",
       "1                2                3.0             1.0                  NaN   \n",
       "2                1                1.0             1.0                  NaN   \n",
       "4                1                2.0             1.0                  NaN   \n",
       "6                1                1.0             1.0                  NaN   \n",
       "13               1                4.0             1.0                  NaN   \n",
       "\n",
       "    career_opp  comp_benefits  senior_mgmt recommend ceo_approv outlook  \\\n",
       "1          2.0            1.0          4.0         x          o       r   \n",
       "2          1.0            1.0          1.0         x          o       x   \n",
       "4          2.0            1.0          1.0         x          o       x   \n",
       "6          1.0            1.0          1.0         x          o       r   \n",
       "13         2.0            4.0          1.0         o          v       v   \n",
       "\n",
       "                           headline  \\\n",
       "1      Excellent staff, poor salary   \n",
       "2   Low salary, bad micromanagement   \n",
       "4            client reporting admin   \n",
       "6            It horrible management   \n",
       "13              Administration team   \n",
       "\n",
       "                                                 pros  \\\n",
       "1       Friendly, helpful and hard-working colleagues   \n",
       "2   Easy to get the job even without experience in...   \n",
       "4               Easy to get the job, Nice colleagues.   \n",
       "6   Good investment management strategy. Overall t...   \n",
       "13  Free parking . Meet some nice people in the te...   \n",
       "\n",
       "                                                 cons  \n",
       "1   Poor salary which doesn't improve much with pr...  \n",
       "2   Very low salary, poor working conditions, very...  \n",
       "4   Abysmal pay, around minimum wage. No actual tr...  \n",
       "6   The management and seniors are ruthless. No tr...  \n",
       "13  Not treated at all well after 6 yrs of being a...  "
      ]
     },
     "execution_count": 35,
     "metadata": {},
     "output_type": "execute_result"
    }
   ],
   "source": [
    "# Filter for reviews between the years 2015 and 2025 (inclusive)\n",
    "england_recent = england_reviews[(england_reviews['date_review'] >= '2015-01-01') & (england_reviews['date_review'] <= '2025-12-31')].copy()\n",
    "#Check the first few rows of the filtered DataFrame\n",
    "england_recent.head()"
   ]
  },
  {
   "cell_type": "code",
   "execution_count": 36,
   "id": "4ac62ad1",
   "metadata": {},
   "outputs": [
    {
     "name": "stdout",
     "output_type": "stream",
     "text": [
      "Number of reviews from England between 2015 and 2025: 127619\n"
     ]
    }
   ],
   "source": [
    "# Count how many reviews meet both criteria\n",
    "count_reviews = england_recent.shape[0]\n",
    "# Print the count\n",
    "print(f\"Number of reviews from England between 2015 and 2025: {count_reviews}\")"
   ]
  },
  {
   "cell_type": "markdown",
   "id": "0e4dce19",
   "metadata": {},
   "source": [
    "<span style=\"color: red;\">We have enough reviews in the England and recent subset to conduct the whole project only on those reviews.</span>"
   ]
  },
  {
   "cell_type": "code",
   "execution_count": 37,
   "id": "c33afdda",
   "metadata": {
    "vscode": {
     "languageId": "ruby"
    }
   },
   "outputs": [
    {
     "data": {
      "image/png": "[encoded data removed]",
      "text/plain": [
       "<Figure size 500x300 with 1 Axes>"
      ]
     },
     "metadata": {},
     "output_type": "display_data"
    }
   ],
   "source": [
    "# Extract year from the date_review column\n",
    "england_recent.loc[:,'year'] = england_recent['date_review'].dt.year\n",
    "\n",
    "# Create the histogram with seaborn\n",
    "plt.figure(figsize=(5, 3))\n",
    "sns.histplot(data=england_recent, x='year', \n",
    "             bins=range(england_recent['year'].min(), england_recent['year'].max() + 2), \n",
    "             discrete=True)\n",
    "plt.xlabel(\"Year\")\n",
    "plt.ylabel(\"Number of Reviews\")\n",
    "plt.title(\"Number of Reviews by Year for England Reviews\")\n",
    "plt.show()"
   ]
  },
  {
   "cell_type": "markdown",
   "id": "b8fa86ab",
   "metadata": {},
   "source": [
    "### Missing Values"
   ]
  },
  {
   "cell_type": "code",
   "execution_count": 38,
   "id": "9f8b976f",
   "metadata": {},
   "outputs": [
    {
     "name": "stdout",
     "output_type": "stream",
     "text": [
      "Missing values in the filtered dataset:\n",
      "firm                       0\n",
      "date_review                0\n",
      "job_title                  0\n",
      "current                    0\n",
      "location                   0\n",
      "overall_rating             0\n",
      "work_life_balance      18646\n",
      "culture_values         18904\n",
      "diversity_inclusion    96260\n",
      "career_opp             18361\n",
      "comp_benefits          18848\n",
      "senior_mgmt            19278\n",
      "recommend                  0\n",
      "ceo_approv                 0\n",
      "outlook                    0\n",
      "headline                 382\n",
      "pros                       1\n",
      "cons                       3\n",
      "year                       0\n",
      "dtype: int64\n"
     ]
    }
   ],
   "source": [
    "# Analyze missing values in the filtered dataset\n",
    "missing_values = england_recent.isnull().sum()\n",
    "# Print the missing values\n",
    "print(\"Missing values in the filtered dataset:\")\n",
    "print(missing_values)"
   ]
  },
  {
   "cell_type": "markdown",
   "id": "f2f808d8",
   "metadata": {},
   "source": [
    "Here we might need to decide if we exclude other columns that are not pros and cons (work_life_balance, culture_values, diversity_inclusion, etc) or merge them together as one big review and drop the missing values."
   ]
  },
  {
   "cell_type": "code",
   "execution_count": 39,
   "id": "1e0bd772",
   "metadata": {},
   "outputs": [
    {
     "data": {
      "text/plain": [
       "Text(0.5, 1.0, 'Missing Values in England_Reviews Heatmap')"
      ]
     },
     "execution_count": 39,
     "metadata": {},
     "output_type": "execute_result"
    },
    {
     "data": {
      "image/png": "[encoded data removed]",
      "text/plain": [
       "<Figure size 1200x600 with 2 Axes>"
      ]
     },
     "metadata": {},
     "output_type": "display_data"
    }
   ],
   "source": [
    "plt.figure(figsize=(12, 6))\n",
    "sns.heatmap(england_recent.isnull(), cbar=True)\n",
    "plt.title('Missing Values in England_Reviews Heatmap')"
   ]
  },
  {
   "cell_type": "markdown",
   "id": "29249b2d",
   "metadata": {},
   "source": [
    "### Duplicates"
   ]
  },
  {
   "cell_type": "code",
   "execution_count": 40,
   "id": "c93ce954",
   "metadata": {},
   "outputs": [
    {
     "name": "stdout",
     "output_type": "stream",
     "text": [
      "Total duplicate rows: 2278\n"
     ]
    }
   ],
   "source": [
    "print(\"Total duplicate rows:\", england_recent.duplicated().sum())"
   ]
  },
  {
   "cell_type": "code",
   "execution_count": 41,
   "id": "ff6986c6",
   "metadata": {},
   "outputs": [
    {
     "name": "stdout",
     "output_type": "stream",
     "text": [
      "\n",
      "Percentage of Duplicates in filtered dataset:\n",
      "1.7850006660450248\n"
     ]
    }
   ],
   "source": [
    "duplicated_percentage_recent = (england_recent.duplicated().sum() / len(england_recent)) * 100\n",
    "print(\"\\nPercentage of Duplicates in filtered dataset:\")\n",
    "print(duplicated_percentage_recent)"
   ]
  },
  {
   "cell_type": "markdown",
   "id": "80542f8f",
   "metadata": {},
   "source": [
    "### Most common firms with location containing England and date_review between 2015-2025"
   ]
  },
  {
   "cell_type": "code",
   "execution_count": 42,
   "id": "f4b09805",
   "metadata": {},
   "outputs": [
    {
     "name": "stdout",
     "output_type": "stream",
     "text": [
      "firm\n",
      "Tesco                5318\n",
      "McDonald-s           3348\n",
      "J-Sainsbury          2946\n",
      "NHS                  2881\n",
      "Barclays             2345\n",
      "ASDA                 2208\n",
      "Marks-and-Spencer    2151\n",
      "Primark              1909\n",
      "PwC                  1887\n",
      "Deloitte             1883\n",
      "Name: count, dtype: int64\n"
     ]
    }
   ],
   "source": [
    "top_firms_recent = england_recent['firm'].value_counts().head(10)\n",
    "print(top_firms_recent)"
   ]
  },
  {
   "cell_type": "code",
   "execution_count": 43,
   "id": "44ae6b12",
   "metadata": {},
   "outputs": [
    {
     "name": "stdout",
     "output_type": "stream",
     "text": [
      "Number of unique companies: 416\n"
     ]
    }
   ],
   "source": [
    "unique_companies = england_recent['firm'].nunique()\n",
    "print(\"Number of unique companies:\", unique_companies)"
   ]
  },
  {
   "cell_type": "code",
   "execution_count": 44,
   "id": "85e2ef62",
   "metadata": {},
   "outputs": [],
   "source": [
    "england_recent.to_csv('england_recent.csv', index=False)"
   ]
  },
  {
   "cell_type": "code",
   "execution_count": 45,
   "id": "65ae94c7",
   "metadata": {},
   "outputs": [
    {
     "name": "stdout",
     "output_type": "stream",
     "text": [
      "Top 10 locations within England:\n",
      "location\n",
      "London, England, England                        58665\n",
      "Manchester, England, England                     5619\n",
      "Birmingham, England, England                     4132\n",
      "Leeds, England, England                          3279\n",
      "Bristol, England, England                        2617\n",
      "Cambridge, East of England, England, England     1763\n",
      "Newcastle upon Tyne, England, England            1726\n",
      "Liverpool, England, England                      1635\n",
      "Reading, England, England                        1571\n",
      "Nottingham, England, England                     1540\n",
      "Name: count, dtype: int64\n"
     ]
    }
   ],
   "source": [
    "print(\"Top 10 locations within England:\")\n",
    "print(england_locations.head(10))"
   ]
  },
  {
   "cell_type": "markdown",
   "id": "e6230148",
   "metadata": {},
   "source": [
    "### Filtering out non corporate companies\n",
    "Given the goals of the project, filteringthe data set further to remove revews of non corporate companies (retail, hospitality, service)"
   ]
  },
  {
   "cell_type": "code",
   "execution_count": 46,
   "id": "ac4f1a00",
   "metadata": {},
   "outputs": [],
   "source": [
    "england_recent['firm'] = england_recent['firm'].str.replace('-', ' ')\n",
    "# Load the suggestion list\n",
    "suggestion_df = pd.read_csv(\"Refined_Industry_and_Suggestion_List.csv\")\n",
    "\n",
    "# Filter for rows where suggestion is \"remove\"\n",
    "firms_to_remove = suggestion_df[suggestion_df[\"suggestion\"] == \"remove\"][\"firm\"].dropna().unique()\n",
    "\n",
    "# Filter the main DataFrame\n",
    "england_recent = england_recent[~england_recent[\"firm\"].isin(firms_to_remove)]\n",
    "\n",
    "\n",
    "england_recent.to_csv('filtered_england_recent.csv')"
   ]
  }
 ],
 "metadata": {
  "kernelspec": {
   "display_name": "base",
   "language": "python",
   "name": "python3"
  },
  "language_info": {
   "codemirror_mode": {
    "name": "ipython",
    "version": 3
   },
   "file_extension": ".py",
   "mimetype": "text/x-python",
   "name": "python",
   "nbconvert_exporter": "python",
   "pygments_lexer": "ipython3",
   "version": "3.12.7"
  }
 },
 "nbformat": 4,
 "nbformat_minor": 5
}
